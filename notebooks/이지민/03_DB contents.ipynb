{
 "cells": [
  {
   "cell_type": "code",
   "execution_count": 1,
   "id": "4da05b3f-3443-435e-8329-99d1efd741e3",
   "metadata": {},
   "outputs": [],
   "source": [
    "import os\n",
    "import pandas as pd\n",
    "from sqlalchemy import create_engine"
   ]
  },
  {
   "cell_type": "code",
   "execution_count": 2,
   "id": "e81a9b6b-e345-4c2f-bd76-2284c52d9683",
   "metadata": {},
   "outputs": [],
   "source": [
    "# MySQL 접속 설정\n",
    "username = \"root\"      # MySQL 사용자명\n",
    "password = \"1234\"      # MySQL 비밀번호\n",
    "host = \"127.0.0.1\"     # 로컬호스트\n",
    "port = 3306            # 포트\n",
    "database = \"ott_db\"  # DB 이름\n",
    "\n",
    "# MySQL 엔진 생성\n",
    "engine = create_engine(f\"mysql+pymysql://{username}:{password}@{host}:{port}/{database}\")"
   ]
  },
  {
   "cell_type": "code",
   "execution_count": 3,
   "id": "d94145c1-2f6f-49a4-862c-b3f49a93f8a1",
   "metadata": {},
   "outputs": [
    {
     "name": "stdout",
     "output_type": "stream",
     "text": [
      "2022 데이터: (4536, 1903)\n",
      "2023 데이터: (6326, 929)\n"
     ]
    }
   ],
   "source": [
    "# 데이터 파일 경로 설정\n",
    "folder_path = r\"방송통신위원회_해외 OTT 이용행태조사 원시데이터_20231231\"\n",
    "file_2022 = os.path.join(folder_path, \"2022해외OTT이용행태조사_국가통합(20240403).csv\")\n",
    "file_2023 = os.path.join(folder_path, \"2023해외OTT이용행태조사_국가통합(20240403).csv\")\n",
    "\n",
    "# CSV 읽기\n",
    "df_2022 = pd.read_csv(file_2022, encoding='utf-8-sig', low_memory=False)\n",
    "df_2023 = pd.read_csv(file_2023, encoding='utf-8-sig', low_memory=False)\n",
    "\n",
    "print(\"2022 데이터:\", df_2022.shape)\n",
    "print(\"2023 데이터:\", df_2023.shape)"
   ]
  },
  {
   "cell_type": "markdown",
   "id": "9b1afe79-6c0d-47d1-80ed-fb1897fb24b0",
   "metadata": {},
   "source": [
    "## 3. contents\n",
    "### (1) user_id"
   ]
  },
  {
   "cell_type": "code",
   "execution_count": 4,
   "id": "37ccd7ea-9785-48be-83f7-2c4847d07d7f",
   "metadata": {},
   "outputs": [
    {
     "data": {
      "text/plain": [
       "10862"
      ]
     },
     "execution_count": 4,
     "metadata": {},
     "output_type": "execute_result"
    }
   ],
   "source": [
    "# 1. 2022 user_id 생성\n",
    "df_2022['user_id'] = ('2022' + df_2022['RESPID'].astype(str)).astype(int)\n",
    "# 2. 2023 user_id 생성\n",
    "df_2023['user_id'] = ('2023' + df_2023['id'].astype(str)).astype(int)\n",
    "\n",
    "df_user_id_2022 = df_2022[['user_id']].copy()\n",
    "df_user_id_2023 = df_2023[['user_id']].copy()\n",
    "\n",
    "# 3. 합치기\n",
    "df_user_id = pd.concat([df_user_id_2022, df_user_id_2023], ignore_index=True)\n",
    "\n",
    "# 4. contents 테이블에 user_id 업로드\n",
    "df_user_id.to_sql(name=\"contents\", con=engine, index=False, if_exists=\"replace\")"
   ]
  },
  {
   "cell_type": "code",
   "execution_count": 5,
   "id": "0648cc7b-c597-4f09-8dd5-fe37206fa314",
   "metadata": {},
   "outputs": [],
   "source": [
    "def add_column_to_contents(df_contents, df_2022, df_2023, col_2022, col_2023, new_col_name,\n",
    "                       mapping_2022=None, mapping_2023=None, default_value='이용안함'):\n",
    "    \"\"\"\n",
    "    contents 테이블에 새로운 컬럼을 추가하는 함수\n",
    "    \"\"\"\n",
    "    # 2022 데이터 처리\n",
    "    df_2022_col = df_2022[['user_id', col_2022]].copy()\n",
    "    df_2022_col = df_2022_col.rename(columns={col_2022: new_col_name})\n",
    "    df_2022_col[new_col_name] = pd.to_numeric(df_2022_col[new_col_name], errors='coerce')  # 숫자 변환\n",
    "    if mapping_2022:\n",
    "        df_2022_col[new_col_name] = df_2022_col[new_col_name].map(mapping_2022).fillna(default_value)\n",
    "    else:\n",
    "        df_2022_col[new_col_name] = df_2022_col[new_col_name].fillna(default_value)\n",
    "\n",
    "    # 2023 데이터 처리\n",
    "    df_2023_col = df_2023[['user_id', col_2023]].copy()\n",
    "    df_2023_col = df_2023_col.rename(columns={col_2023: new_col_name})\n",
    "    df_2023_col[new_col_name] = pd.to_numeric(df_2023_col[new_col_name], errors='coerce')  # 숫자 변환\n",
    "    if mapping_2023:\n",
    "        df_2023_col[new_col_name] = df_2023_col[new_col_name].map(mapping_2023).fillna(default_value)\n",
    "    else:\n",
    "        df_2023_col[new_col_name] = df_2023_col[new_col_name].fillna(default_value)\n",
    "\n",
    "    # 합치기\n",
    "    df_new_col = pd.concat([df_2022_col, df_2023_col], ignore_index=True)\n",
    "\n",
    "    # contents 테이블 병합\n",
    "    df_contents = df_contents.merge(df_new_col, on='user_id', how='left')\n",
    "\n",
    "    return df_contents"
   ]
  },
  {
   "cell_type": "code",
   "execution_count": 6,
   "id": "9099b023-320b-4c45-ba9d-16b9dc11eb31",
   "metadata": {},
   "outputs": [],
   "source": [
    "# 현재 contents 테이블 불러오기\n",
    "df_contents = pd.read_sql(\"SELECT * FROM contents\", con=engine)"
   ]
  },
  {
   "cell_type": "markdown",
   "id": "d1ce5c96-5778-463d-9c04-fd3842e955d0",
   "metadata": {},
   "source": [
    "### (1) frequency_series"
   ]
  },
  {
   "cell_type": "code",
   "execution_count": 7,
   "id": "9c3c813a-19ff-47cf-9ba1-56dffaa1871f",
   "metadata": {},
   "outputs": [],
   "source": [
    "frequency_map = {\n",
    "    1: '매일',\n",
    "    2: '1주일에 5~6일',\n",
    "    3: '1주일에 3~4일',\n",
    "    4: '1주일에 1~2일',\n",
    "    5: '한 달에 1~3일',\n",
    "    6: '2~3달에 1~2일 이하'\n",
    "}\n",
    "\n",
    "df_contents = add_column_to_contents(\n",
    "    df_contents, df_2022, df_2023,\n",
    "    col_2022=\"D1_1\", col_2023=\"C1_1\",\n",
    "    new_col_name=\"frequency_series\",\n",
    "    mapping_2022=frequency_map,\n",
    "    mapping_2023=frequency_map\n",
    ")"
   ]
  },
  {
   "cell_type": "markdown",
   "id": "1c7e87d6-b830-45ec-a8f6-fe233772022f",
   "metadata": {},
   "source": [
    "### (2) frequency_movie"
   ]
  },
  {
   "cell_type": "code",
   "execution_count": 8,
   "id": "b8b8661f-217e-40e7-a289-6f1f6eb9bc5f",
   "metadata": {},
   "outputs": [],
   "source": [
    "df_contents = add_column_to_contents(\n",
    "    df_contents, df_2022, df_2023,\n",
    "    col_2022=\"D1_2\", col_2023=\"C1_2\",\n",
    "    new_col_name=\"frequency_movie\",\n",
    "    mapping_2022=frequency_map,\n",
    "    mapping_2023=frequency_map\n",
    ")"
   ]
  },
  {
   "cell_type": "markdown",
   "id": "92155635-0fe9-4d07-adda-304ecdf84339",
   "metadata": {},
   "source": [
    "### (3) frequency_variety"
   ]
  },
  {
   "cell_type": "code",
   "execution_count": 9,
   "id": "f2b86f8d-97ca-477d-a4ba-1129a35f10ec",
   "metadata": {},
   "outputs": [],
   "source": [
    "df_contents = add_column_to_contents(\n",
    "    df_contents, df_2022, df_2023,\n",
    "    col_2022=\"D1_3\", col_2023=\"C1_3\",\n",
    "    new_col_name=\"frequency_variety\",\n",
    "    mapping_2022=frequency_map,\n",
    "    mapping_2023=frequency_map\n",
    ")"
   ]
  },
  {
   "cell_type": "code",
   "execution_count": 10,
   "id": "74277523-65a3-4caf-9b93-6d6c1b513aec",
   "metadata": {},
   "outputs": [],
   "source": [
    "def add_genre_column_2022(df_contents, df_2022, col_2022, new_col_name, target_code, convert_value=1):\n",
    "    \"\"\"\n",
    "    contents 테이블에 2022년 장르 관련 컬럼 추가\n",
    "    \"\"\"\n",
    "    df_2022_part = df_2022[['user_id', col_2022]].copy()\n",
    "    df_2022_part = df_2022_part.rename(columns={col_2022: new_col_name})\n",
    "\n",
    "    df_2022_part[new_col_name] = (\n",
    "        df_2022_part[new_col_name]\n",
    "        .replace(' ', pd.NA)\n",
    "        .fillna(pd.NA)\n",
    "        .astype(\"Int64\")\n",
    "        .apply(lambda x: convert_value if x == target_code else 0 if pd.notna(x) else pd.NA)\n",
    "    ).astype(\"Int64\")\n",
    "\n",
    "    df_contents = df_contents.merge(df_2022_part, on='user_id', how='left')\n",
    "    return df_contents\n"
   ]
  },
  {
   "cell_type": "code",
   "execution_count": 11,
   "id": "6bac24a0-8ff5-4cd2-99f2-e4bd124555e4",
   "metadata": {},
   "outputs": [],
   "source": [
    "def add_genre_column_2023(df_contents, df_2023, cols_2023, new_col_name, target_code, convert_value=1):\n",
    "    \"\"\"\n",
    "    contents 테이블에 2023년 장르 관련 컬럼 추가\n",
    "    \"\"\"\n",
    "    df_2023_part = df_2023[['user_id'] + cols_2023].copy()\n",
    "\n",
    "    # 공백 및 NaN 처리\n",
    "    df_2023_part[cols_2023] = df_2023_part[cols_2023].replace(' ', pd.NA)\n",
    "    df_2023_part[cols_2023] = df_2023_part[cols_2023].apply(pd.to_numeric, errors='coerce')\n",
    "\n",
    "    # target_code 포함 여부 확인\n",
    "    df_2023_part[new_col_name] = df_2023_part[cols_2023].apply(\n",
    "        lambda row: convert_value if target_code in row.dropna().values else 0, axis=1\n",
    "    ).astype(\"Int64\")\n",
    "\n",
    "    df_2023_part = df_2023_part[['user_id', new_col_name]]\n",
    "    df_contents = df_contents.merge(df_2023_part, on='user_id', how='left')\n",
    "    return df_contents"
   ]
  },
  {
   "cell_type": "markdown",
   "id": "87adf57a-a5fd-4974-91a8-1a23a6ed116f",
   "metadata": {},
   "source": [
    "### (4) genre_series_movie_rom_2022, genre_series_movie_rom_2023"
   ]
  },
  {
   "cell_type": "code",
   "execution_count": 12,
   "id": "046274ba-181f-4903-9a35-f98ba2312c1b",
   "metadata": {},
   "outputs": [],
   "source": [
    "df_contents = add_genre_column_2022(\n",
    "    df_contents, df_2022,\n",
    "    col_2022='D2_1',\n",
    "    new_col_name='genre_series_movie_rom_2022',\n",
    "    target_code=1\n",
    ")\n",
    "\n",
    "df_contents = add_genre_column_2023(\n",
    "    df_contents, df_2023,\n",
    "    cols_2023=[\n",
    "        'C3', 'C3_m2', 'C3_m3', 'C3_m4', 'C3_m5',\n",
    "        'C3_m6', 'C3_m7', 'C3_m8', 'C3_m9', 'C3_m10',\n",
    "        'C3_m11', 'C3_m12', 'C3_m13'\n",
    "    ],\n",
    "    new_col_name='genre_series_movie_rom_2023',\n",
    "    target_code=1\n",
    ")"
   ]
  },
  {
   "cell_type": "markdown",
   "id": "439bba1e-d1e9-4209-a81d-b03aa3023181",
   "metadata": {},
   "source": [
    "### (5) genre_series_movie_fant_2022, genre_series_movie_fant_2023"
   ]
  },
  {
   "cell_type": "code",
   "execution_count": 13,
   "id": "f951b045-da4b-4766-b298-ae7b3436991f",
   "metadata": {},
   "outputs": [],
   "source": [
    "df_contents = add_genre_column_2022(\n",
    "    df_contents, df_2022,\n",
    "    col_2022='D2_2',\n",
    "    new_col_name='genre_series_movie_fant_2022',\n",
    "    target_code=2\n",
    ")\n",
    "\n",
    "df_contents = add_genre_column_2023(\n",
    "    df_contents, df_2023,\n",
    "    cols_2023=[\n",
    "        'C3', 'C3_m2', 'C3_m3', 'C3_m4', 'C3_m5',\n",
    "        'C3_m6', 'C3_m7', 'C3_m8', 'C3_m9', 'C3_m10',\n",
    "        'C3_m11', 'C3_m12', 'C3_m13'\n",
    "    ],\n",
    "    new_col_name='genre_series_movie_fant_2023',\n",
    "    target_code=2\n",
    ")"
   ]
  },
  {
   "cell_type": "markdown",
   "id": "78692be9-fba3-4dcf-8c04-b05fe136a3fe",
   "metadata": {},
   "source": [
    "### (6) genre_series_movie_action_2022, genre_series_movie_action_2023"
   ]
  },
  {
   "cell_type": "code",
   "execution_count": 14,
   "id": "33a22d96-554a-4096-a0ca-1e3caec7d81f",
   "metadata": {},
   "outputs": [],
   "source": [
    "df_contents = add_genre_column_2022(\n",
    "    df_contents, df_2022,\n",
    "    col_2022='D2_3',\n",
    "    new_col_name='genre_series_movie_action_2022',\n",
    "    target_code=3\n",
    ")\n",
    "\n",
    "df_contents = add_genre_column_2023(\n",
    "    df_contents, df_2023,\n",
    "    cols_2023=[\n",
    "        'C3', 'C3_m2', 'C3_m3', 'C3_m4', 'C3_m5',\n",
    "        'C3_m6', 'C3_m7', 'C3_m8', 'C3_m9', 'C3_m10',\n",
    "        'C3_m11', 'C3_m12', 'C3_m13'\n",
    "    ],\n",
    "    new_col_name='genre_series_movie_action_2023',\n",
    "    target_code=3\n",
    ")"
   ]
  },
  {
   "cell_type": "markdown",
   "id": "ce7cf7ee-4928-48a5-8b5b-b6f26e32792a",
   "metadata": {},
   "source": [
    "### (7) genre_series_movie_horr_2022, genre_series_movie_horr_2023"
   ]
  },
  {
   "cell_type": "code",
   "execution_count": 15,
   "id": "d7a295af-8385-4c55-ad3f-4ab9b1a72865",
   "metadata": {},
   "outputs": [],
   "source": [
    "df_contents = add_genre_column_2022(\n",
    "    df_contents, df_2022,\n",
    "    col_2022='D2_4',\n",
    "    new_col_name='genre_series_movie_horr_2022',\n",
    "    target_code=4\n",
    ")\n",
    "\n",
    "df_contents = add_genre_column_2023(\n",
    "    df_contents, df_2023,\n",
    "    cols_2023=[\n",
    "        'C3', 'C3_m2', 'C3_m3', 'C3_m4', 'C3_m5',\n",
    "        'C3_m6', 'C3_m7', 'C3_m8', 'C3_m9', 'C3_m10',\n",
    "        'C3_m11', 'C3_m12', 'C3_m13'\n",
    "    ],\n",
    "    new_col_name='genre_series_movie_horr_2023',\n",
    "    target_code=4\n",
    ")"
   ]
  },
  {
   "cell_type": "markdown",
   "id": "7701552d-8404-4570-8d8d-29aed36d1448",
   "metadata": {},
   "source": [
    "### (8) genre_series_movie_comedy_2023"
   ]
  },
  {
   "cell_type": "code",
   "execution_count": 16,
   "id": "4333e32a-055c-401b-86ae-81dd99b04bb4",
   "metadata": {},
   "outputs": [],
   "source": [
    "df_contents = add_genre_column_2023(\n",
    "    df_contents, df_2023,\n",
    "    cols_2023=[\n",
    "        'C3', 'C3_m2', 'C3_m3', 'C3_m4', 'C3_m5',\n",
    "        'C3_m6', 'C3_m7', 'C3_m8', 'C3_m9', 'C3_m10',\n",
    "        'C3_m11', 'C3_m12', 'C3_m13'\n",
    "    ],\n",
    "    new_col_name='genre_series_movie_comedy_2023',\n",
    "    target_code=5\n",
    ")"
   ]
  },
  {
   "cell_type": "markdown",
   "id": "67b721a9-52da-4e8c-be61-42259ff6e241",
   "metadata": {},
   "source": [
    "### (9) genre_series_movie_history_2022, genre_series_movie_history_2023"
   ]
  },
  {
   "cell_type": "code",
   "execution_count": 17,
   "id": "63242292-3085-4ac5-856f-63cef6e5bc17",
   "metadata": {},
   "outputs": [],
   "source": [
    "df_contents = add_genre_column_2022(\n",
    "    df_contents, df_2022,\n",
    "    col_2022='D2_5',\n",
    "    new_col_name='genre_series_movie_history_2022',\n",
    "    target_code=5\n",
    ")\n",
    "\n",
    "df_contents = add_genre_column_2023(\n",
    "    df_contents, df_2023,\n",
    "    cols_2023=[\n",
    "        'C3', 'C3_m2', 'C3_m3', 'C3_m4', 'C3_m5',\n",
    "        'C3_m6', 'C3_m7', 'C3_m8', 'C3_m9', 'C3_m10',\n",
    "        'C3_m11', 'C3_m12', 'C3_m13'\n",
    "    ],\n",
    "    new_col_name='genre_series_movie_history_2023',\n",
    "    target_code=6\n",
    ")"
   ]
  },
  {
   "cell_type": "markdown",
   "id": "c1994bd4-258a-4917-bfcb-180d6d325971",
   "metadata": {},
   "source": [
    "### (10) genre_series_movie_human_2022, genre_series_movie_human_2023"
   ]
  },
  {
   "cell_type": "code",
   "execution_count": 18,
   "id": "7ccc4fa6-bb93-4fe3-b3e2-5f8fd012141a",
   "metadata": {},
   "outputs": [],
   "source": [
    "df_contents = add_genre_column_2022(\n",
    "    df_contents, df_2022,\n",
    "    col_2022='D2_6',\n",
    "    new_col_name='genre_series_movie_human_2022',\n",
    "    target_code=6\n",
    ")\n",
    "\n",
    "df_contents = add_genre_column_2023(\n",
    "    df_contents, df_2023,\n",
    "    cols_2023=[\n",
    "        'C3', 'C3_m2', 'C3_m3', 'C3_m4', 'C3_m5',\n",
    "        'C3_m6', 'C3_m7', 'C3_m8', 'C3_m9', 'C3_m10',\n",
    "        'C3_m11', 'C3_m12', 'C3_m13'\n",
    "    ],\n",
    "    new_col_name='genre_series_movie_human_2023',\n",
    "    target_code=7\n",
    ")"
   ]
  },
  {
   "cell_type": "markdown",
   "id": "fe04c22f-a15a-4b2a-b562-523c650ef9e5",
   "metadata": {},
   "source": [
    "### (11) genre_series_movie_docu_2022, genre_series_movie_docu_2023"
   ]
  },
  {
   "cell_type": "code",
   "execution_count": 19,
   "id": "acfcdfaa-a28b-4e22-9d55-b3ceeb791999",
   "metadata": {},
   "outputs": [],
   "source": [
    "df_contents = add_genre_column_2022(\n",
    "    df_contents, df_2022,\n",
    "    col_2022='D2_7',\n",
    "    new_col_name='genre_series_movie_docu_2022',\n",
    "    target_code=7\n",
    ")\n",
    "\n",
    "df_contents = add_genre_column_2023(\n",
    "    df_contents, df_2023,\n",
    "    cols_2023=[\n",
    "        'C3', 'C3_m2', 'C3_m3', 'C3_m4', 'C3_m5',\n",
    "        'C3_m6', 'C3_m7', 'C3_m8', 'C3_m9', 'C3_m10',\n",
    "        'C3_m11', 'C3_m12', 'C3_m13'\n",
    "    ],\n",
    "    new_col_name='genre_series_movie_docu_2023',\n",
    "    target_code=8\n",
    ")"
   ]
  },
  {
   "cell_type": "markdown",
   "id": "9687ffc1-81bf-489a-b0a9-b35118995667",
   "metadata": {},
   "source": [
    "### (12) genre_series_movie_musical_2022, genre_series_movie_musical_2023"
   ]
  },
  {
   "cell_type": "code",
   "execution_count": 20,
   "id": "db6048fd-5878-4e37-94db-71281ebe9a63",
   "metadata": {},
   "outputs": [],
   "source": [
    "df_contents = add_genre_column_2022(\n",
    "    df_contents, df_2022,\n",
    "    col_2022='D2_8',\n",
    "    new_col_name='genre_series_movie_musical_2022',\n",
    "    target_code=8\n",
    ")\n",
    "\n",
    "df_contents = add_genre_column_2023(\n",
    "    df_contents, df_2023,\n",
    "    cols_2023=[\n",
    "        'C3', 'C3_m2', 'C3_m3', 'C3_m4', 'C3_m5',\n",
    "        'C3_m6', 'C3_m7', 'C3_m8', 'C3_m9', 'C3_m10',\n",
    "        'C3_m11', 'C3_m12', 'C3_m13'\n",
    "    ],\n",
    "    new_col_name='genre_series_movie_musical_2023',\n",
    "    target_code=9\n",
    ")"
   ]
  },
  {
   "cell_type": "markdown",
   "id": "22cc30e7-3a67-4e7c-bd90-fa90cc81d0ed",
   "metadata": {},
   "source": [
    "### (13) genre_series_movie_ani_2023"
   ]
  },
  {
   "cell_type": "code",
   "execution_count": 21,
   "id": "34270228-c122-46ef-a1e8-b11265aa8208",
   "metadata": {},
   "outputs": [],
   "source": [
    "df_contents = add_genre_column_2023(\n",
    "    df_contents, df_2023,\n",
    "    cols_2023=[\n",
    "        'C3', 'C3_m2', 'C3_m3', 'C3_m4', 'C3_m5',\n",
    "        'C3_m6', 'C3_m7', 'C3_m8', 'C3_m9', 'C3_m10',\n",
    "        'C3_m11', 'C3_m12', 'C3_m13'\n",
    "    ],\n",
    "    new_col_name='genre_series_movie_ani_2023',\n",
    "    target_code=10\n",
    ")"
   ]
  },
  {
   "cell_type": "markdown",
   "id": "c8e96df3-d57a-4e20-87e2-3ab1524709e2",
   "metadata": {},
   "source": [
    "### (14) genre_series_movie_kids_2023"
   ]
  },
  {
   "cell_type": "code",
   "execution_count": 22,
   "id": "3fdb5db2-a680-4095-87b8-4d9404f1d78d",
   "metadata": {},
   "outputs": [],
   "source": [
    "df_contents = add_genre_column_2023(\n",
    "    df_contents, df_2023,\n",
    "    cols_2023=[\n",
    "        'C3', 'C3_m2', 'C3_m3', 'C3_m4', 'C3_m5',\n",
    "        'C3_m6', 'C3_m7', 'C3_m8', 'C3_m9', 'C3_m10',\n",
    "        'C3_m11', 'C3_m12', 'C3_m13'\n",
    "    ],\n",
    "    new_col_name='genre_series_movie_kids_2023',\n",
    "    target_code=11\n",
    ")"
   ]
  },
  {
   "cell_type": "markdown",
   "id": "499e1e7e-5637-4099-8d20-612bafbfa14c",
   "metadata": {},
   "source": [
    "### (15) genre_series_movie_teleno_2023"
   ]
  },
  {
   "cell_type": "code",
   "execution_count": 23,
   "id": "6f99168a-e9bb-4818-a17f-3952e097428e",
   "metadata": {},
   "outputs": [],
   "source": [
    "df_contents = add_genre_column_2023(\n",
    "    df_contents, df_2023,\n",
    "    cols_2023=[\n",
    "        'C3', 'C3_m2', 'C3_m3', 'C3_m4', 'C3_m5',\n",
    "        'C3_m6', 'C3_m7', 'C3_m8', 'C3_m9', 'C3_m10',\n",
    "        'C3_m11', 'C3_m12', 'C3_m13'\n",
    "    ],\n",
    "    new_col_name='genre_series_movie_teleno_2023',\n",
    "    target_code=12\n",
    ")"
   ]
  },
  {
   "cell_type": "markdown",
   "id": "08a51255-7c4e-42b8-aed8-0b90fd2cc95e",
   "metadata": {},
   "source": [
    "### (16) genre_series_movie_etc_2022, genre_series_movie_etc_2023"
   ]
  },
  {
   "cell_type": "code",
   "execution_count": 24,
   "id": "3b209a81-0ae8-4834-bdb6-2722fe2a3652",
   "metadata": {},
   "outputs": [],
   "source": [
    "df_contents = add_genre_column_2022(\n",
    "    df_contents, df_2022,\n",
    "    col_2022='D2_9',\n",
    "    new_col_name='genre_series_movie_etc_2022',\n",
    "    target_code=9\n",
    ")\n",
    "\n",
    "df_contents = add_genre_column_2023(\n",
    "    df_contents, df_2023,\n",
    "    cols_2023=[\n",
    "        'C3', 'C3_m2', 'C3_m3', 'C3_m4', 'C3_m5',\n",
    "        'C3_m6', 'C3_m7', 'C3_m8', 'C3_m9', 'C3_m10',\n",
    "        'C3_m11', 'C3_m12', 'C3_m13'\n",
    "    ],\n",
    "    new_col_name='genre_series_movie_etc_2023',\n",
    "    target_code=13\n",
    ")"
   ]
  },
  {
   "cell_type": "markdown",
   "id": "a8b84e9d-6530-4362-882f-4aa689f931ce",
   "metadata": {},
   "source": [
    "### (17) genre_variety_game_2022, genre_variety_game_2023"
   ]
  },
  {
   "cell_type": "code",
   "execution_count": 25,
   "id": "cc52b9f9-b2fc-48a6-9d35-dee326fc425f",
   "metadata": {},
   "outputs": [],
   "source": [
    "df_contents = add_genre_column_2022(\n",
    "    df_contents, df_2022,\n",
    "    col_2022='D3_1',\n",
    "    new_col_name='genre_variety_game_2022',\n",
    "    target_code=1\n",
    ")\n",
    "\n",
    "df_contents = add_genre_column_2023(\n",
    "    df_contents, df_2023,\n",
    "    cols_2023=[\n",
    "        'C6', 'C6_m2', 'C6_m3', 'C6_m4', 'C6_m5',\n",
    "        'C6_m6', 'C6_m7', 'C6_m8', 'C6_m9', 'C6_m10',\n",
    "        'C6_m11', 'C6_m12', 'C6_m13', 'C6_m14'\n",
    "    ],\n",
    "    new_col_name='genre_variety_game_2023',\n",
    "    target_code=1\n",
    ")"
   ]
  },
  {
   "cell_type": "markdown",
   "id": "ced2e9c8-0edd-4790-81b3-750548dcd4b9",
   "metadata": {},
   "source": [
    "### (18) genre_variety_travel_2022, genre_variety_travel_2023"
   ]
  },
  {
   "cell_type": "code",
   "execution_count": 26,
   "id": "17b96a85-7e21-49bb-bf71-a25073a934de",
   "metadata": {},
   "outputs": [],
   "source": [
    "df_contents = add_genre_column_2022(\n",
    "    df_contents, df_2022,\n",
    "    col_2022='D3_2',\n",
    "    new_col_name='genre_variety_travel_2022',\n",
    "    target_code=2\n",
    ")\n",
    "\n",
    "df_contents = add_genre_column_2023(\n",
    "    df_contents, df_2023,\n",
    "    cols_2023=[\n",
    "        'C6', 'C6_m2', 'C6_m3', 'C6_m4', 'C6_m5',\n",
    "        'C6_m6', 'C6_m7', 'C6_m8', 'C6_m9', 'C6_m10',\n",
    "        'C6_m11', 'C6_m12', 'C6_m13', 'C6_m14'\n",
    "    ],\n",
    "    new_col_name='genre_variety_travel_2023',\n",
    "    target_code=2\n",
    ")"
   ]
  },
  {
   "cell_type": "markdown",
   "id": "8b703464-7567-499b-b755-d7c52be72392",
   "metadata": {},
   "source": [
    "### (19) genre_variety_observe_2022, genre_variety_observe_2023"
   ]
  },
  {
   "cell_type": "code",
   "execution_count": 27,
   "id": "31065db9-b8e3-4de9-8957-c822ca9b67b9",
   "metadata": {},
   "outputs": [],
   "source": [
    "df_contents = add_genre_column_2022(\n",
    "    df_contents, df_2022,\n",
    "    col_2022='D3_3',\n",
    "    new_col_name='genre_variety_observe_2022',\n",
    "    target_code=3\n",
    ")\n",
    "\n",
    "df_contents = add_genre_column_2023(\n",
    "    df_contents, df_2023,\n",
    "    cols_2023=[\n",
    "        'C6', 'C6_m2', 'C6_m3', 'C6_m4', 'C6_m5',\n",
    "        'C6_m6', 'C6_m7', 'C6_m8', 'C6_m9', 'C6_m10',\n",
    "        'C6_m11', 'C6_m12', 'C6_m13', 'C6_m14'\n",
    "    ],\n",
    "    new_col_name='genre_variety_observe_2023',\n",
    "    target_code=3\n",
    ")"
   ]
  },
  {
   "cell_type": "markdown",
   "id": "4395c600-abd4-4178-88da-d265bd983c21",
   "metadata": {},
   "source": [
    "### (20) genre_variety_reality_2022, genre_variety_reality_2023"
   ]
  },
  {
   "cell_type": "code",
   "execution_count": 28,
   "id": "e9789a8d-03db-4a8c-a4a6-a4ed5f756825",
   "metadata": {},
   "outputs": [],
   "source": [
    "df_contents = add_genre_column_2022(\n",
    "    df_contents, df_2022,\n",
    "    col_2022='D3_4',\n",
    "    new_col_name='genre_variety_reality_2022',\n",
    "    target_code=4\n",
    ")\n",
    "\n",
    "df_contents = add_genre_column_2023(\n",
    "    df_contents, df_2023,\n",
    "    cols_2023=[\n",
    "        'C6', 'C6_m2', 'C6_m3', 'C6_m4', 'C6_m5',\n",
    "        'C6_m6', 'C6_m7', 'C6_m8', 'C6_m9', 'C6_m10',\n",
    "        'C6_m11', 'C6_m12', 'C6_m13', 'C6_m14'\n",
    "    ],\n",
    "    new_col_name='genre_variety_reality_2023',\n",
    "    target_code=4\n",
    ")"
   ]
  },
  {
   "cell_type": "markdown",
   "id": "738398f5-2529-45cb-97ff-51b3fe4dda17",
   "metadata": {},
   "source": [
    "### (21) genre_variety_audition_2023"
   ]
  },
  {
   "cell_type": "code",
   "execution_count": 29,
   "id": "8c7638e3-497e-40ca-842a-e8cc047a6f73",
   "metadata": {},
   "outputs": [],
   "source": [
    "df_contents = add_genre_column_2023(\n",
    "    df_contents, df_2023,\n",
    "    cols_2023=[\n",
    "        'C6', 'C6_m2', 'C6_m3', 'C6_m4', 'C6_m5',\n",
    "        'C6_m6', 'C6_m7', 'C6_m8', 'C6_m9', 'C6_m10',\n",
    "        'C6_m11', 'C6_m12', 'C6_m13', 'C6_m14'\n",
    "    ],\n",
    "    new_col_name='genre_variety_audition_2023',\n",
    "    target_code=5\n",
    ")"
   ]
  },
  {
   "cell_type": "markdown",
   "id": "b6ec9c46-7c8e-4386-9099-d3bc22298a86",
   "metadata": {},
   "source": [
    "### (22) genre_variety_survival_2022, genre_variety_survival_2023"
   ]
  },
  {
   "cell_type": "code",
   "execution_count": 30,
   "id": "7c965373-4a1e-40fd-b36d-719d83f20532",
   "metadata": {},
   "outputs": [],
   "source": [
    "df_contents = add_genre_column_2022(\n",
    "    df_contents, df_2022,\n",
    "    col_2022='D3_5',\n",
    "    new_col_name='genre_variety_survival_2022',\n",
    "    target_code=5\n",
    ")\n",
    "\n",
    "df_contents = add_genre_column_2023(\n",
    "    df_contents, df_2023,\n",
    "    cols_2023=[\n",
    "        'C6', 'C6_m2', 'C6_m3', 'C6_m4', 'C6_m5',\n",
    "        'C6_m6', 'C6_m7', 'C6_m8', 'C6_m9', 'C6_m10',\n",
    "        'C6_m11', 'C6_m12', 'C6_m13', 'C6_m14'\n",
    "    ],\n",
    "    new_col_name='genre_variety_survival_2023',\n",
    "    target_code=6\n",
    ")"
   ]
  },
  {
   "cell_type": "markdown",
   "id": "55855781-8530-43ce-8ff1-e9786977c9bb",
   "metadata": {},
   "source": [
    "### (23) genre_variety_culture_2022, genre_variety_culture_2023"
   ]
  },
  {
   "cell_type": "code",
   "execution_count": 31,
   "id": "bbeb77ae-75c0-45c4-aa79-06f37fef8e7d",
   "metadata": {},
   "outputs": [],
   "source": [
    "df_contents = add_genre_column_2022(\n",
    "    df_contents, df_2022,\n",
    "    col_2022='D3_6',\n",
    "    new_col_name='genre_variety_culture_2022',\n",
    "    target_code=6\n",
    ")\n",
    "\n",
    "df_contents = add_genre_column_2023(\n",
    "    df_contents, df_2023,\n",
    "    cols_2023=[\n",
    "        'C6', 'C6_m2', 'C6_m3', 'C6_m4', 'C6_m5',\n",
    "        'C6_m6', 'C6_m7', 'C6_m8', 'C6_m9', 'C6_m10',\n",
    "        'C6_m11', 'C6_m12', 'C6_m13', 'C6_m14'\n",
    "    ],\n",
    "    new_col_name='genre_variety_culture_2023',\n",
    "    target_code=7\n",
    ")"
   ]
  },
  {
   "cell_type": "markdown",
   "id": "4deae360-ee63-4899-b2aa-c711b286079f",
   "metadata": {},
   "source": [
    "### (24) genre_variety_counsel_2023"
   ]
  },
  {
   "cell_type": "code",
   "execution_count": 32,
   "id": "68b8c207-3c8d-4444-9fd8-a0879cf6a4fc",
   "metadata": {},
   "outputs": [],
   "source": [
    "df_contents = add_genre_column_2023(\n",
    "    df_contents, df_2023,\n",
    "    cols_2023=[\n",
    "        'C6', 'C6_m2', 'C6_m3', 'C6_m4', 'C6_m5',\n",
    "        'C6_m6', 'C6_m7', 'C6_m8', 'C6_m9', 'C6_m10',\n",
    "        'C6_m11', 'C6_m12', 'C6_m13', 'C6_m14'\n",
    "    ],\n",
    "    new_col_name='genre_variety_counsel_2023',\n",
    "    target_code=8\n",
    ")"
   ]
  },
  {
   "cell_type": "markdown",
   "id": "35fabcb4-9687-4927-8d3e-496e82f1c31b",
   "metadata": {},
   "source": [
    "### (25) genre_variety_edu_2023"
   ]
  },
  {
   "cell_type": "code",
   "execution_count": 33,
   "id": "9c5f32cf-34b9-48c1-9e97-8561f2531cf5",
   "metadata": {},
   "outputs": [],
   "source": [
    "df_contents = add_genre_column_2023(\n",
    "    df_contents, df_2023,\n",
    "    cols_2023=[\n",
    "        'C6', 'C6_m2', 'C6_m3', 'C6_m4', 'C6_m5',\n",
    "        'C6_m6', 'C6_m7', 'C6_m8', 'C6_m9', 'C6_m10',\n",
    "        'C6_m11', 'C6_m12', 'C6_m13', 'C6_m14'\n",
    "    ],\n",
    "    new_col_name='genre_variety_edu_2023',\n",
    "    target_code=9\n",
    ")"
   ]
  },
  {
   "cell_type": "markdown",
   "id": "5247c5e0-6a30-4350-b95c-055d9d8ff6d0",
   "metadata": {},
   "source": [
    "### (26) genre_variety_talkshow_2023"
   ]
  },
  {
   "cell_type": "code",
   "execution_count": 34,
   "id": "88b90f15-2dc6-416f-a55b-75ad6f90d615",
   "metadata": {},
   "outputs": [],
   "source": [
    "df_contents = add_genre_column_2023(\n",
    "    df_contents, df_2023,\n",
    "    cols_2023=[\n",
    "        'C6', 'C6_m2', 'C6_m3', 'C6_m4', 'C6_m5',\n",
    "        'C6_m6', 'C6_m7', 'C6_m8', 'C6_m9', 'C6_m10',\n",
    "        'C6_m11', 'C6_m12', 'C6_m13', 'C6_m14'\n",
    "    ],\n",
    "    new_col_name='genre_variety_talkshow_2023',\n",
    "    target_code=10\n",
    ")"
   ]
  },
  {
   "cell_type": "markdown",
   "id": "2c2c4a2a-2e67-4025-b986-2d34faba0261",
   "metadata": {},
   "source": [
    "### (27) genre_variety_quizshow_2023"
   ]
  },
  {
   "cell_type": "code",
   "execution_count": 35,
   "id": "4b86ba9d-41d8-485b-b516-d86e4e633997",
   "metadata": {},
   "outputs": [],
   "source": [
    "df_contents = add_genre_column_2023(\n",
    "    df_contents, df_2023,\n",
    "    cols_2023=[\n",
    "        'C6', 'C6_m2', 'C6_m3', 'C6_m4', 'C6_m5',\n",
    "        'C6_m6', 'C6_m7', 'C6_m8', 'C6_m9', 'C6_m10',\n",
    "        'C6_m11', 'C6_m12', 'C6_m13', 'C6_m14'\n",
    "    ],\n",
    "    new_col_name='genre_variety_quizshow_2023',\n",
    "    target_code=11\n",
    ")"
   ]
  },
  {
   "cell_type": "markdown",
   "id": "7f36e08f-67c4-4ca3-aaf4-66a964e987f6",
   "metadata": {},
   "source": [
    "### (28) genre_variety_varshow_2023"
   ]
  },
  {
   "cell_type": "code",
   "execution_count": 36,
   "id": "4676c5e0-ec6e-446a-9688-432455aa6cb2",
   "metadata": {},
   "outputs": [],
   "source": [
    "df_contents = add_genre_column_2023(\n",
    "    df_contents, df_2023,\n",
    "    cols_2023=[\n",
    "        'C6', 'C6_m2', 'C6_m3', 'C6_m4', 'C6_m5',\n",
    "        'C6_m6', 'C6_m7', 'C6_m8', 'C6_m9', 'C6_m10',\n",
    "        'C6_m11', 'C6_m12', 'C6_m13', 'C6_m14'\n",
    "    ],\n",
    "    new_col_name='genre_variety_varshow_2023',\n",
    "    target_code=12\n",
    ")"
   ]
  },
  {
   "cell_type": "markdown",
   "id": "12a38e04-42c1-402e-93e4-70bd41074442",
   "metadata": {},
   "source": [
    "### (29) genre_variety_married_2023"
   ]
  },
  {
   "cell_type": "code",
   "execution_count": 37,
   "id": "33154538-c36c-41e6-a367-181e36319a87",
   "metadata": {},
   "outputs": [],
   "source": [
    "df_contents = add_genre_column_2023(\n",
    "    df_contents, df_2023,\n",
    "    cols_2023=[\n",
    "        'C6', 'C6_m2', 'C6_m3', 'C6_m4', 'C6_m5',\n",
    "        'C6_m6', 'C6_m7', 'C6_m8', 'C6_m9', 'C6_m10',\n",
    "        'C6_m11', 'C6_m12', 'C6_m13', 'C6_m14'\n",
    "    ],\n",
    "    new_col_name='genre_variety_married_2023',\n",
    "    target_code=13\n",
    ")"
   ]
  },
  {
   "cell_type": "markdown",
   "id": "d8d27d5f-0cc9-4a23-89c7-6fe028ce23cf",
   "metadata": {},
   "source": [
    "### (30) genre_variety_etc_2022, genre_variety_etc_2023"
   ]
  },
  {
   "cell_type": "code",
   "execution_count": 38,
   "id": "53d58942-d1ff-4661-81e3-655e7a262a51",
   "metadata": {},
   "outputs": [],
   "source": [
    "df_contents = add_genre_column_2022(\n",
    "    df_contents, df_2022,\n",
    "    col_2022='D3_7',\n",
    "    new_col_name='genre_variety_etc_2022',\n",
    "    target_code=7\n",
    ")\n",
    "\n",
    "df_contents = add_genre_column_2023(\n",
    "    df_contents, df_2023,\n",
    "    cols_2023=[\n",
    "        'C6', 'C6_m2', 'C6_m3', 'C6_m4', 'C6_m5',\n",
    "        'C6_m6', 'C6_m7', 'C6_m8', 'C6_m9', 'C6_m10',\n",
    "        'C6_m11', 'C6_m12', 'C6_m13', 'C6_m14'\n",
    "    ],\n",
    "    new_col_name='genre_variety_etc_2023',\n",
    "    target_code=14\n",
    ")"
   ]
  },
  {
   "cell_type": "markdown",
   "id": "4b4f0b7d-8e99-41ee-8b55-47d2da586011",
   "metadata": {},
   "source": [
    "### (31) recog_route_recom_2022"
   ]
  },
  {
   "cell_type": "code",
   "execution_count": 39,
   "id": "e91bc32f-1311-44ac-b79f-97f135544df3",
   "metadata": {},
   "outputs": [],
   "source": [
    "df_contents = add_genre_column_2022(\n",
    "    df_contents, df_2022,\n",
    "    col_2022='D5_1',\n",
    "    new_col_name='recog_route_recom_2022',\n",
    "    target_code=1\n",
    ")"
   ]
  },
  {
   "cell_type": "markdown",
   "id": "443ee918-b72a-45a7-b52c-4f59a486893c",
   "metadata": {},
   "source": [
    "### (32) recog_route_media_2022"
   ]
  },
  {
   "cell_type": "code",
   "execution_count": 40,
   "id": "55bd02f1-c79f-4932-9402-5ee4a8a5bb8b",
   "metadata": {},
   "outputs": [],
   "source": [
    "df_contents = add_genre_column_2022(\n",
    "    df_contents, df_2022,\n",
    "    col_2022='D5_2',\n",
    "    new_col_name='recog_route_media_2022',\n",
    "    target_code=2\n",
    ")"
   ]
  },
  {
   "cell_type": "markdown",
   "id": "21a7573b-407a-41a8-8d41-02d6ed2f544e",
   "metadata": {},
   "source": [
    "### (33) recog_route_fav_actor_2022"
   ]
  },
  {
   "cell_type": "code",
   "execution_count": 41,
   "id": "e5680aff-150e-49d4-893e-fade45e2ed7f",
   "metadata": {},
   "outputs": [],
   "source": [
    "df_contents = add_genre_column_2022(\n",
    "    df_contents, df_2022,\n",
    "    col_2022='D5_3',\n",
    "    new_col_name='recog_route_fav_actor_2022',\n",
    "    target_code=3\n",
    ")"
   ]
  },
  {
   "cell_type": "markdown",
   "id": "6f1dd0c9-ff3a-48f1-bd79-77cb545b10b0",
   "metadata": {},
   "source": [
    "### (34) recog_route_fav_singer_2022"
   ]
  },
  {
   "cell_type": "code",
   "execution_count": 42,
   "id": "b5b5d445-ad97-4f1c-be15-0e3e72d2bfc1",
   "metadata": {},
   "outputs": [],
   "source": [
    "df_contents = add_genre_column_2022(\n",
    "    df_contents, df_2022,\n",
    "    col_2022='D5_4',\n",
    "    new_col_name='recog_route_fav_singer_2022',\n",
    "    target_code=4\n",
    ")"
   ]
  },
  {
   "cell_type": "markdown",
   "id": "8bcafa27-6e64-48d5-9abe-37a95e086c55",
   "metadata": {},
   "source": [
    "### (35) recog_route_celeb_recom_2022"
   ]
  },
  {
   "cell_type": "code",
   "execution_count": 43,
   "id": "4c74645c-ca97-47e3-99aa-4f5dabcadd9a",
   "metadata": {},
   "outputs": [],
   "source": [
    "df_contents = add_genre_column_2022(\n",
    "    df_contents, df_2022,\n",
    "    col_2022='D5_5',\n",
    "    new_col_name='recog_route_celeb_recom_2022',\n",
    "    target_code=5\n",
    ")"
   ]
  },
  {
   "cell_type": "markdown",
   "id": "95e71600-9ce4-48a2-8556-25542b3d3fe7",
   "metadata": {},
   "source": [
    "### (36) recog_route_algorithm_2022"
   ]
  },
  {
   "cell_type": "code",
   "execution_count": 44,
   "id": "6c4047ae-2c1d-4736-a3ea-7e520d5f1441",
   "metadata": {},
   "outputs": [],
   "source": [
    "df_contents = add_genre_column_2022(\n",
    "    df_contents, df_2022,\n",
    "    col_2022='D5_6',\n",
    "    new_col_name='recog_route_algorithm_2022',\n",
    "    target_code=6\n",
    ")"
   ]
  },
  {
   "cell_type": "markdown",
   "id": "2b715e68-e3da-450f-8833-2dd72d11cc98",
   "metadata": {},
   "source": [
    "### (37) recog_route_search_2022"
   ]
  },
  {
   "cell_type": "code",
   "execution_count": 45,
   "id": "226aae8b-3429-4d61-b8d0-7791e8268839",
   "metadata": {},
   "outputs": [],
   "source": [
    "df_contents = add_genre_column_2022(\n",
    "    df_contents, df_2022,\n",
    "    col_2022='D5_7',\n",
    "    new_col_name='recog_route_search_2022',\n",
    "    target_code=7\n",
    ")"
   ]
  },
  {
   "cell_type": "markdown",
   "id": "fd59af15-3a7f-41af-9718-c7b095684d03",
   "metadata": {},
   "source": [
    "### (38) recog_route_etc_2022"
   ]
  },
  {
   "cell_type": "code",
   "execution_count": 46,
   "id": "a5d4d059-2483-4f9c-b3d3-63aaa28c5624",
   "metadata": {},
   "outputs": [],
   "source": [
    "df_contents = add_genre_column_2022(\n",
    "    df_contents, df_2022,\n",
    "    col_2022='D5_8',\n",
    "    new_col_name='recog_route_etc_2022',\n",
    "    target_code=8\n",
    ")"
   ]
  },
  {
   "cell_type": "markdown",
   "id": "da4578e1-7b2a-4f57-933c-eb3932209cd9",
   "metadata": {},
   "source": [
    "### (39) recog_route_2023"
   ]
  },
  {
   "cell_type": "code",
   "execution_count": 47,
   "id": "e62f5303-2c39-4090-825d-9c812c837437",
   "metadata": {},
   "outputs": [],
   "source": [
    "# 매핑\n",
    "recog_map_2023 = {\n",
    "    1: '주변 지인의 추천/후기',\n",
    "    2: '기사, 광고, SNS 등 미디어 노출',\n",
    "    3: '좋아하는 배우가 출연한 콘텐츠',\n",
    "    4: '좋아하는 가수의 배우 데뷔',\n",
    "    5: '좋아하는 연예인의 추천',\n",
    "    6: 'OTT 서비스 알고리즘 추천',\n",
    "    7: '장르, 출연진, 연출진 등을 검색하다가',\n",
    "    8: '기타'\n",
    "}\n",
    "\n",
    "# user_id와 C8만 추출\n",
    "df_recog = df_2023[['user_id', 'C8']].copy()\n",
    "\n",
    "# 컬럼명 변경 및 매핑\n",
    "df_recog = df_recog.rename(columns={'C8': 'recog_route_2023'})\n",
    "df_recog['recog_route_2023'] = df_recog['recog_route_2023'].replace(' ', pd.NA)\n",
    "df_recog['recog_route_2023'] = pd.to_numeric(df_recog['recog_route_2023'], errors='coerce')\n",
    "df_recog['recog_route_2023'] = df_recog['recog_route_2023'].map(recog_map_2023)\n",
    "\n",
    "# contents에 병합\n",
    "df_contents = df_contents.merge(df_recog, on='user_id', how='left')"
   ]
  },
  {
   "cell_type": "markdown",
   "id": "da112040-79f0-4d2c-bf99-dda00539fcc0",
   "metadata": {},
   "source": [
    "### (40) watch_recommendation"
   ]
  },
  {
   "cell_type": "code",
   "execution_count": 48,
   "id": "f68d3064-0269-41ed-bd80-46d0c97ef591",
   "metadata": {},
   "outputs": [],
   "source": [
    "def add_binary_column_from_yesno(df_contents, df_2022, df_2023,\n",
    "                                 col_2022, col_2023, new_col_name):\n",
    "    \"\"\"\n",
    "    '예=1, 아니오=0'로 이진 변환한 컬럼을 contents 테이블에 추가하는 함수\n",
    "    - col_2022: 2022년도 원본 컬럼명\n",
    "    - col_2023: 2023년도 원본 컬럼명\n",
    "    - new_col_name: 최종 contents에 들어갈 컬럼명\n",
    "    \"\"\"\n",
    "\n",
    "    # 2022 처리\n",
    "    df_2022_part = df_2022[['user_id', col_2022]].copy()\n",
    "    df_2022_part = df_2022_part.rename(columns={col_2022: new_col_name})\n",
    "    df_2022_part[new_col_name] = df_2022_part[new_col_name].replace(' ', pd.NA)\n",
    "    df_2022_part[new_col_name] = pd.to_numeric(df_2022_part[new_col_name], errors='coerce')\n",
    "    df_2022_part[new_col_name] = df_2022_part[new_col_name].map({1: 1, 2: 0})\n",
    "\n",
    "    # 2023 처리\n",
    "    df_2023_part = df_2023[['user_id', col_2023]].copy()\n",
    "    df_2023_part = df_2023_part.rename(columns={col_2023: new_col_name})\n",
    "    df_2023_part[new_col_name] = df_2023_part[new_col_name].replace(' ', pd.NA)\n",
    "    df_2023_part[new_col_name] = pd.to_numeric(df_2023_part[new_col_name], errors='coerce')\n",
    "    df_2023_part[new_col_name] = df_2023_part[new_col_name].map({1: 1, 2: 0})\n",
    "\n",
    "    # 통합\n",
    "    df_merge = pd.concat([df_2022_part, df_2023_part], ignore_index=True)\n",
    "\n",
    "    # 병합\n",
    "    df_contents = df_contents.merge(df_merge, on='user_id', how='left')\n",
    "\n",
    "    return df_contents"
   ]
  },
  {
   "cell_type": "code",
   "execution_count": 49,
   "id": "ffe8c5b1-13aa-461a-9653-b41f5002fba0",
   "metadata": {},
   "outputs": [],
   "source": [
    "df_contents = add_binary_column_from_yesno(\n",
    "    df_contents,\n",
    "    df_2022, df_2023,\n",
    "    col_2022='D6_1',\n",
    "    col_2023='C9',    \n",
    "    new_col_name='watch_recommendation'\n",
    ")"
   ]
  },
  {
   "cell_type": "markdown",
   "id": "45a41c98-b1b1-4e1b-b945-a2fff3cd5560",
   "metadata": {},
   "source": [
    "### (41) watch_search"
   ]
  },
  {
   "cell_type": "code",
   "execution_count": 50,
   "id": "98259f73-d8ad-44e7-b944-0f8c4c018697",
   "metadata": {},
   "outputs": [],
   "source": [
    "df_contents = add_binary_column_from_yesno(\n",
    "    df_contents,\n",
    "    df_2022, df_2023,\n",
    "    col_2022='D6_2',\n",
    "    col_2023='C9_n2',\n",
    "    new_col_name='watch_search'\n",
    ")"
   ]
  },
  {
   "cell_type": "markdown",
   "id": "d7abd3e6-1442-48be-ad50-d787f47fe50d",
   "metadata": {},
   "source": [
    "### (42) watch_original"
   ]
  },
  {
   "cell_type": "code",
   "execution_count": 51,
   "id": "6f3de844-a93a-4331-a2c7-7ec4dd8ec5a9",
   "metadata": {},
   "outputs": [],
   "source": [
    "df_contents = add_binary_column_from_yesno(\n",
    "    df_contents,\n",
    "    df_2022, df_2023,\n",
    "    col_2022='D6_3',\n",
    "    col_2023='C9_n3',\n",
    "    new_col_name='watch_original'\n",
    ")"
   ]
  },
  {
   "cell_type": "markdown",
   "id": "fb576e4f-9f08-4594-9965-25c3a48ee520",
   "metadata": {},
   "source": [
    "### (43) watch_full_single"
   ]
  },
  {
   "cell_type": "code",
   "execution_count": 52,
   "id": "51dc46ae-72b7-40a5-be1e-2bf6029ff948",
   "metadata": {},
   "outputs": [],
   "source": [
    "df_contents = add_binary_column_from_yesno(\n",
    "    df_contents,\n",
    "    df_2022, df_2023,\n",
    "    col_2022='D6_4',\n",
    "    col_2023='C9_n4',\n",
    "    new_col_name='watch_full_single'\n",
    ")"
   ]
  },
  {
   "cell_type": "markdown",
   "id": "e603bd47-3f92-4d94-bb20-01eb07a3b289",
   "metadata": {},
   "source": [
    "### (44) watch_binge"
   ]
  },
  {
   "cell_type": "code",
   "execution_count": 53,
   "id": "e8aef458-d8cf-4ca4-b8b9-a2db066ab7b1",
   "metadata": {},
   "outputs": [],
   "source": [
    "df_contents = add_binary_column_from_yesno(\n",
    "    df_contents,\n",
    "    df_2022, df_2023,\n",
    "    col_2022='D6_5',\n",
    "    col_2023='C9_n5',\n",
    "    new_col_name='watch_binge'\n",
    ")"
   ]
  },
  {
   "cell_type": "markdown",
   "id": "356ccde3-4148-45fd-9bcb-d53446f64d91",
   "metadata": {},
   "source": [
    "### (45) watch_unsubscribe"
   ]
  },
  {
   "cell_type": "code",
   "execution_count": 54,
   "id": "5cb10c44-17f7-4bbf-9791-6b6327a3939a",
   "metadata": {},
   "outputs": [],
   "source": [
    "df_contents = add_binary_column_from_yesno(\n",
    "    df_contents,\n",
    "    df_2022, df_2023,\n",
    "    col_2022='D6_6',\n",
    "    col_2023='C9_n6',\n",
    "    new_col_name='watch_unsubscribe'\n",
    ")"
   ]
  },
  {
   "cell_type": "markdown",
   "id": "9f31c49c-dc72-4584-8a3e-99d37938b192",
   "metadata": {},
   "source": [
    "### (46) ott_live"
   ]
  },
  {
   "cell_type": "code",
   "execution_count": 55,
   "id": "7932eb24-547f-466f-bce9-192fceba612a",
   "metadata": {},
   "outputs": [],
   "source": [
    "df_contents = add_column_to_contents(\n",
    "    df_contents,\n",
    "    df_2022, df_2023,\n",
    "    col_2022='D7',\n",
    "    col_2023='C10',\n",
    "    new_col_name='ott_live'\n",
    ")"
   ]
  },
  {
   "cell_type": "markdown",
   "id": "de5dba7f-6229-4460-a6e1-9cef8c8acfaf",
   "metadata": {},
   "source": [
    "### (47) frequency_music"
   ]
  },
  {
   "cell_type": "code",
   "execution_count": 56,
   "id": "52b38297-77fb-4954-999e-2d676387f923",
   "metadata": {},
   "outputs": [],
   "source": [
    "df_contents = add_column_to_contents(\n",
    "    df_contents,\n",
    "    df_2022, df_2023,\n",
    "    col_2022='D10_4',\n",
    "    col_2023='C13_1',\n",
    "    new_col_name='frequency_music',\n",
    "    mapping_2022=frequency_map,\n",
    "    mapping_2023=frequency_map\n",
    ")"
   ]
  },
  {
   "cell_type": "markdown",
   "id": "d145b518-22ad-42bb-82c0-f01e87865ff5",
   "metadata": {},
   "source": [
    "### (48) frequency_webtoon"
   ]
  },
  {
   "cell_type": "code",
   "execution_count": 57,
   "id": "24d108be-a820-4e0a-a2a5-f4ef581dbfb3",
   "metadata": {},
   "outputs": [],
   "source": [
    "df_contents = add_column_to_contents(\n",
    "    df_contents,\n",
    "    df_2022, df_2023,\n",
    "    col_2022='D10_7',\n",
    "    col_2023='C13_2',\n",
    "    new_col_name='frequency_webtoon',\n",
    "    mapping_2022=frequency_map,\n",
    "    mapping_2023=frequency_map\n",
    ")"
   ]
  },
  {
   "cell_type": "markdown",
   "id": "fcd0706f-e64e-417c-9485-f63f87f1b5ac",
   "metadata": {},
   "source": [
    "### (49) frequency_webnovel"
   ]
  },
  {
   "cell_type": "code",
   "execution_count": 58,
   "id": "bcb60498-0ab0-4d69-9a4e-5ed66c5d0bbc",
   "metadata": {},
   "outputs": [],
   "source": [
    "df_contents = add_column_to_contents(\n",
    "    df_contents,\n",
    "    df_2022, df_2023,\n",
    "    col_2022='D10_6',\n",
    "    col_2023='C13_3',\n",
    "    new_col_name='frequency_webnovel',\n",
    "    mapping_2022=frequency_map,\n",
    "    mapping_2023=frequency_map\n",
    ")"
   ]
  },
  {
   "cell_type": "markdown",
   "id": "88f093bb-6faf-49f5-8c2f-9db80a6d891d",
   "metadata": {},
   "source": [
    "### (50) viewed_series"
   ]
  },
  {
   "cell_type": "code",
   "execution_count": 59,
   "id": "daa59ca8-dd9a-4903-a4fc-354257e5d256",
   "metadata": {},
   "outputs": [],
   "source": [
    "def add_viewed_column(df_contents, df_2022, df_2023,\n",
    "                      col_2022, cols_2023, new_col_name,\n",
    "                      target_code, convert_value=1):\n",
    "    \"\"\"\n",
    "    contents 테이블에 시청 여부 관련 컬럼을 추가하는 함수\n",
    "    \"\"\"\n",
    "\n",
    "    # 2022 처리\n",
    "    df_2022_part = df_2022[['user_id', col_2022]].copy()\n",
    "    df_2022_part = df_2022_part.rename(columns={col_2022: new_col_name})\n",
    "\n",
    "    df_2022_part[new_col_name] = (\n",
    "        df_2022_part[new_col_name]\n",
    "        .replace(' ', pd.NA)\n",
    "        .apply(pd.to_numeric, errors='coerce')  # 숫자형 변환\n",
    "        .apply(lambda x: convert_value if x == target_code else 0 if pd.notna(x) else pd.NA)\n",
    "    ).astype(\"Int64\")\n",
    "\n",
    "    # 2023 처리\n",
    "    df_2023_part = df_2023[['user_id'] + cols_2023].copy()\n",
    "    df_2023_part[cols_2023] = df_2023_part[cols_2023].replace(' ', pd.NA)\n",
    "    df_2023_part[cols_2023] = df_2023_part[cols_2023].apply(pd.to_numeric, errors='coerce')\n",
    "\n",
    "    def contains_target(row):\n",
    "        values = row.dropna().astype(\"Int64\").values\n",
    "        return convert_value if target_code in values else 0\n",
    "\n",
    "    df_2023_part[new_col_name] = df_2023_part[cols_2023].apply(contains_target, axis=1).astype(\"Int64\")\n",
    "    df_2023_part = df_2023_part[['user_id', new_col_name]]\n",
    "\n",
    "    # 병합\n",
    "    df_merge = pd.concat([df_2022_part, df_2023_part], ignore_index=True)\n",
    "    df_contents = df_contents.merge(df_merge, on='user_id', how='left')\n",
    "\n",
    "    return df_contents\n"
   ]
  },
  {
   "cell_type": "code",
   "execution_count": 60,
   "id": "08563919-b0ee-478b-a729-cd86a0aa8e81",
   "metadata": {},
   "outputs": [],
   "source": [
    "df_contents = add_viewed_column(\n",
    "    df_contents, df_2022, df_2023,\n",
    "    col_2022='SQ7_1',\n",
    "    cols_2023=[\n",
    "        'SQ7', 'SQ7_m2', 'SQ7_m3','SQ7_m4', \n",
    "        'SQ7_m5', 'SQ7_m6','SQ7_m7', 'SQ7_m8'\n",
    "    ],\n",
    "    new_col_name='viewed_series',\n",
    "    target_code=1\n",
    ")"
   ]
  },
  {
   "cell_type": "markdown",
   "id": "f365c23d-6b52-48ca-8870-e0d8f3307635",
   "metadata": {},
   "source": [
    "### (51) viewed_movie"
   ]
  },
  {
   "cell_type": "code",
   "execution_count": 61,
   "id": "8d9086d5-f6d8-46f1-be16-588e892100df",
   "metadata": {},
   "outputs": [],
   "source": [
    "df_contents = add_viewed_column(\n",
    "    df_contents, df_2022, df_2023,\n",
    "    col_2022='SQ7_2',\n",
    "    cols_2023=[\n",
    "        'SQ7', 'SQ7_m2', 'SQ7_m3','SQ7_m4', \n",
    "        'SQ7_m5', 'SQ7_m6','SQ7_m7', 'SQ7_m8'\n",
    "    ],\n",
    "    new_col_name='viewed_movie',\n",
    "    target_code=2\n",
    ")"
   ]
  },
  {
   "cell_type": "markdown",
   "id": "56eba1bc-71f2-493e-9fc8-2891d314373f",
   "metadata": {},
   "source": [
    "### (52) viewed_variety"
   ]
  },
  {
   "cell_type": "code",
   "execution_count": 62,
   "id": "5882e93d-2814-4c55-bf25-2b39d09e112c",
   "metadata": {},
   "outputs": [],
   "source": [
    "df_contents = add_viewed_column(\n",
    "    df_contents, df_2022, df_2023,\n",
    "    col_2022='SQ7_3',\n",
    "    cols_2023=[\n",
    "        'SQ7', 'SQ7_m2', 'SQ7_m3','SQ7_m4', \n",
    "        'SQ7_m5', 'SQ7_m6','SQ7_m7', 'SQ7_m8'\n",
    "    ],\n",
    "    new_col_name='viewed_variety',\n",
    "    target_code=3\n",
    ")"
   ]
  },
  {
   "cell_type": "markdown",
   "id": "61f052d0-1f70-4da0-84c3-f298af9ba82f",
   "metadata": {},
   "source": [
    "### (53) viewed_music"
   ]
  },
  {
   "cell_type": "code",
   "execution_count": 63,
   "id": "5cc954a3-dff0-4a17-8fe5-3291af520b7b",
   "metadata": {},
   "outputs": [],
   "source": [
    "df_contents = add_viewed_column(\n",
    "    df_contents, df_2022, df_2023,\n",
    "    col_2022='SQ7_4',\n",
    "    cols_2023=[\n",
    "        'SQ7', 'SQ7_m2', 'SQ7_m3','SQ7_m4', \n",
    "        'SQ7_m5', 'SQ7_m6','SQ7_m7', 'SQ7_m8'\n",
    "    ],\n",
    "    new_col_name='viewed_music',\n",
    "    target_code=4\n",
    ")"
   ]
  },
  {
   "cell_type": "markdown",
   "id": "f8ad829e-4cde-4cc0-97ea-98d589a1f9aa",
   "metadata": {},
   "source": [
    "### (54) viewed_animation"
   ]
  },
  {
   "cell_type": "code",
   "execution_count": 64,
   "id": "65663aee-7bb1-4b63-9797-52fcda1dcb7b",
   "metadata": {},
   "outputs": [],
   "source": [
    "df_contents = add_viewed_column(\n",
    "    df_contents, df_2022, df_2023,\n",
    "    col_2022='SQ7_5',\n",
    "    cols_2023=[\n",
    "        'SQ7', 'SQ7_m2', 'SQ7_m3','SQ7_m4', \n",
    "        'SQ7_m5', 'SQ7_m6','SQ7_m7', 'SQ7_m8'\n",
    "    ],\n",
    "    new_col_name='viewed_animation',\n",
    "    target_code=5\n",
    ")"
   ]
  },
  {
   "cell_type": "markdown",
   "id": "898aaddf-b9f6-4a28-b67d-58776351f151",
   "metadata": {},
   "source": [
    "### (55) viewed_webtoon"
   ]
  },
  {
   "cell_type": "code",
   "execution_count": 65,
   "id": "ae66216a-544d-41e9-a170-692356c7369b",
   "metadata": {},
   "outputs": [],
   "source": [
    "df_contents = add_viewed_column(\n",
    "    df_contents, df_2022, df_2023,\n",
    "    col_2022='SQ7_6',\n",
    "    cols_2023=[\n",
    "        'SQ7', 'SQ7_m2', 'SQ7_m3','SQ7_m4', \n",
    "        'SQ7_m5', 'SQ7_m6','SQ7_m7', 'SQ7_m8'\n",
    "    ],\n",
    "    new_col_name='viewed_webtoon',\n",
    "    target_code=6\n",
    ")"
   ]
  },
  {
   "cell_type": "markdown",
   "id": "2aeb3e6a-7a20-44c2-bde4-e2df58eab8fb",
   "metadata": {},
   "source": [
    "### (56) viewed_webnovel"
   ]
  },
  {
   "cell_type": "code",
   "execution_count": 66,
   "id": "72f1760e-e208-4a29-be2d-23ec863c2a63",
   "metadata": {},
   "outputs": [],
   "source": [
    "df_contents = add_viewed_column(\n",
    "    df_contents, df_2022, df_2023,\n",
    "    col_2022='SQ7_7',\n",
    "    cols_2023=[\n",
    "        'SQ7', 'SQ7_m2', 'SQ7_m3','SQ7_m4', \n",
    "        'SQ7_m5', 'SQ7_m6','SQ7_m7', 'SQ7_m8'\n",
    "    ],\n",
    "    new_col_name='viewed_webnovel',\n",
    "    target_code=7\n",
    ")"
   ]
  },
  {
   "cell_type": "markdown",
   "id": "4a809b17-4390-4e09-99e9-94ca6577b889",
   "metadata": {},
   "source": [
    "### (57) viewed_game"
   ]
  },
  {
   "cell_type": "code",
   "execution_count": 67,
   "id": "815bdaac-023e-4a2c-838d-e89ee1d1df49",
   "metadata": {},
   "outputs": [],
   "source": [
    "df_contents = add_viewed_column(\n",
    "    df_contents, df_2022, df_2023,\n",
    "    col_2022='SQ7_8',\n",
    "    cols_2023=[\n",
    "        'SQ7', 'SQ7_m2', 'SQ7_m3','SQ7_m4', \n",
    "        'SQ7_m5', 'SQ7_m6','SQ7_m7', 'SQ7_m8'\n",
    "    ],\n",
    "    new_col_name='viewed_game',\n",
    "    target_code=8\n",
    ")"
   ]
  },
  {
   "cell_type": "code",
   "execution_count": 68,
   "id": "9829159f-af60-4074-b12d-8b5dea9167eb",
   "metadata": {},
   "outputs": [
    {
     "data": {
      "text/html": [
       "<div>\n",
       "<style scoped>\n",
       "    .dataframe tbody tr th:only-of-type {\n",
       "        vertical-align: middle;\n",
       "    }\n",
       "\n",
       "    .dataframe tbody tr th {\n",
       "        vertical-align: top;\n",
       "    }\n",
       "\n",
       "    .dataframe thead th {\n",
       "        text-align: right;\n",
       "    }\n",
       "</style>\n",
       "<table border=\"1\" class=\"dataframe\">\n",
       "  <thead>\n",
       "    <tr style=\"text-align: right;\">\n",
       "      <th></th>\n",
       "      <th>user_id</th>\n",
       "      <th>frequency_series</th>\n",
       "      <th>frequency_movie</th>\n",
       "      <th>frequency_variety</th>\n",
       "      <th>genre_series_movie_rom_2022</th>\n",
       "      <th>genre_series_movie_rom_2023</th>\n",
       "      <th>genre_series_movie_fant_2022</th>\n",
       "      <th>genre_series_movie_fant_2023</th>\n",
       "      <th>genre_series_movie_action_2022</th>\n",
       "      <th>genre_series_movie_action_2023</th>\n",
       "      <th>...</th>\n",
       "      <th>frequency_webtoon</th>\n",
       "      <th>frequency_webnovel</th>\n",
       "      <th>viewed_series</th>\n",
       "      <th>viewed_movie</th>\n",
       "      <th>viewed_variety</th>\n",
       "      <th>viewed_music</th>\n",
       "      <th>viewed_animation</th>\n",
       "      <th>viewed_webtoon</th>\n",
       "      <th>viewed_webnovel</th>\n",
       "      <th>viewed_game</th>\n",
       "    </tr>\n",
       "  </thead>\n",
       "  <tbody>\n",
       "    <tr>\n",
       "      <th>0</th>\n",
       "      <td>20228</td>\n",
       "      <td>1주일에 3~4일</td>\n",
       "      <td>1주일에 3~4일</td>\n",
       "      <td>이용안함</td>\n",
       "      <td>0</td>\n",
       "      <td>&lt;NA&gt;</td>\n",
       "      <td>0</td>\n",
       "      <td>&lt;NA&gt;</td>\n",
       "      <td>1</td>\n",
       "      <td>&lt;NA&gt;</td>\n",
       "      <td>...</td>\n",
       "      <td>이용안함</td>\n",
       "      <td>이용안함</td>\n",
       "      <td>1</td>\n",
       "      <td>1</td>\n",
       "      <td>0</td>\n",
       "      <td>0</td>\n",
       "      <td>0</td>\n",
       "      <td>0</td>\n",
       "      <td>0</td>\n",
       "      <td>0</td>\n",
       "    </tr>\n",
       "    <tr>\n",
       "      <th>1</th>\n",
       "      <td>202211</td>\n",
       "      <td>1주일에 3~4일</td>\n",
       "      <td>1주일에 3~4일</td>\n",
       "      <td>1주일에 1~2일</td>\n",
       "      <td>1</td>\n",
       "      <td>&lt;NA&gt;</td>\n",
       "      <td>0</td>\n",
       "      <td>&lt;NA&gt;</td>\n",
       "      <td>1</td>\n",
       "      <td>&lt;NA&gt;</td>\n",
       "      <td>...</td>\n",
       "      <td>이용안함</td>\n",
       "      <td>이용안함</td>\n",
       "      <td>1</td>\n",
       "      <td>1</td>\n",
       "      <td>1</td>\n",
       "      <td>1</td>\n",
       "      <td>0</td>\n",
       "      <td>0</td>\n",
       "      <td>0</td>\n",
       "      <td>0</td>\n",
       "    </tr>\n",
       "    <tr>\n",
       "      <th>2</th>\n",
       "      <td>202212</td>\n",
       "      <td>매일</td>\n",
       "      <td>1주일에 3~4일</td>\n",
       "      <td>매일</td>\n",
       "      <td>1</td>\n",
       "      <td>&lt;NA&gt;</td>\n",
       "      <td>0</td>\n",
       "      <td>&lt;NA&gt;</td>\n",
       "      <td>0</td>\n",
       "      <td>&lt;NA&gt;</td>\n",
       "      <td>...</td>\n",
       "      <td>이용안함</td>\n",
       "      <td>이용안함</td>\n",
       "      <td>1</td>\n",
       "      <td>1</td>\n",
       "      <td>1</td>\n",
       "      <td>1</td>\n",
       "      <td>1</td>\n",
       "      <td>0</td>\n",
       "      <td>0</td>\n",
       "      <td>0</td>\n",
       "    </tr>\n",
       "    <tr>\n",
       "      <th>3</th>\n",
       "      <td>202213</td>\n",
       "      <td>1주일에 1~2일</td>\n",
       "      <td>1주일에 1~2일</td>\n",
       "      <td>2~3달에 1~2일 이하</td>\n",
       "      <td>1</td>\n",
       "      <td>&lt;NA&gt;</td>\n",
       "      <td>1</td>\n",
       "      <td>&lt;NA&gt;</td>\n",
       "      <td>1</td>\n",
       "      <td>&lt;NA&gt;</td>\n",
       "      <td>...</td>\n",
       "      <td>이용안함</td>\n",
       "      <td>이용안함</td>\n",
       "      <td>1</td>\n",
       "      <td>1</td>\n",
       "      <td>1</td>\n",
       "      <td>0</td>\n",
       "      <td>0</td>\n",
       "      <td>0</td>\n",
       "      <td>0</td>\n",
       "      <td>0</td>\n",
       "    </tr>\n",
       "    <tr>\n",
       "      <th>4</th>\n",
       "      <td>202215</td>\n",
       "      <td>1주일에 3~4일</td>\n",
       "      <td>1주일에 1~2일</td>\n",
       "      <td>1주일에 5~6일</td>\n",
       "      <td>1</td>\n",
       "      <td>&lt;NA&gt;</td>\n",
       "      <td>0</td>\n",
       "      <td>&lt;NA&gt;</td>\n",
       "      <td>1</td>\n",
       "      <td>&lt;NA&gt;</td>\n",
       "      <td>...</td>\n",
       "      <td>1주일에 3~4일</td>\n",
       "      <td>1주일에 1~2일</td>\n",
       "      <td>1</td>\n",
       "      <td>1</td>\n",
       "      <td>1</td>\n",
       "      <td>1</td>\n",
       "      <td>1</td>\n",
       "      <td>1</td>\n",
       "      <td>1</td>\n",
       "      <td>1</td>\n",
       "    </tr>\n",
       "    <tr>\n",
       "      <th>...</th>\n",
       "      <td>...</td>\n",
       "      <td>...</td>\n",
       "      <td>...</td>\n",
       "      <td>...</td>\n",
       "      <td>...</td>\n",
       "      <td>...</td>\n",
       "      <td>...</td>\n",
       "      <td>...</td>\n",
       "      <td>...</td>\n",
       "      <td>...</td>\n",
       "      <td>...</td>\n",
       "      <td>...</td>\n",
       "      <td>...</td>\n",
       "      <td>...</td>\n",
       "      <td>...</td>\n",
       "      <td>...</td>\n",
       "      <td>...</td>\n",
       "      <td>...</td>\n",
       "      <td>...</td>\n",
       "      <td>...</td>\n",
       "      <td>...</td>\n",
       "    </tr>\n",
       "    <tr>\n",
       "      <th>10857</th>\n",
       "      <td>202310298</td>\n",
       "      <td>매일</td>\n",
       "      <td>매일</td>\n",
       "      <td>매일</td>\n",
       "      <td>&lt;NA&gt;</td>\n",
       "      <td>0</td>\n",
       "      <td>&lt;NA&gt;</td>\n",
       "      <td>1</td>\n",
       "      <td>&lt;NA&gt;</td>\n",
       "      <td>0</td>\n",
       "      <td>...</td>\n",
       "      <td>1주일에 5~6일</td>\n",
       "      <td>매일</td>\n",
       "      <td>1</td>\n",
       "      <td>1</td>\n",
       "      <td>1</td>\n",
       "      <td>1</td>\n",
       "      <td>1</td>\n",
       "      <td>1</td>\n",
       "      <td>1</td>\n",
       "      <td>0</td>\n",
       "    </tr>\n",
       "    <tr>\n",
       "      <th>10858</th>\n",
       "      <td>202310299</td>\n",
       "      <td>한 달에 1~3일</td>\n",
       "      <td>1주일에 1~2일</td>\n",
       "      <td>이용안함</td>\n",
       "      <td>&lt;NA&gt;</td>\n",
       "      <td>0</td>\n",
       "      <td>&lt;NA&gt;</td>\n",
       "      <td>0</td>\n",
       "      <td>&lt;NA&gt;</td>\n",
       "      <td>0</td>\n",
       "      <td>...</td>\n",
       "      <td>이용안함</td>\n",
       "      <td>이용안함</td>\n",
       "      <td>1</td>\n",
       "      <td>1</td>\n",
       "      <td>0</td>\n",
       "      <td>1</td>\n",
       "      <td>0</td>\n",
       "      <td>0</td>\n",
       "      <td>0</td>\n",
       "      <td>0</td>\n",
       "    </tr>\n",
       "    <tr>\n",
       "      <th>10859</th>\n",
       "      <td>202310300</td>\n",
       "      <td>매일</td>\n",
       "      <td>1주일에 5~6일</td>\n",
       "      <td>1주일에 5~6일</td>\n",
       "      <td>&lt;NA&gt;</td>\n",
       "      <td>1</td>\n",
       "      <td>&lt;NA&gt;</td>\n",
       "      <td>1</td>\n",
       "      <td>&lt;NA&gt;</td>\n",
       "      <td>0</td>\n",
       "      <td>...</td>\n",
       "      <td>1주일에 3~4일</td>\n",
       "      <td>1주일에 5~6일</td>\n",
       "      <td>1</td>\n",
       "      <td>1</td>\n",
       "      <td>1</td>\n",
       "      <td>1</td>\n",
       "      <td>1</td>\n",
       "      <td>1</td>\n",
       "      <td>1</td>\n",
       "      <td>0</td>\n",
       "    </tr>\n",
       "    <tr>\n",
       "      <th>10860</th>\n",
       "      <td>202310301</td>\n",
       "      <td>1주일에 1~2일</td>\n",
       "      <td>1주일에 1~2일</td>\n",
       "      <td>이용안함</td>\n",
       "      <td>&lt;NA&gt;</td>\n",
       "      <td>1</td>\n",
       "      <td>&lt;NA&gt;</td>\n",
       "      <td>0</td>\n",
       "      <td>&lt;NA&gt;</td>\n",
       "      <td>1</td>\n",
       "      <td>...</td>\n",
       "      <td>이용안함</td>\n",
       "      <td>이용안함</td>\n",
       "      <td>1</td>\n",
       "      <td>1</td>\n",
       "      <td>0</td>\n",
       "      <td>1</td>\n",
       "      <td>0</td>\n",
       "      <td>0</td>\n",
       "      <td>0</td>\n",
       "      <td>0</td>\n",
       "    </tr>\n",
       "    <tr>\n",
       "      <th>10861</th>\n",
       "      <td>202310302</td>\n",
       "      <td>매일</td>\n",
       "      <td>1주일에 1~2일</td>\n",
       "      <td>1주일에 3~4일</td>\n",
       "      <td>&lt;NA&gt;</td>\n",
       "      <td>1</td>\n",
       "      <td>&lt;NA&gt;</td>\n",
       "      <td>0</td>\n",
       "      <td>&lt;NA&gt;</td>\n",
       "      <td>0</td>\n",
       "      <td>...</td>\n",
       "      <td>이용안함</td>\n",
       "      <td>이용안함</td>\n",
       "      <td>1</td>\n",
       "      <td>1</td>\n",
       "      <td>1</td>\n",
       "      <td>1</td>\n",
       "      <td>0</td>\n",
       "      <td>0</td>\n",
       "      <td>0</td>\n",
       "      <td>0</td>\n",
       "    </tr>\n",
       "  </tbody>\n",
       "</table>\n",
       "<p>10862 rows × 74 columns</p>\n",
       "</div>"
      ],
      "text/plain": [
       "         user_id frequency_series frequency_movie frequency_variety  \\\n",
       "0          20228        1주일에 3~4일       1주일에 3~4일              이용안함   \n",
       "1         202211        1주일에 3~4일       1주일에 3~4일         1주일에 1~2일   \n",
       "2         202212               매일       1주일에 3~4일                매일   \n",
       "3         202213        1주일에 1~2일       1주일에 1~2일     2~3달에 1~2일 이하   \n",
       "4         202215        1주일에 3~4일       1주일에 1~2일         1주일에 5~6일   \n",
       "...          ...              ...             ...               ...   \n",
       "10857  202310298               매일              매일                매일   \n",
       "10858  202310299        한 달에 1~3일       1주일에 1~2일              이용안함   \n",
       "10859  202310300               매일       1주일에 5~6일         1주일에 5~6일   \n",
       "10860  202310301        1주일에 1~2일       1주일에 1~2일              이용안함   \n",
       "10861  202310302               매일       1주일에 1~2일         1주일에 3~4일   \n",
       "\n",
       "       genre_series_movie_rom_2022  genre_series_movie_rom_2023  \\\n",
       "0                                0                         <NA>   \n",
       "1                                1                         <NA>   \n",
       "2                                1                         <NA>   \n",
       "3                                1                         <NA>   \n",
       "4                                1                         <NA>   \n",
       "...                            ...                          ...   \n",
       "10857                         <NA>                            0   \n",
       "10858                         <NA>                            0   \n",
       "10859                         <NA>                            1   \n",
       "10860                         <NA>                            1   \n",
       "10861                         <NA>                            1   \n",
       "\n",
       "       genre_series_movie_fant_2022  genre_series_movie_fant_2023  \\\n",
       "0                                 0                          <NA>   \n",
       "1                                 0                          <NA>   \n",
       "2                                 0                          <NA>   \n",
       "3                                 1                          <NA>   \n",
       "4                                 0                          <NA>   \n",
       "...                             ...                           ...   \n",
       "10857                          <NA>                             1   \n",
       "10858                          <NA>                             0   \n",
       "10859                          <NA>                             1   \n",
       "10860                          <NA>                             0   \n",
       "10861                          <NA>                             0   \n",
       "\n",
       "       genre_series_movie_action_2022  genre_series_movie_action_2023  ...  \\\n",
       "0                                   1                            <NA>  ...   \n",
       "1                                   1                            <NA>  ...   \n",
       "2                                   0                            <NA>  ...   \n",
       "3                                   1                            <NA>  ...   \n",
       "4                                   1                            <NA>  ...   \n",
       "...                               ...                             ...  ...   \n",
       "10857                            <NA>                               0  ...   \n",
       "10858                            <NA>                               0  ...   \n",
       "10859                            <NA>                               0  ...   \n",
       "10860                            <NA>                               1  ...   \n",
       "10861                            <NA>                               0  ...   \n",
       "\n",
       "       frequency_webtoon  frequency_webnovel  viewed_series  viewed_movie  \\\n",
       "0                   이용안함                이용안함              1             1   \n",
       "1                   이용안함                이용안함              1             1   \n",
       "2                   이용안함                이용안함              1             1   \n",
       "3                   이용안함                이용안함              1             1   \n",
       "4              1주일에 3~4일           1주일에 1~2일              1             1   \n",
       "...                  ...                 ...            ...           ...   \n",
       "10857          1주일에 5~6일                  매일              1             1   \n",
       "10858               이용안함                이용안함              1             1   \n",
       "10859          1주일에 3~4일           1주일에 5~6일              1             1   \n",
       "10860               이용안함                이용안함              1             1   \n",
       "10861               이용안함                이용안함              1             1   \n",
       "\n",
       "       viewed_variety  viewed_music  viewed_animation  viewed_webtoon  \\\n",
       "0                   0             0                 0               0   \n",
       "1                   1             1                 0               0   \n",
       "2                   1             1                 1               0   \n",
       "3                   1             0                 0               0   \n",
       "4                   1             1                 1               1   \n",
       "...               ...           ...               ...             ...   \n",
       "10857               1             1                 1               1   \n",
       "10858               0             1                 0               0   \n",
       "10859               1             1                 1               1   \n",
       "10860               0             1                 0               0   \n",
       "10861               1             1                 0               0   \n",
       "\n",
       "       viewed_webnovel  viewed_game  \n",
       "0                    0            0  \n",
       "1                    0            0  \n",
       "2                    0            0  \n",
       "3                    0            0  \n",
       "4                    1            1  \n",
       "...                ...          ...  \n",
       "10857                1            0  \n",
       "10858                0            0  \n",
       "10859                1            0  \n",
       "10860                0            0  \n",
       "10861                0            0  \n",
       "\n",
       "[10862 rows x 74 columns]"
      ]
     },
     "execution_count": 68,
     "metadata": {},
     "output_type": "execute_result"
    }
   ],
   "source": [
    "df_contents"
   ]
  },
  {
   "cell_type": "code",
   "execution_count": 69,
   "id": "1d413ed4-b210-43c4-a6c1-15def23b8274",
   "metadata": {},
   "outputs": [
    {
     "name": "stdout",
     "output_type": "stream",
     "text": [
      "contents 테이블 최종 업데이트 완료!\n"
     ]
    }
   ],
   "source": [
    "# 최종 DB 업로드\n",
    "df_contents.to_sql(name=\"contents\", con=engine, index=False, if_exists=\"replace\")\n",
    "print(\"contents 테이블 최종 업데이트 완료!\")"
   ]
  }
 ],
 "metadata": {
  "kernelspec": {
   "display_name": "Python 3 (ipykernel)",
   "language": "python",
   "name": "python3"
  },
  "language_info": {
   "codemirror_mode": {
    "name": "ipython",
    "version": 3
   },
   "file_extension": ".py",
   "mimetype": "text/x-python",
   "name": "python",
   "nbconvert_exporter": "python",
   "pygments_lexer": "ipython3",
   "version": "3.10.18"
  }
 },
 "nbformat": 4,
 "nbformat_minor": 5
}
