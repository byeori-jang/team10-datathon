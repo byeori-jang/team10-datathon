{
 "cells": [
  {
   "cell_type": "code",
   "execution_count": 1,
   "id": "02225c72-6552-4590-a6af-d9fa7db567c5",
   "metadata": {},
   "outputs": [],
   "source": [
    "import os\n",
    "import pandas as pd\n",
    "from sqlalchemy import create_engine"
   ]
  },
  {
   "cell_type": "code",
   "execution_count": 2,
   "id": "1ef5a961-80dd-481c-a596-0c37c7e59f35",
   "metadata": {},
   "outputs": [],
   "source": [
    "# MySQL 접속 설정\n",
    "username = \"root\"      # MySQL 사용자명\n",
    "password = \"1234\"      # MySQL 비밀번호\n",
    "host = \"127.0.0.1\"     # 로컬호스트\n",
    "port = 3306            # 포트\n",
    "database = \"ott_db\"  # DB 이름\n",
    "\n",
    "# MySQL 엔진 생성\n",
    "engine = create_engine(f\"mysql+pymysql://{username}:{password}@{host}:{port}/{database}\")"
   ]
  },
  {
   "cell_type": "code",
   "execution_count": 3,
   "id": "6da903f3-be28-4c12-a991-d3e7ad75c8d3",
   "metadata": {},
   "outputs": [
    {
     "name": "stdout",
     "output_type": "stream",
     "text": [
      "2022 데이터: (4536, 1903)\n",
      "2023 데이터: (6326, 929)\n"
     ]
    }
   ],
   "source": [
    "# 데이터 파일 경로 설정\n",
    "folder_path = r\"방송통신위원회_해외 OTT 이용행태조사 원시데이터_20231231\"\n",
    "file_2022 = os.path.join(folder_path, \"2022해외OTT이용행태조사_국가통합(20240403).csv\")\n",
    "file_2023 = os.path.join(folder_path, \"2023해외OTT이용행태조사_국가통합(20240403).csv\")\n",
    "\n",
    "# CSV 읽기\n",
    "df_2022 = pd.read_csv(file_2022, encoding='utf-8-sig', low_memory=False)\n",
    "df_2023 = pd.read_csv(file_2023, encoding='utf-8-sig', low_memory=False)\n",
    "\n",
    "print(\"2022 데이터:\", df_2022.shape)\n",
    "print(\"2023 데이터:\", df_2023.shape)"
   ]
  },
  {
   "cell_type": "code",
   "execution_count": 4,
   "id": "3e128d40-78f5-40a8-9082-d4da8cab011a",
   "metadata": {},
   "outputs": [
    {
     "data": {
      "text/plain": [
       "10862"
      ]
     },
     "execution_count": 4,
     "metadata": {},
     "output_type": "execute_result"
    }
   ],
   "source": [
    "# 1. 2022 user_id 생성\n",
    "df_2022['user_id'] = ('2022' + df_2022['RESPID'].astype(str)).astype(int)\n",
    "# 2. 2023 user_id 생성\n",
    "df_2023['user_id'] = ('2023' + df_2023['id'].astype(str)).astype(int)\n",
    "\n",
    "df_kcontents_id_2022 = df_2022[['user_id']].copy()\n",
    "df_kcontents_id_2023 = df_2023[['user_id']].copy()\n",
    "\n",
    "# 3. 합치기\n",
    "df_kcontents_id = pd.concat([df_kcontents_id_2022, df_kcontents_id_2023], ignore_index=True)\n",
    "\n",
    "# 4. user 테이블에 user_id 업로드\n",
    "df_kcontents_id.to_sql(name=\"kcontents\", con=engine, index=False, if_exists=\"replace\")"
   ]
  },
  {
   "cell_type": "markdown",
   "id": "772020f2-3b9b-402d-9377-a4f1d19ae4ba",
   "metadata": {},
   "source": [
    "# (1) user"
   ]
  },
  {
   "cell_type": "code",
   "execution_count": 5,
   "id": "54fbaaa8-6e9b-4243-9123-1f07c2638098",
   "metadata": {},
   "outputs": [],
   "source": [
    "def add_column_to_kcontents(df_kcontents, df_2022, df_2023, col_2022, col_2023, new_col_name,\n",
    "                       mapping_2022=None, mapping_2023=None):\n",
    "    \"\"\"\n",
    "    user 테이블에 새로운 컬럼을 추가하는 함수\n",
    "    :param df_kcontents: 기존 user 테이블 DataFrame\n",
    "    :param df_2022: 2022 데이터 DataFrame\n",
    "    :param df_2023: 2023 데이터 DataFrame\n",
    "    :param col_2022: 2022 데이터에서 가져올 컬럼명\n",
    "    :param col_2023: 2023 데이터에서 가져올 컬럼명\n",
    "    :param new_col_name: user 테이블에 추가할 새 컬럼명\n",
    "    :param mapping_2022: 2022 매핑 딕셔너리 (없으면 None)\n",
    "    :param mapping_2023: 2023 매핑 딕셔너리 (없으면 None)\n",
    "    :return: 새로운 컬럼이 추가된 df_kcontents\n",
    "    \"\"\"\n",
    "\n",
    "    # 2022 데이터 처리\n",
    "    df_2022_col = df_2022[['user_id', col_2022]].copy()\n",
    "    df_2022_col = df_2022_col.rename(columns={col_2022: new_col_name})\n",
    "    if mapping_2022:\n",
    "        df_2022_col[new_col_name] = df_2022_col[new_col_name].map(mapping_2022)\n",
    "\n",
    "    # 2023 데이터 처리\n",
    "    df_2023_col = df_2023[['user_id', col_2023]].copy()\n",
    "    df_2023_col = df_2023_col.rename(columns={col_2023: new_col_name})\n",
    "    if mapping_2023:\n",
    "        df_2023_col[new_col_name] = df_2023_col[new_col_name].map(mapping_2023)\n",
    "\n",
    "    # 합치기\n",
    "    df_new_col = pd.concat([df_2022_col, df_2023_col], ignore_index=True)\n",
    "\n",
    "    # user 테이블 병합\n",
    "    df_kcontents = df_kcontents.merge(df_new_col, on='user_id', how='left')\n",
    "\n",
    "    return df_kcontents"
   ]
  },
  {
   "cell_type": "code",
   "execution_count": 6,
   "id": "e7d4cfd3-8b05-44fd-951b-d0eba53de44b",
   "metadata": {},
   "outputs": [],
   "source": [
    "# 현재 user 테이블 불러오기\n",
    "df_kcontents = pd.read_sql(\"SELECT * FROM kcontents\", con=engine)"
   ]
  },
  {
   "cell_type": "markdown",
   "id": "6096515f-90e7-40f3-b7e2-5dcbd58d7601",
   "metadata": {},
   "source": [
    "# (2) content_type_drama"
   ]
  },
  {
   "cell_type": "code",
   "execution_count": 7,
   "id": "f2387be8-617e-4f6c-bb5a-52aff02841fd",
   "metadata": {},
   "outputs": [],
   "source": [
    "def add_content_type_column(df_kcontents, df_2022, df_2023,\n",
    "                            col_2022, cols_2023, new_col_name,\n",
    "                            target_code, convert_value=1):\n",
    "    \"\"\"\n",
    "    df_kcontents에 콘텐츠 이용 유형 컬럼 추가\n",
    "    \"\"\"\n",
    "\n",
    "    # 2022 처리\n",
    "    df_2022_part = df_2022[['user_id', col_2022]].copy()\n",
    "    df_2022_part = df_2022_part.rename(columns={col_2022: new_col_name})\n",
    "\n",
    "    df_2022_part[new_col_name] = (\n",
    "        df_2022_part[new_col_name]\n",
    "        .replace(' ', pd.NA)\n",
    "        .apply(pd.to_numeric, errors='coerce')\n",
    "        .apply(lambda x: convert_value if x == target_code else 0 if pd.notna(x) else pd.NA)\n",
    "    ).astype(\"Int64\")\n",
    "\n",
    "    # 2023 처리\n",
    "    df_2023_part = df_2023[['user_id'] + cols_2023].copy()\n",
    "    df_2023_part[cols_2023] = df_2023_part[cols_2023].replace(' ', pd.NA)\n",
    "    df_2023_part[cols_2023] = df_2023_part[cols_2023].apply(pd.to_numeric, errors='coerce')\n",
    "\n",
    "    def contains_target(row):\n",
    "        values = row.dropna().astype(\"Int64\").values\n",
    "        return convert_value if target_code in values else 0\n",
    "\n",
    "    df_2023_part[new_col_name] = df_2023_part[cols_2023].apply(contains_target, axis=1).astype(\"Int64\")\n",
    "    df_2023_part = df_2023_part[['user_id', new_col_name]]\n",
    "\n",
    "    # 병합\n",
    "    df_merge = pd.concat([df_2022_part, df_2023_part], ignore_index=True)\n",
    "    df_kcontents = df_kcontents.merge(df_merge, on='user_id', how='left')\n",
    "\n",
    "    return df_kcontents\n"
   ]
  },
  {
   "cell_type": "code",
   "execution_count": 8,
   "id": "bbf2cc57-6a4b-437e-bb7f-82e7cb8a462d",
   "metadata": {},
   "outputs": [],
   "source": [
    "# # 드라마/시리즈물\n",
    "df_kcontents = add_content_type_column(\n",
    "    df_kcontents, df_2022, df_2023,\n",
    "    col_2022='F1_1',\n",
    "    cols_2023=[\n",
    "        'E1', 'E1_m2', 'E1_m3', 'E1_m4',\n",
    "        'E1_m5', 'E1_m6', 'E1_m7', 'E1_m8', 'E1_m9'\n",
    "    ],\n",
    "    new_col_name='content_type_drama',\n",
    "    target_code=1\n",
    ")"
   ]
  },
  {
   "cell_type": "markdown",
   "id": "60804949-7f63-4921-b24f-9aa5d68167ae",
   "metadata": {},
   "source": [
    "# (3) content_type_movie"
   ]
  },
  {
   "cell_type": "code",
   "execution_count": 9,
   "id": "f982ac39-4e54-4bae-a2a8-85cf777f8829",
   "metadata": {},
   "outputs": [],
   "source": [
    "# 영화\n",
    "df_kcontents = add_content_type_column(\n",
    "    df_kcontents, df_2022, df_2023,\n",
    "    col_2022='F1_2',\n",
    "    cols_2023=[\n",
    "        'E1', 'E1_m2', 'E1_m3', 'E1_m4',\n",
    "        'E1_m5', 'E1_m6', 'E1_m7', 'E1_m8', 'E1_m9'\n",
    "    ],\n",
    "    new_col_name='content_type_movie',\n",
    "    target_code=2\n",
    ")"
   ]
  },
  {
   "cell_type": "markdown",
   "id": "8b81acf7-c3c6-41dc-b6b5-27551b30a980",
   "metadata": {},
   "source": [
    "# (4) content_type_variety"
   ]
  },
  {
   "cell_type": "code",
   "execution_count": 10,
   "id": "50352b94-dab8-4fbb-83f8-b097f3299d74",
   "metadata": {},
   "outputs": [],
   "source": [
    "# 예능/버라이어티\n",
    "df_kcontents = add_content_type_column(\n",
    "    df_kcontents, df_2022, df_2023,\n",
    "    col_2022='F1_3',\n",
    "    cols_2023=[\n",
    "        'E1', 'E1_m2', 'E1_m3', 'E1_m4',\n",
    "        'E1_m5', 'E1_m6', 'E1_m7', 'E1_m8', 'E1_m9'\n",
    "    ],\n",
    "    new_col_name='content_type_variety',\n",
    "    target_code=3\n",
    ")"
   ]
  },
  {
   "cell_type": "markdown",
   "id": "75604ae3-63f5-4b82-873e-6dd86f31c2e5",
   "metadata": {},
   "source": [
    "# (5) content_type_music"
   ]
  },
  {
   "cell_type": "code",
   "execution_count": 11,
   "id": "4f558965-57c4-40c8-b5aa-eb4d3ec55d79",
   "metadata": {},
   "outputs": [],
   "source": [
    "# 음악\n",
    "df_kcontents = add_content_type_column(\n",
    "    df_kcontents, df_2022, df_2023,\n",
    "    col_2022='F1_4',\n",
    "    cols_2023=[\n",
    "        'E1', 'E1_m2', 'E1_m3', 'E1_m4',\n",
    "        'E1_m5', 'E1_m6', 'E1_m7', 'E1_m8', 'E1_m9'\n",
    "    ],\n",
    "    new_col_name='content_type_music',\n",
    "    target_code=4\n",
    ")"
   ]
  },
  {
   "cell_type": "markdown",
   "id": "51649fe9-341e-472b-b2da-8f88f9ae5a44",
   "metadata": {},
   "source": [
    "# (6) content_type_kpop"
   ]
  },
  {
   "cell_type": "code",
   "execution_count": 12,
   "id": "1da75938-ad01-4658-99b1-f8982505111b",
   "metadata": {},
   "outputs": [],
   "source": [
    "# 한국 연예인 방송\n",
    "df_kcontents = add_content_type_column(\n",
    "    df_kcontents, df_2022, df_2023,\n",
    "    col_2022='F1_5',\n",
    "    cols_2023=[\n",
    "        'E1', 'E1_m2', 'E1_m3', 'E1_m4',\n",
    "        'E1_m5', 'E1_m6', 'E1_m7', 'E1_m8', 'E1_m9'\n",
    "    ],\n",
    "    new_col_name='content_type_kpop',\n",
    "    target_code=5\n",
    ")"
   ]
  },
  {
   "cell_type": "markdown",
   "id": "14b8b286-fdf7-467d-b1cb-f751766e60b6",
   "metadata": {},
   "source": [
    "# (7) content_type_animation"
   ]
  },
  {
   "cell_type": "code",
   "execution_count": 13,
   "id": "22a7ac9b-f4a2-4160-b320-9c678653e453",
   "metadata": {},
   "outputs": [],
   "source": [
    "# 애니메이션\n",
    "df_kcontents = add_content_type_column(\n",
    "    df_kcontents, df_2022, df_2023,\n",
    "    col_2022='F1_6',\n",
    "    cols_2023=[\n",
    "        'E1', 'E1_m2', 'E1_m3', 'E1_m4',\n",
    "        'E1_m5', 'E1_m6', 'E1_m7', 'E1_m8', 'E1_m9'\n",
    "    ],\n",
    "    new_col_name='content_type_animation',\n",
    "    target_code=6\n",
    ")"
   ]
  },
  {
   "cell_type": "markdown",
   "id": "7bf674b7-2302-47ee-83be-b16de8a1b839",
   "metadata": {},
   "source": [
    "# (8) content_type_webtoon"
   ]
  },
  {
   "cell_type": "code",
   "execution_count": 14,
   "id": "7ef98cc5-2b77-466d-adaf-8dbfd2f9aa03",
   "metadata": {},
   "outputs": [],
   "source": [
    "# 웹툰\n",
    "df_kcontents = add_content_type_column(\n",
    "    df_kcontents, df_2022, df_2023,\n",
    "    col_2022='F1_7',\n",
    "    cols_2023=[\n",
    "        'E1', 'E1_m2', 'E1_m3', 'E1_m4',\n",
    "        'E1_m5', 'E1_m6', 'E1_m7', 'E1_m8', 'E1_m9'\n",
    "    ],\n",
    "    new_col_name='content_type_webtoon',\n",
    "    target_code=7\n",
    ")"
   ]
  },
  {
   "cell_type": "markdown",
   "id": "3b5a8092-0221-42ff-beb4-235cc3b497dc",
   "metadata": {},
   "source": [
    "# (9) content_type_novel"
   ]
  },
  {
   "cell_type": "code",
   "execution_count": 15,
   "id": "4dc234fb-fc2c-4a3f-b9a6-f39d6159f9cf",
   "metadata": {},
   "outputs": [],
   "source": [
    "# 웹소설\n",
    "df_kcontents = add_content_type_column(\n",
    "    df_kcontents, df_2022, df_2023,\n",
    "    col_2022='F1_8',\n",
    "    cols_2023=[\n",
    "        'E1', 'E1_m2', 'E1_m3', 'E1_m4',\n",
    "        'E1_m5', 'E1_m6', 'E1_m7', 'E1_m8', 'E1_m9'\n",
    "    ],\n",
    "    new_col_name='content_type_webnovel',\n",
    "    target_code=8\n",
    ")"
   ]
  },
  {
   "cell_type": "markdown",
   "id": "81c5c2b2-2b67-47cb-8d60-1301cfeaf79b",
   "metadata": {},
   "source": [
    "# (10) content_type_esport"
   ]
  },
  {
   "cell_type": "code",
   "execution_count": 16,
   "id": "93ad8db8-5152-4d73-b8c3-ce6fc219c9aa",
   "metadata": {},
   "outputs": [],
   "source": [
    "\n",
    "# 게임/e-스포츠\n",
    "df_kcontents = add_content_type_column(\n",
    "    df_kcontents, df_2022, df_2023,\n",
    "    col_2022='F1_9',\n",
    "    cols_2023=[\n",
    "        'E1', 'E1_m2', 'E1_m3', 'E1_m4',\n",
    "        'E1_m5', 'E1_m6', 'E1_m7', 'E1_m8', 'E1_m9'\n",
    "    ],\n",
    "    new_col_name='content_type_esport',\n",
    "    target_code=9\n",
    ")"
   ]
  },
  {
   "cell_type": "code",
   "execution_count": 17,
   "id": "852a21d5-78f7-4993-bdbe-1cd91e0e5f47",
   "metadata": {},
   "outputs": [
    {
     "data": {
      "text/html": [
       "<div>\n",
       "<style scoped>\n",
       "    .dataframe tbody tr th:only-of-type {\n",
       "        vertical-align: middle;\n",
       "    }\n",
       "\n",
       "    .dataframe tbody tr th {\n",
       "        vertical-align: top;\n",
       "    }\n",
       "\n",
       "    .dataframe thead th {\n",
       "        text-align: right;\n",
       "    }\n",
       "</style>\n",
       "<table border=\"1\" class=\"dataframe\">\n",
       "  <thead>\n",
       "    <tr style=\"text-align: right;\">\n",
       "      <th></th>\n",
       "      <th>column</th>\n",
       "      <th>0_count</th>\n",
       "      <th>1_count</th>\n",
       "      <th>0_pct</th>\n",
       "      <th>1_pct</th>\n",
       "    </tr>\n",
       "  </thead>\n",
       "  <tbody>\n",
       "    <tr>\n",
       "      <th>0</th>\n",
       "      <td>content_type_drama</td>\n",
       "      <td>4522</td>\n",
       "      <td>5125</td>\n",
       "      <td>41.6</td>\n",
       "      <td>47.2</td>\n",
       "    </tr>\n",
       "    <tr>\n",
       "      <th>1</th>\n",
       "      <td>content_type_movie</td>\n",
       "      <td>5386</td>\n",
       "      <td>4261</td>\n",
       "      <td>49.6</td>\n",
       "      <td>39.2</td>\n",
       "    </tr>\n",
       "    <tr>\n",
       "      <th>2</th>\n",
       "      <td>content_type_variety</td>\n",
       "      <td>7814</td>\n",
       "      <td>1833</td>\n",
       "      <td>71.9</td>\n",
       "      <td>16.9</td>\n",
       "    </tr>\n",
       "    <tr>\n",
       "      <th>3</th>\n",
       "      <td>content_type_music</td>\n",
       "      <td>7496</td>\n",
       "      <td>2151</td>\n",
       "      <td>69.0</td>\n",
       "      <td>19.8</td>\n",
       "    </tr>\n",
       "    <tr>\n",
       "      <th>4</th>\n",
       "      <td>content_type_kpop</td>\n",
       "      <td>8295</td>\n",
       "      <td>1352</td>\n",
       "      <td>76.4</td>\n",
       "      <td>12.4</td>\n",
       "    </tr>\n",
       "    <tr>\n",
       "      <th>5</th>\n",
       "      <td>content_type_animation</td>\n",
       "      <td>8591</td>\n",
       "      <td>1056</td>\n",
       "      <td>79.1</td>\n",
       "      <td>9.7</td>\n",
       "    </tr>\n",
       "    <tr>\n",
       "      <th>6</th>\n",
       "      <td>content_type_webtoon</td>\n",
       "      <td>8723</td>\n",
       "      <td>924</td>\n",
       "      <td>80.3</td>\n",
       "      <td>8.5</td>\n",
       "    </tr>\n",
       "    <tr>\n",
       "      <th>7</th>\n",
       "      <td>content_type_webnovel</td>\n",
       "      <td>9219</td>\n",
       "      <td>428</td>\n",
       "      <td>84.9</td>\n",
       "      <td>3.9</td>\n",
       "    </tr>\n",
       "    <tr>\n",
       "      <th>8</th>\n",
       "      <td>content_type_esport</td>\n",
       "      <td>9297</td>\n",
       "      <td>350</td>\n",
       "      <td>85.6</td>\n",
       "      <td>3.2</td>\n",
       "    </tr>\n",
       "  </tbody>\n",
       "</table>\n",
       "</div>"
      ],
      "text/plain": [
       "                   column  0_count  1_count  0_pct  1_pct\n",
       "0      content_type_drama     4522     5125   41.6   47.2\n",
       "1      content_type_movie     5386     4261   49.6   39.2\n",
       "2    content_type_variety     7814     1833   71.9   16.9\n",
       "3      content_type_music     7496     2151   69.0   19.8\n",
       "4       content_type_kpop     8295     1352   76.4   12.4\n",
       "5  content_type_animation     8591     1056   79.1    9.7\n",
       "6    content_type_webtoon     8723      924   80.3    8.5\n",
       "7   content_type_webnovel     9219      428   84.9    3.9\n",
       "8     content_type_esport     9297      350   85.6    3.2"
      ]
     },
     "execution_count": 17,
     "metadata": {},
     "output_type": "execute_result"
    }
   ],
   "source": [
    "content_cols = [col for col in df_kcontents.columns if col.startswith(\"content_type_\")]\n",
    "\n",
    "summary = []\n",
    "\n",
    "for col in content_cols:\n",
    "    value_counts = df_kcontents[col].value_counts(dropna=False).to_dict()\n",
    "    total = sum(value_counts.values())  # ✅ 여기가 핵심\n",
    "    row = {\n",
    "        'column': col,\n",
    "        '0_count': value_counts.get(0, 0),\n",
    "        '1_count': value_counts.get(1, 0),\n",
    "        '0_pct': round(value_counts.get(0, 0) / total * 100, 1) if total > 0 else 0,\n",
    "        '1_pct': round(value_counts.get(1, 0) / total * 100, 1) if total > 0 else 0,\n",
    "    }\n",
    "    summary.append(row)\n",
    "\n",
    "import pandas as pd\n",
    "df_summary = pd.DataFrame(summary)\n",
    "df_summary"
   ]
  },
  {
   "cell_type": "markdown",
   "id": "e72cb06a-1237-42ba-8454-6d57865e74fe",
   "metadata": {},
   "source": [
    "# (11) series_usage_method_2022"
   ]
  },
  {
   "cell_type": "code",
   "execution_count": 18,
   "id": "a3957c75-0a6d-436f-aa49-b21ee2ce9ab5",
   "metadata": {},
   "outputs": [],
   "source": [
    "series_cols_2022 = ['F2_1_1', 'F2_1_2', 'F2_1_3', 'F2_1_4', 'F2_1_5', 'F2_1_7']\n",
    "\n",
    "df_temp = df_2022[['user_id'] + series_cols_2022].copy()\n",
    "\n",
    "# 0/1 처리\n",
    "for col in series_cols_2022:\n",
    "    df_temp[col] = pd.to_numeric(df_temp[col], errors='coerce').fillna(0)\n",
    "    df_temp[col] = df_temp[col].apply(lambda x: 1 if x != 0 else 0)\n",
    "\n",
    "# 하나라도 1이면 1\n",
    "df_temp['series_usage_method_2022'] = df_temp[series_cols_2022].max(axis=1)\n",
    "\n",
    "# 필요한 컬럼만\n",
    "df_temp = df_temp[['user_id', 'series_usage_method_2022']]\n",
    "\n",
    "# 병합\n",
    "df_kcontents = df_kcontents.merge(df_temp, on='user_id', how='left')"
   ]
  },
  {
   "cell_type": "markdown",
   "id": "a99cce1e-d5ba-4d07-b7d7-33f1641f3a50",
   "metadata": {},
   "source": [
    "# (12) movies_usage_method_2022"
   ]
  },
  {
   "cell_type": "code",
   "execution_count": 19,
   "id": "bc0c04f9-1d40-405d-aab7-fb0472b32244",
   "metadata": {},
   "outputs": [],
   "source": [
    "# 영화 콘텐츠 이용 경로 컬럼들\n",
    "movies_cols_2022 = ['F2_2_1', 'F2_2_2', 'F2_2_3', 'F2_2_4', 'F2_2_5', 'F2_2_7']\n",
    "\n",
    "df_temp = df_2022[['user_id'] + movies_cols_2022].copy()\n",
    "\n",
    "# 0/1 이진화\n",
    "for col in movies_cols_2022:\n",
    "    df_temp[col] = pd.to_numeric(df_temp[col], errors='coerce').fillna(0)\n",
    "    df_temp[col] = df_temp[col].apply(lambda x: 1 if x != 0 else 0)\n",
    "\n",
    "# 하나라도 1이면 1\n",
    "df_temp['movies_usage_method_2022'] = df_temp[movies_cols_2022].max(axis=1)\n",
    "\n",
    "# 필요한 컬럼만 남기기\n",
    "df_temp = df_temp[['user_id', 'movies_usage_method_2022']]\n",
    "\n",
    "# df_kcontents에 병합\n",
    "df_kcontents = df_kcontents.merge(df_temp, on='user_id', how='left')\n"
   ]
  },
  {
   "cell_type": "markdown",
   "id": "90ad33b6-5e65-40c4-ab90-02e1367c3246",
   "metadata": {},
   "source": [
    "# (13) variety_usage_method_2022"
   ]
  },
  {
   "cell_type": "code",
   "execution_count": 20,
   "id": "e358721a-b328-4226-87d3-85db045f6bec",
   "metadata": {},
   "outputs": [],
   "source": [
    "# 예능/버라이어티 이용 경로 컬럼 리스트\n",
    "variety_cols_2022 = ['F2_3_1', 'F2_3_2', 'F2_3_3', 'F2_3_4', 'F2_3_5', 'F2_3_7']\n",
    "\n",
    "# 필요한 컬럼만 복사\n",
    "df_temp = df_2022[['user_id'] + variety_cols_2022].copy()\n",
    "\n",
    "# 0/1 이진화\n",
    "for col in variety_cols_2022:\n",
    "    df_temp[col] = pd.to_numeric(df_temp[col], errors='coerce').fillna(0)\n",
    "    df_temp[col] = df_temp[col].apply(lambda x: 1 if x != 0 else 0)\n",
    "\n",
    "# 한 컬럼으로 통합\n",
    "df_temp['variety_usage_method_2022'] = df_temp[variety_cols_2022].max(axis=1)\n",
    "\n",
    "# 필요한 컬럼만 남기고 병합\n",
    "df_temp = df_temp[['user_id', 'variety_usage_method_2022']]\n",
    "df_kcontents = df_kcontents.merge(df_temp, on='user_id', how='left')\n"
   ]
  },
  {
   "cell_type": "markdown",
   "id": "f38b13b7-9db7-46ad-ae6c-59ad32950fa2",
   "metadata": {},
   "source": [
    "# (14) kpop_usage_method_2022"
   ]
  },
  {
   "cell_type": "code",
   "execution_count": 21,
   "id": "f74da90a-b92b-44ec-9a7d-8bb990d646b3",
   "metadata": {},
   "outputs": [],
   "source": [
    "# 음악 콘텐츠 이용 경로 컬럼 리스트\n",
    "music_cols_2022 = ['F2_4_1', 'F2_4_2', 'F2_4_3', 'F2_4_4', 'F2_4_5', 'F2_4_6', 'F2_4_7']\n",
    "\n",
    "# 필요한 컬럼 복사\n",
    "df_temp = df_2022[['user_id'] + music_cols_2022].copy()\n",
    "\n",
    "# 0/1 이진화 처리\n",
    "for col in music_cols_2022:\n",
    "    df_temp[col] = pd.to_numeric(df_temp[col], errors='coerce').fillna(0)\n",
    "    df_temp[col] = df_temp[col].apply(lambda x: 1 if x != 0 else 0)\n",
    "\n",
    "# 통합 컬럼 생성\n",
    "df_temp['kpop_usage_method_2022'] = df_temp[music_cols_2022].max(axis=1)\n",
    "\n",
    "# 병합\n",
    "df_temp = df_temp[['user_id', 'kpop_usage_method_2022']]\n",
    "df_kcontents = df_kcontents.merge(df_temp, on='user_id', how='left')\n"
   ]
  },
  {
   "cell_type": "markdown",
   "id": "54d8b7fb-172d-4f90-9d47-ec620822a52d",
   "metadata": {},
   "source": [
    "# (15) celebrity_viewing_method_2022"
   ]
  },
  {
   "cell_type": "code",
   "execution_count": 22,
   "id": "29d5c4f7-410f-4e7d-a053-43512aa0fa78",
   "metadata": {},
   "outputs": [],
   "source": [
    "# 연예인 방송 콘텐츠 이용 경로 컬럼 리스트\n",
    "celebrity_cols_2022 = ['F2_5_1', 'F2_5_2', 'F2_5_3', 'F2_5_4', 'F2_5_5', 'F2_5_7']\n",
    "\n",
    "# 필요한 컬럼 복사\n",
    "df_temp = df_2022[['user_id'] + celebrity_cols_2022].copy()\n",
    "\n",
    "# 0/1 이진화 처리\n",
    "for col in celebrity_cols_2022:\n",
    "    df_temp[col] = pd.to_numeric(df_temp[col], errors='coerce').fillna(0)\n",
    "    df_temp[col] = df_temp[col].apply(lambda x: 1 if x != 0 else 0)\n",
    "\n",
    "# 통합 컬럼 생성\n",
    "df_temp['celebrity_viewing_method_2022'] = df_temp[celebrity_cols_2022].max(axis=1)\n",
    "\n",
    "# 병합\n",
    "df_temp = df_temp[['user_id', 'celebrity_viewing_method_2022']]\n",
    "df_kcontents = df_kcontents.merge(df_temp, on='user_id', how='left')\n"
   ]
  },
  {
   "cell_type": "markdown",
   "id": "a5b1dfda-7627-42d8-befc-9bb7be6aa006",
   "metadata": {},
   "source": [
    "# (16) animation_usage_method_2022"
   ]
  },
  {
   "cell_type": "code",
   "execution_count": 23,
   "id": "67573b4c-d296-4578-ad0c-7461f34d82b7",
   "metadata": {},
   "outputs": [],
   "source": [
    "# 애니메이션 콘텐츠 이용 경로 컬럼 리스트\n",
    "animation_cols_2022 = ['F2_6_1', 'F2_6_2', 'F2_6_3', 'F2_6_4', 'F2_6_5', 'F2_6_7']\n",
    "\n",
    "# 필요한 컬럼 복사\n",
    "df_temp = df_2022[['user_id'] + animation_cols_2022].copy()\n",
    "\n",
    "# 0/1 이진화 처리\n",
    "for col in animation_cols_2022:\n",
    "    df_temp[col] = pd.to_numeric(df_temp[col], errors='coerce').fillna(0)\n",
    "    df_temp[col] = df_temp[col].apply(lambda x: 1 if x != 0 else 0)\n",
    "\n",
    "# 통합 컬럼 생성\n",
    "df_temp['animation_usage_method_2022'] = df_temp[animation_cols_2022].max(axis=1)\n",
    "\n",
    "# 병합\n",
    "df_temp = df_temp[['user_id', 'animation_usage_method_2022']]\n",
    "df_kcontents = df_kcontents.merge(df_temp, on='user_id', how='left')\n"
   ]
  },
  {
   "cell_type": "markdown",
   "id": "4132cc5c-ea21-4780-b4e1-ac1cfd75d532",
   "metadata": {},
   "source": [
    "# (17) webtoon_viewing_method_2022"
   ]
  },
  {
   "cell_type": "code",
   "execution_count": 24,
   "id": "fd06aa56-12e1-41a8-ad57-925db524117f",
   "metadata": {},
   "outputs": [],
   "source": [
    "# 웹툰 콘텐츠 이용 경로 컬럼 리스트\n",
    "webtoon_cols_2022 = ['F2_7_1', 'F2_7_2', 'F2_7_3', 'F2_7_4', 'F2_7_5', 'F2_7_7']\n",
    "\n",
    "# 필요한 컬럼 복사\n",
    "df_temp = df_2022[['user_id'] + webtoon_cols_2022].copy()\n",
    "\n",
    "# 0/1 이진화 처리\n",
    "for col in webtoon_cols_2022:\n",
    "    df_temp[col] = pd.to_numeric(df_temp[col], errors='coerce').fillna(0)\n",
    "    df_temp[col] = df_temp[col].apply(lambda x: 1 if x != 0 else 0)\n",
    "\n",
    "# 통합 컬럼 생성\n",
    "df_temp['webtoon_viewing_method_2022'] = df_temp[webtoon_cols_2022].max(axis=1)\n",
    "\n",
    "# 병합\n",
    "df_temp = df_temp[['user_id', 'webtoon_viewing_method_2022']]\n",
    "df_kcontents = df_kcontents.merge(df_temp, on='user_id', how='left')\n"
   ]
  },
  {
   "cell_type": "markdown",
   "id": "3cfa1bb0-d0b6-44b3-8a4a-64863778bb2d",
   "metadata": {},
   "source": [
    "# (18) webnovel_viewung_method_2022"
   ]
  },
  {
   "cell_type": "code",
   "execution_count": 25,
   "id": "3eed865b-8cdc-485d-bfef-2bc6e22467b5",
   "metadata": {},
   "outputs": [],
   "source": [
    "# 웹소설 콘텐츠 이용 경로 컬럼 리스트\n",
    "webnovel_cols_2022 = ['F2_8_1', 'F2_8_2', 'F2_8_3', 'F2_8_4', 'F2_8_5', 'F2_8_7']\n",
    "\n",
    "# 필요한 컬럼 복사\n",
    "df_temp = df_2022[['user_id'] + webnovel_cols_2022].copy()\n",
    "\n",
    "# 0/1 이진화 처리\n",
    "for col in webnovel_cols_2022:\n",
    "    df_temp[col] = pd.to_numeric(df_temp[col], errors='coerce').fillna(0)\n",
    "    df_temp[col] = df_temp[col].apply(lambda x: 1 if x != 0 else 0)\n",
    "\n",
    "# 통합 컬럼 생성\n",
    "df_temp['webnovel_viewing_method_2022'] = df_temp[webnovel_cols_2022].max(axis=1)\n",
    "\n",
    "# 병합\n",
    "df_temp = df_temp[['user_id', 'webnovel_viewing_method_2022']]\n",
    "df_kcontents = df_kcontents.merge(df_temp, on='user_id', how='left')\n"
   ]
  },
  {
   "cell_type": "markdown",
   "id": "a95086eb-a982-450e-bebb-ac28ba3f44c6",
   "metadata": {},
   "source": [
    "# (19) esport_viewing_method_2022"
   ]
  },
  {
   "cell_type": "code",
   "execution_count": 26,
   "id": "1aa03de6-1f78-4cd8-ae8e-4b3eb09c17c4",
   "metadata": {},
   "outputs": [],
   "source": [
    "# e스포츠 콘텐츠 이용 경로 컬럼 리스트\n",
    "esport_cols_2022 = ['F2_9_1', 'F2_9_2', 'F2_9_3', 'F2_9_4', 'F2_9_5', 'F2_9_7']\n",
    "\n",
    "# 필요한 컬럼 복사\n",
    "df_temp = df_2022[['user_id'] + esport_cols_2022].copy()\n",
    "\n",
    "# 0/1 이진화 처리\n",
    "for col in esport_cols_2022:\n",
    "    df_temp[col] = pd.to_numeric(df_temp[col], errors='coerce').fillna(0)\n",
    "    df_temp[col] = df_temp[col].apply(lambda x: 1 if x != 0 else 0)\n",
    "\n",
    "# 통합 컬럼 생성\n",
    "df_temp['esport_viewing_method_2022'] = df_temp[esport_cols_2022].max(axis=1)\n",
    "\n",
    "# 병합\n",
    "df_temp = df_temp[['user_id', 'esport_viewing_method_2022']]\n",
    "df_kcontents = df_kcontents.merge(df_temp, on='user_id', how='left')\n"
   ]
  },
  {
   "cell_type": "markdown",
   "id": "7608da9a-0f88-47ff-8c59-803403159c20",
   "metadata": {},
   "source": [
    "# (20) series_usage_method_2023"
   ]
  },
  {
   "cell_type": "code",
   "execution_count": 27,
   "id": "11db6aa4-89c1-46ac-83a8-3c4fd25f3312",
   "metadata": {},
   "outputs": [],
   "source": [
    "df_kcontents['series_usage_method_2023'] = df_2023['E3']\n"
   ]
  },
  {
   "cell_type": "markdown",
   "id": "4c242370-0269-4270-96a7-35d594e430bb",
   "metadata": {},
   "source": [
    "# (21) movies_usage_method_2023"
   ]
  },
  {
   "cell_type": "code",
   "execution_count": 28,
   "id": "5d4d8344-51da-4640-8718-d9d46fa0a0e9",
   "metadata": {},
   "outputs": [],
   "source": [
    "df_kcontents['movies_usage_method_2023'] = df_2023['E3_1']"
   ]
  },
  {
   "cell_type": "markdown",
   "id": "6c56a494-ce2a-4987-9a6c-f506013ee3ac",
   "metadata": {},
   "source": [
    "# (22) variety_usage_method_2023"
   ]
  },
  {
   "cell_type": "code",
   "execution_count": 29,
   "id": "d38f0504-a04f-457f-9258-30788b4ba902",
   "metadata": {},
   "outputs": [],
   "source": [
    "df_kcontents['variety_usage_method_2023'] = df_2023['E3_2']"
   ]
  },
  {
   "cell_type": "markdown",
   "id": "7eec5b65-e722-4564-b758-ed206b8ebb7a",
   "metadata": {},
   "source": [
    "# (23) kpop_usage_method_2023"
   ]
  },
  {
   "cell_type": "code",
   "execution_count": 30,
   "id": "d8f5100a-4a6c-4e63-b65c-b27c67bb0572",
   "metadata": {},
   "outputs": [],
   "source": [
    "df_kcontents['kpop_usage_method_2023'] = df_2023['E3_3']"
   ]
  },
  {
   "cell_type": "markdown",
   "id": "56caafbc-a46a-42bc-ab44-351ee9fd178b",
   "metadata": {},
   "source": [
    "# (24) celebrity_viewing_method_2023"
   ]
  },
  {
   "cell_type": "code",
   "execution_count": 31,
   "id": "9736fc05-f233-42c0-a552-72da5b64b333",
   "metadata": {},
   "outputs": [],
   "source": [
    "df_kcontents['celebrity_usage_method_2023'] = df_2023['E3_4']"
   ]
  },
  {
   "cell_type": "markdown",
   "id": "1c6bbb5c-2898-40ae-9b75-bf3b19a83d9b",
   "metadata": {},
   "source": [
    "# (25) animation_usage_method_2023"
   ]
  },
  {
   "cell_type": "code",
   "execution_count": 32,
   "id": "bf575cc0-77e4-44e6-9cc5-137eed0b4d0a",
   "metadata": {},
   "outputs": [],
   "source": [
    "df_kcontents['animation_usage_method_2023'] = df_2023['E3_5']"
   ]
  },
  {
   "cell_type": "markdown",
   "id": "4468b374-f573-47bf-ad97-58f5b8877679",
   "metadata": {},
   "source": [
    "# (26) webtoon_viewing_method_2023"
   ]
  },
  {
   "cell_type": "code",
   "execution_count": 33,
   "id": "610c2aa4-b836-4520-a46c-f31b20c403c5",
   "metadata": {},
   "outputs": [],
   "source": [
    "df_kcontents['webtoon_usage_method_2023'] = df_2023['E3_6']"
   ]
  },
  {
   "cell_type": "markdown",
   "id": "80bbc71d-66bd-47d9-8a62-37bf6b3e5310",
   "metadata": {},
   "source": [
    "# (27) webnovel_viewing_method_2023"
   ]
  },
  {
   "cell_type": "code",
   "execution_count": 34,
   "id": "1a2620cd-6058-4da5-8009-9faf98d89005",
   "metadata": {},
   "outputs": [],
   "source": [
    "df_kcontents['webnovel_usage_method_2023'] = df_2023['E3_7']"
   ]
  },
  {
   "cell_type": "markdown",
   "id": "9354c740-ccca-4ac3-a000-25add05e8a3f",
   "metadata": {},
   "source": [
    "# (28) esport_viewing_method_2023"
   ]
  },
  {
   "cell_type": "code",
   "execution_count": 35,
   "id": "c2b49bc6-e404-4a08-a8bc-f73aec9a436c",
   "metadata": {},
   "outputs": [],
   "source": [
    "df_kcontents['esport_usage_method_2023'] = df_2023['E3_8']\n"
   ]
  },
  {
   "cell_type": "markdown",
   "id": "a15c3100-90c7-4a8e-96f8-f6e8604a10e3",
   "metadata": {},
   "source": [
    "# (29) series_usage_frequency"
   ]
  },
  {
   "cell_type": "code",
   "execution_count": 36,
   "id": "f592f615-1a49-4e91-884e-9373d3364fc8",
   "metadata": {},
   "outputs": [],
   "source": [
    "frequency_map = {\n",
    "    1: '매일',\n",
    "    2: '1주일에 5~6일',\n",
    "    3: '1주일에 3~4일',\n",
    "    4: '1주일에 1~2일',\n",
    "    5: '한 달에 1~3일',\n",
    "    6: '2~3달에 1~2일 이하'\n",
    "}\n",
    "\n",
    "df_kcontents = add_column_to_kcontents(\n",
    "    df_kcontents, df_2022, df_2023,\n",
    "    col_2022=\"F3\", col_2023=\"E4\",\n",
    "    new_col_name=\"series_usage_frequency\",\n",
    "    mapping_2022=frequency_map,\n",
    "    mapping_2023=frequency_map\n",
    ")"
   ]
  },
  {
   "cell_type": "markdown",
   "id": "c47c10c0-38cd-4188-9ff2-c0b5dd83f295",
   "metadata": {},
   "source": [
    "# (30) movies_usage_frequency"
   ]
  },
  {
   "cell_type": "code",
   "execution_count": 37,
   "id": "8833adc9-8156-41b1-9b8e-acbb27cdb0b9",
   "metadata": {},
   "outputs": [],
   "source": [
    "df_kcontents = add_column_to_kcontents(\n",
    "    df_kcontents, df_2022, df_2023,\n",
    "    col_2022=\"F4\", col_2023=\"E5\",\n",
    "    new_col_name=\"movies_usage_frequency\",\n",
    "    mapping_2022=frequency_map,\n",
    "    mapping_2023=frequency_map\n",
    ")"
   ]
  },
  {
   "cell_type": "markdown",
   "id": "594587ba-7132-49a2-a010-ca340bd42798",
   "metadata": {},
   "source": [
    "# (31) variety_usage_frequency"
   ]
  },
  {
   "cell_type": "code",
   "execution_count": 38,
   "id": "eeb7df17-1908-40d8-9846-dfaf19008e51",
   "metadata": {},
   "outputs": [],
   "source": [
    "df_kcontents = add_column_to_kcontents(\n",
    "    df_kcontents, df_2022, df_2023,\n",
    "    col_2022=\"F5\", col_2023=\"E6\",\n",
    "    new_col_name=\"variety_usage_frequency\",\n",
    "    mapping_2022=frequency_map,\n",
    "    mapping_2023=frequency_map\n",
    ")"
   ]
  },
  {
   "cell_type": "markdown",
   "id": "4ba17c2f-b819-40da-a39f-4e95f449a3c1",
   "metadata": {},
   "source": [
    "# (32) kpop_usage_frequency"
   ]
  },
  {
   "cell_type": "code",
   "execution_count": 39,
   "id": "a02898f3-9537-47d7-9c0e-51fe00e3461d",
   "metadata": {},
   "outputs": [],
   "source": [
    "df_kcontents = add_column_to_kcontents(\n",
    "    df_kcontents,\n",
    "    df_2022, df_2023,\n",
    "    col_2022='F6',\n",
    "    col_2023='E7',\n",
    "    new_col_name='kpop_usage_frequency',\n",
    "    mapping_2022=frequency_map,\n",
    "    mapping_2023=frequency_map\n",
    ")"
   ]
  },
  {
   "cell_type": "markdown",
   "id": "2ad8709f-e038-46d8-8800-2414a31753e0",
   "metadata": {},
   "source": [
    "# (33) webtoon_usage_frequency"
   ]
  },
  {
   "cell_type": "code",
   "execution_count": 40,
   "id": "565c6e54-9b17-453b-8ef8-de312b413f8b",
   "metadata": {},
   "outputs": [],
   "source": [
    "df_kcontents = add_column_to_kcontents(\n",
    "    df_kcontents,\n",
    "    df_2022, df_2023,\n",
    "    col_2022='F7',\n",
    "    col_2023='E8',\n",
    "    new_col_name='webtoon_usage_frequency',\n",
    "    mapping_2022=frequency_map,\n",
    "    mapping_2023=frequency_map\n",
    ")"
   ]
  },
  {
   "cell_type": "markdown",
   "id": "bae41eb7-3cec-4fdb-8bb8-85f6428895e5",
   "metadata": {},
   "source": [
    "# (34) webnovel_usage_frequency"
   ]
  },
  {
   "cell_type": "code",
   "execution_count": 41,
   "id": "24169f15-afcf-45ae-8099-88c9b719a510",
   "metadata": {},
   "outputs": [],
   "source": [
    "df_kcontents = add_column_to_kcontents(\n",
    "    df_kcontents,\n",
    "    df_2022, df_2023,\n",
    "    col_2022='F8',\n",
    "    col_2023='E9',\n",
    "    new_col_name='webnovel_usage_frequency',\n",
    "    mapping_2022=frequency_map,\n",
    "    mapping_2023=frequency_map\n",
    ")"
   ]
  },
  {
   "cell_type": "markdown",
   "id": "67d465a9-2981-4889-90c7-5d9d9a6352ad",
   "metadata": {},
   "source": [
    "# (35) drama_movie_genre_rank1"
   ]
  },
  {
   "cell_type": "code",
   "execution_count": 42,
   "id": "f3f0d14a-9c10-41ff-a2a2-4a3a4d6e65e1",
   "metadata": {},
   "outputs": [],
   "source": [
    "def add_column_to_kcontents(df_kcontents, df_2022, df_2023, col_2022, col_2023, new_col_name,\n",
    "                            mapping_2022=None, mapping_2023=None):\n",
    "    \"\"\"\n",
    "    kcontents 테이블에 새로운 컬럼을 추가하는 함수\n",
    "    \"\"\"\n",
    "    # 2022 처리\n",
    "    df_2022_col = df_2022[['user_id', col_2022]].copy()\n",
    "    df_2022_col = df_2022_col.rename(columns={col_2022: new_col_name})\n",
    "    if mapping_2022:\n",
    "        df_2022_col[new_col_name] = df_2022_col[new_col_name].map(mapping_2022)\n",
    "\n",
    "    # 2023 처리 (col_2023이 주어진 경우에만)\n",
    "    if col_2023 is not None:\n",
    "        df_2023_col = df_2023[['user_id', col_2023]].copy()\n",
    "        df_2023_col = df_2023_col.rename(columns={col_2023: new_col_name})\n",
    "        if mapping_2023:\n",
    "            df_2023_col[new_col_name] = df_2023_col[new_col_name].map(mapping_2023)\n",
    "        df_new_col = pd.concat([df_2022_col, df_2023_col], ignore_index=True)\n",
    "    else:\n",
    "        df_new_col = df_2022_col.copy()\n",
    "\n",
    "    # 병합\n",
    "    df_kcontents = df_kcontents.merge(df_new_col, on='user_id', how='left')\n",
    "    return df_kcontents\n"
   ]
  },
  {
   "cell_type": "code",
   "execution_count": 43,
   "id": "81913177-b936-4a08-b238-06d514d00bbe",
   "metadata": {},
   "outputs": [],
   "source": [
    "genre_map_2022 = {\n",
    "    1: '로맨스/멜로',\n",
    "    2: 'SF/판타지',\n",
    "    3: '액션',\n",
    "    4: '공포/스릴러/좀비물',\n",
    "    5: '역사물',\n",
    "    6: '휴면/가족',\n",
    "    7: '다큐멘터리',\n",
    "    8: '뮤지컬',\n",
    "    9: '기타',\n",
    "    10: '이용하지 않음'\n",
    "}"
   ]
  },
  {
   "cell_type": "code",
   "execution_count": 44,
   "id": "55623bd0-cc8b-42b8-8bb1-4026b67014a1",
   "metadata": {},
   "outputs": [],
   "source": [
    "df_kcontents = add_column_to_kcontents(\n",
    "    df_kcontents,\n",
    "    df_2022, df_2023,\n",
    "    col_2022='F10RANK_1',\n",
    "    col_2023=None,\n",
    "    new_col_name='drama_movie_genre_rank1',\n",
    "    mapping_2022=genre_map_2022,\n",
    "    mapping_2023=None\n",
    ")\n"
   ]
  },
  {
   "cell_type": "markdown",
   "id": "caac368e-873b-4244-b256-60a8a523e2f8",
   "metadata": {},
   "source": [
    "# (36) drama_movie_genre_rank2"
   ]
  },
  {
   "cell_type": "code",
   "execution_count": 45,
   "id": "14306659-a25c-4625-be92-2cdce6d91adf",
   "metadata": {},
   "outputs": [],
   "source": [
    "df_kcontents = add_column_to_kcontents(\n",
    "    df_kcontents,\n",
    "    df_2022, df_2023,\n",
    "    col_2022='F10RANK_2',\n",
    "    col_2023=None,\n",
    "    new_col_name='drama_movie_genre_rank2',\n",
    "    mapping_2022=genre_map_2022,\n",
    "    mapping_2023=None\n",
    ")\n"
   ]
  },
  {
   "cell_type": "markdown",
   "id": "ed71ca8e-2c6e-4cf0-a20d-4171300fd8fd",
   "metadata": {},
   "source": [
    "# (37) drama_movie_romance"
   ]
  },
  {
   "cell_type": "code",
   "execution_count": 46,
   "id": "537b6807-34a4-45aa-89ca-c6ecfb9feafc",
   "metadata": {},
   "outputs": [],
   "source": [
    "def add_multiselect_column_2023(df_kcontents, df_2023, base_col, multiselect_cols, new_col_name, target_code):\n",
    "    all_cols = [base_col] + multiselect_cols\n",
    "    df_2023_part = df_2023[['user_id'] + all_cols].copy()\n",
    "\n",
    "    df_2023_part[new_col_name] = df_2023_part[all_cols].apply(\n",
    "        lambda row: 1 if target_code in row.values else 0, axis=1\n",
    "    )\n",
    "\n",
    "    df_result = df_kcontents.merge(df_2023_part[['user_id', new_col_name]], on='user_id', how='left')\n",
    "    return df_result"
   ]
  },
  {
   "cell_type": "code",
   "execution_count": 47,
   "id": "86902aa7-52c9-4c19-9047-6a279e99556b",
   "metadata": {},
   "outputs": [],
   "source": [
    "df_kcontents = add_multiselect_column_2023(\n",
    "    df_kcontents, df_2023,\n",
    "    base_col='E10',\n",
    "    multiselect_cols=['E10_m2', 'E10_m3', 'E10_m4', 'E10_m5', 'E10_m6', 'E10_m7', 'E10_m8', 'E10_m9', 'E10_m10', 'E10_m11', 'E10_m12', 'E10_m13'],\n",
    "    new_col_name='drama_movie_romance',\n",
    "    target_code=1\n",
    ")\n"
   ]
  },
  {
   "cell_type": "markdown",
   "id": "ed37a147-54bd-4afe-9102-1ca3caa47b57",
   "metadata": {},
   "source": [
    "# (38) drama_movie_sf"
   ]
  },
  {
   "cell_type": "code",
   "execution_count": 48,
   "id": "00a35412-8010-40f1-a93e-8550b3d0d7f1",
   "metadata": {},
   "outputs": [],
   "source": [
    "df_kcontents = add_multiselect_column_2023(\n",
    "    df_kcontents, df_2023,\n",
    "    base_col='E10',\n",
    "    multiselect_cols=[\n",
    "        'E10_m2', 'E10_m3', 'E10_m4', 'E10_m5', 'E10_m6',\n",
    "        'E10_m7', 'E10_m8', 'E10_m9', 'E10_m10', 'E10_m11',\n",
    "        'E10_m12', 'E10_m13'\n",
    "    ],\n",
    "    new_col_name='drama_movie_sf',\n",
    "    target_code=2\n",
    ")\n"
   ]
  },
  {
   "cell_type": "markdown",
   "id": "025d1357-76ec-43fa-8fc0-cc0c991adbb9",
   "metadata": {},
   "source": [
    "# (39) drama_movie_action"
   ]
  },
  {
   "cell_type": "code",
   "execution_count": 49,
   "id": "16939fb9-a6ee-4e35-8942-bfb501e82210",
   "metadata": {},
   "outputs": [],
   "source": [
    "df_kcontents = add_multiselect_column_2023(\n",
    "    df_kcontents, df_2023,\n",
    "    base_col='E10',\n",
    "    multiselect_cols=[\n",
    "        'E10_m2', 'E10_m3', 'E10_m4', 'E10_m5', 'E10_m6',\n",
    "        'E10_m7', 'E10_m8', 'E10_m9', 'E10_m10', 'E10_m11',\n",
    "        'E10_m12', 'E10_m13'\n",
    "    ],\n",
    "    new_col_name='drama_movie_action',\n",
    "    target_code=3\n",
    ")\n"
   ]
  },
  {
   "cell_type": "markdown",
   "id": "05f3911e-6365-486f-b800-db25b67faf96",
   "metadata": {},
   "source": [
    "# (40) drama_movie_horror"
   ]
  },
  {
   "cell_type": "code",
   "execution_count": 50,
   "id": "bc2e76f4-b774-4154-a63b-296a39a7a8d4",
   "metadata": {},
   "outputs": [],
   "source": [
    "df_kcontents = add_multiselect_column_2023(\n",
    "    df_kcontents, df_2023,\n",
    "    base_col='E10',\n",
    "    multiselect_cols=[\n",
    "        'E10_m2', 'E10_m3', 'E10_m4', 'E10_m5', 'E10_m6',\n",
    "        'E10_m7', 'E10_m8', 'E10_m9', 'E10_m10', 'E10_m11',\n",
    "        'E10_m12', 'E10_m13'\n",
    "    ],\n",
    "    new_col_name='drama_movie_horror',\n",
    "    target_code=4\n",
    ")\n"
   ]
  },
  {
   "cell_type": "markdown",
   "id": "793e423d-83ea-4566-8afb-83812b68507c",
   "metadata": {},
   "source": [
    "# (41) drama_movie_history"
   ]
  },
  {
   "cell_type": "code",
   "execution_count": 51,
   "id": "b58df8db-1692-425b-b55f-35cd43267e6c",
   "metadata": {},
   "outputs": [],
   "source": [
    "df_kcontents = add_multiselect_column_2023(\n",
    "    df_kcontents, df_2023,\n",
    "    base_col='E10',\n",
    "    multiselect_cols=[\n",
    "        'E10_m2', 'E10_m3', 'E10_m4', 'E10_m5', 'E10_m6',\n",
    "        'E10_m7', 'E10_m8', 'E10_m9', 'E10_m10', 'E10_m11',\n",
    "        'E10_m12', 'E10_m13'\n",
    "    ],\n",
    "    new_col_name='drama_movie_history',\n",
    "    target_code=6\n",
    ")\n"
   ]
  },
  {
   "cell_type": "markdown",
   "id": "786e6b15-12e7-4b53-a9d3-790f05f18a34",
   "metadata": {},
   "source": [
    "# (42) drama_movie_family"
   ]
  },
  {
   "cell_type": "code",
   "execution_count": 52,
   "id": "58c104a3-c582-4a6c-b046-c8413b4ce08c",
   "metadata": {},
   "outputs": [],
   "source": [
    "df_kcontents = add_multiselect_column_2023(\n",
    "    df_kcontents, df_2023,\n",
    "    base_col='E10',\n",
    "    multiselect_cols=[\n",
    "        'E10_m2', 'E10_m3', 'E10_m4', 'E10_m5', 'E10_m6',\n",
    "        'E10_m7', 'E10_m8', 'E10_m9', 'E10_m10', 'E10_m11',\n",
    "        'E10_m12', 'E10_m13'\n",
    "    ],\n",
    "    new_col_name='drama_movie_family',\n",
    "    target_code=7\n",
    ")\n"
   ]
  },
  {
   "cell_type": "markdown",
   "id": "78ec1d5f-4037-4875-a5a8-0aef055abc22",
   "metadata": {},
   "source": [
    "# (43) drama_movie_documentary"
   ]
  },
  {
   "cell_type": "code",
   "execution_count": 53,
   "id": "a1a1c41d-716a-48ee-ad6b-cfc27282ad1a",
   "metadata": {},
   "outputs": [],
   "source": [
    "df_kcontents = add_multiselect_column_2023(\n",
    "    df_kcontents, df_2023,\n",
    "    base_col='E10',\n",
    "    multiselect_cols=[\n",
    "        'E10_m2', 'E10_m3', 'E10_m4', 'E10_m5', 'E10_m6',\n",
    "        'E10_m7', 'E10_m8', 'E10_m9', 'E10_m10', 'E10_m11',\n",
    "        'E10_m12', 'E10_m13'\n",
    "    ],\n",
    "    new_col_name='drama_movie_documentary',\n",
    "    target_code=8\n",
    ")\n"
   ]
  },
  {
   "cell_type": "markdown",
   "id": "8408c08d-d413-4030-a174-f9b38d9a3c0a",
   "metadata": {},
   "source": [
    "# (44) drama_movie_musical"
   ]
  },
  {
   "cell_type": "code",
   "execution_count": 54,
   "id": "b7bc7f70-4c9f-47ee-81da-e0ef1fdf4a88",
   "metadata": {},
   "outputs": [],
   "source": [
    "df_kcontents = add_multiselect_column_2023(\n",
    "    df_kcontents, df_2023,\n",
    "    base_col='E10',\n",
    "    multiselect_cols=[\n",
    "        'E10_m2', 'E10_m3', 'E10_m4', 'E10_m5', 'E10_m6',\n",
    "        'E10_m7', 'E10_m8', 'E10_m9', 'E10_m10', 'E10_m11',\n",
    "        'E10_m12', 'E10_m13'\n",
    "    ],\n",
    "    new_col_name='drama_movie_musical',\n",
    "    target_code=9\n",
    ")\n"
   ]
  },
  {
   "cell_type": "markdown",
   "id": "53981716-45ab-4615-adab-f42bb3d20d92",
   "metadata": {},
   "source": [
    "# (45) drama_movie_other"
   ]
  },
  {
   "cell_type": "code",
   "execution_count": 55,
   "id": "6266eeca-bc41-4d60-97f3-011c8c9cfc27",
   "metadata": {},
   "outputs": [],
   "source": [
    "# 기타 범주: 코미디, 애니메이션, 키즈, 기타 (코드: 5, 10, 11, 12)\n",
    "df_kcontents['drama_movie_other'] = df_2023[[\n",
    "    'E10', 'E10_m2', 'E10_m3', 'E10_m4', 'E10_m5', 'E10_m6',\n",
    "    'E10_m7', 'E10_m8', 'E10_m9', 'E10_m10', 'E10_m11',\n",
    "    'E10_m12', 'E10_m13'\n",
    "]].apply(lambda row: int(any(code in [5, 10, 11, 12] for code in row if pd.notna(code))), axis=1)\n"
   ]
  },
  {
   "cell_type": "markdown",
   "id": "55e7e534-b0be-48b5-bc8f-e914a5a37e6e",
   "metadata": {},
   "source": [
    "# (46) drama_movie_no"
   ]
  },
  {
   "cell_type": "code",
   "execution_count": 56,
   "id": "34558ef8-340d-494a-9511-9a4e852026ec",
   "metadata": {},
   "outputs": [],
   "source": [
    "# 이용하지 않음: 코드 13\n",
    "df_kcontents['drama_movie_no'] = df_2023[[\n",
    "    'E10', 'E10_m2', 'E10_m3', 'E10_m4', 'E10_m5', 'E10_m6',\n",
    "    'E10_m7', 'E10_m8', 'E10_m9', 'E10_m10', 'E10_m11',\n",
    "    'E10_m12', 'E10_m13'\n",
    "]].apply(lambda row: int(any(code == 13 for code in row if pd.notna(code))), axis=1)\n"
   ]
  },
  {
   "cell_type": "markdown",
   "id": "9be865ef-18b6-424c-88b6-8ea093b5d76a",
   "metadata": {},
   "source": [
    "# (47) variety_favorite_rank1"
   ]
  },
  {
   "cell_type": "code",
   "execution_count": 57,
   "id": "2e1053d3-4a99-4694-ad06-01be5332b8cf",
   "metadata": {},
   "outputs": [],
   "source": [
    "variety_genre_map_2022 = {\n",
    "    1: '게임 예능',\n",
    "    2: '여행 예능',\n",
    "    3: '관찰 예능',\n",
    "    4: '연애 리얼리티 예능',\n",
    "    5: '오디션/서바이벌 예능',\n",
    "    6: '교양 예능',\n",
    "    7: '기타',\n",
    "    8: '이용하지 않음'\n",
    "}\n"
   ]
  },
  {
   "cell_type": "code",
   "execution_count": 58,
   "id": "ced2c277-dd2b-4690-993d-d384c2d762c8",
   "metadata": {},
   "outputs": [],
   "source": [
    "df_kcontents = add_column_to_kcontents(\n",
    "    df_kcontents,\n",
    "    df_2022, df_2023,\n",
    "    col_2022='F11RANK_1',\n",
    "    col_2023=None,\n",
    "    new_col_name='variety_favorite_rank1',\n",
    "    mapping_2022=variety_genre_map_2022,\n",
    "    mapping_2023=None\n",
    ")"
   ]
  },
  {
   "cell_type": "markdown",
   "id": "d0820883-7c98-41d5-be18-2fc6b1cf18a5",
   "metadata": {},
   "source": [
    "# (48) variety_favorite_rank2"
   ]
  },
  {
   "cell_type": "code",
   "execution_count": 59,
   "id": "0a39d50a-942d-4033-8e65-08703e0b6aa9",
   "metadata": {},
   "outputs": [],
   "source": [
    "df_kcontents = add_column_to_kcontents(\n",
    "    df_kcontents,\n",
    "    df_2022, df_2023,\n",
    "    col_2022='F11RANK_2',\n",
    "    col_2023=None,\n",
    "    new_col_name='variety_favorite_rank2',\n",
    "    mapping_2022=variety_genre_map_2022,\n",
    "    mapping_2023=None\n",
    ")\n"
   ]
  },
  {
   "cell_type": "markdown",
   "id": "3ba19030-e0ea-4548-8680-2a2bc9265357",
   "metadata": {},
   "source": [
    "# (49) variety_favorite_game"
   ]
  },
  {
   "cell_type": "code",
   "execution_count": 60,
   "id": "edcc424e-fc4d-42ca-bd1e-50cbf1c2310b",
   "metadata": {},
   "outputs": [],
   "source": [
    "e11_multiselect_cols = [\n",
    "    'E11_m2', 'E11_m3', 'E11_m4', 'E11_m5', 'E11_m6',\n",
    "    'E11_m7', 'E11_m8', 'E11_m9', 'E11_m10', 'E11_m11',\n",
    "    'E11_m12', 'E11_m13', 'E11_m14'\n",
    "]\n"
   ]
  },
  {
   "cell_type": "code",
   "execution_count": 61,
   "id": "2e4904ae-bf31-4588-ab96-0196ca5f98c0",
   "metadata": {},
   "outputs": [],
   "source": [
    "# (1) 게임 예능\n",
    "df_kcontents = add_multiselect_column_2023(\n",
    "    df_kcontents, df_2023,\n",
    "    base_col='E11',\n",
    "    multiselect_cols=e11_multiselect_cols,\n",
    "    new_col_name='variety_favorite_game',\n",
    "    target_code=1\n",
    ")"
   ]
  },
  {
   "cell_type": "markdown",
   "id": "7ebe7f12-e95b-4978-831d-98bec467e1e2",
   "metadata": {},
   "source": [
    "# (50) variety_favorite_travel"
   ]
  },
  {
   "cell_type": "code",
   "execution_count": 62,
   "id": "16f51866-4bcb-4a5c-8604-57db14b860ba",
   "metadata": {},
   "outputs": [],
   "source": [
    "# (2) 여행 예능\n",
    "df_kcontents = add_multiselect_column_2023(\n",
    "    df_kcontents, df_2023,\n",
    "    base_col='E11',\n",
    "    multiselect_cols=e11_multiselect_cols,\n",
    "    new_col_name='variety_favorite_travel',\n",
    "    target_code=2\n",
    ")"
   ]
  },
  {
   "cell_type": "markdown",
   "id": "000aa73a-2e8c-4dc6-9b9c-b474608c7094",
   "metadata": {},
   "source": [
    "# (51) variety_favorite_observation"
   ]
  },
  {
   "cell_type": "code",
   "execution_count": 63,
   "id": "a3635f8f-9490-4ddc-ba85-335e4fce9756",
   "metadata": {},
   "outputs": [],
   "source": [
    "# (3) 관찰 예능\n",
    "df_kcontents = add_multiselect_column_2023(\n",
    "    df_kcontents, df_2023,\n",
    "    base_col='E11',\n",
    "    multiselect_cols=e11_multiselect_cols,\n",
    "    new_col_name='variety_favorite_observation',\n",
    "    target_code=3\n",
    ")"
   ]
  },
  {
   "cell_type": "markdown",
   "id": "b32cde67-539e-4c0b-91f0-376e97fa335b",
   "metadata": {},
   "source": [
    "# (52) variety_favorite_romance"
   ]
  },
  {
   "cell_type": "code",
   "execution_count": 64,
   "id": "2040fd74-10af-482b-b486-9cfddcc14fdd",
   "metadata": {},
   "outputs": [],
   "source": [
    "# (4) 연애 리얼리티 예능\n",
    "df_kcontents = add_multiselect_column_2023(\n",
    "    df_kcontents, df_2023,\n",
    "    base_col='E11',\n",
    "    multiselect_cols=e11_multiselect_cols,\n",
    "    new_col_name='variety_favorite_romance',\n",
    "    target_code=4\n",
    ")"
   ]
  },
  {
   "cell_type": "markdown",
   "id": "c4cf92cb-0d1e-42c2-9242-c4e6f2bed4ea",
   "metadata": {},
   "source": [
    "# (53) variety_favorite_audition"
   ]
  },
  {
   "cell_type": "code",
   "execution_count": 65,
   "id": "0448a2e8-24ef-4ce9-b5d2-2d74d520a163",
   "metadata": {},
   "outputs": [],
   "source": [
    "# (5) 음악/댄스 오디션 예능\n",
    "df_kcontents = add_multiselect_column_2023(\n",
    "    df_kcontents, df_2023,\n",
    "    base_col='E11',\n",
    "    multiselect_cols=e11_multiselect_cols,\n",
    "    new_col_name='variety_favorite_audition',\n",
    "    target_code=5\n",
    ")\n"
   ]
  },
  {
   "cell_type": "markdown",
   "id": "fd4547a1-ea3a-4d98-95a1-7c89fad5242a",
   "metadata": {},
   "source": [
    "# (54) variety_favorite_sport"
   ]
  },
  {
   "cell_type": "code",
   "execution_count": 66,
   "id": "3d3a603a-7858-4b03-a7e8-f5537392658c",
   "metadata": {},
   "outputs": [],
   "source": [
    "# (6) 스포츠/게임 서바이벌 예능\n",
    "df_kcontents = add_multiselect_column_2023(\n",
    "    df_kcontents, df_2023,\n",
    "    base_col='E11',\n",
    "    multiselect_cols=e11_multiselect_cols,\n",
    "    new_col_name='variety_favorite_sport',\n",
    "    target_code=6\n",
    ")"
   ]
  },
  {
   "cell_type": "markdown",
   "id": "e88d5325-909d-41f5-a8e7-29283f45e97f",
   "metadata": {},
   "source": [
    "# (55) variety_favorite_culture"
   ]
  },
  {
   "cell_type": "code",
   "execution_count": 67,
   "id": "ceca3326-eb0c-4e88-871e-a3f472fb9c05",
   "metadata": {},
   "outputs": [],
   "source": [
    "# (7) 교양 예능\n",
    "df_kcontents = add_multiselect_column_2023(\n",
    "    df_kcontents, df_2023,\n",
    "    base_col='E11',\n",
    "    multiselect_cols=e11_multiselect_cols,\n",
    "    new_col_name='variety_favorite_culture',\n",
    "    target_code=7\n",
    ")"
   ]
  },
  {
   "cell_type": "markdown",
   "id": "4550b9eb-0e69-483d-8ab9-31739f1279fe",
   "metadata": {},
   "source": [
    "# (56) variety_favorite_other"
   ]
  },
  {
   "cell_type": "code",
   "execution_count": 68,
   "id": "c569c3e2-1e99-4dd9-88ad-82bde3515409",
   "metadata": {},
   "outputs": [],
   "source": [
    "# 기타 항목: 8~14 → 따로 컬럼 하나로 통합하고 싶으신 경우\n",
    "\n",
    "for code in [8, 9, 10, 11, 12, 13, 14]:\n",
    "    df_kcontents = add_multiselect_column_2023(\n",
    "        df_kcontents, df_2023,\n",
    "        base_col='E11',\n",
    "        multiselect_cols=e11_multiselect_cols,\n",
    "        new_col_name=f'variety_favorite_other_{code}',\n",
    "        target_code=code\n",
    "    )\n",
    "\n",
    "# 최종 통합: variety_favorite_other = OR 연산\n",
    "df_kcontents['variety_favorite_other'] = (\n",
    "    df_kcontents[[f'variety_favorite_other_{c}' for c in [8,9,10,11,12,13,14]]].max(axis=1)\n",
    ")\n",
    "\n",
    "# 중간 컬럼 삭제 (선택)\n",
    "df_kcontents.drop(columns=[f'variety_favorite_other_{c}' for c in [8,9,10,11,12,13,14]], inplace=True)"
   ]
  },
  {
   "cell_type": "markdown",
   "id": "8922632c-ccd5-4858-96c7-f3763a72c0b8",
   "metadata": {},
   "source": [
    "# (57) prefer_immediate_watch"
   ]
  },
  {
   "cell_type": "code",
   "execution_count": 69,
   "id": "19aac8cf-9a8a-4079-a2d1-b681968fb1f1",
   "metadata": {},
   "outputs": [],
   "source": [
    "df_kcontents = add_column_to_kcontents(\n",
    "    df_kcontents,\n",
    "    df_2022, df_2023,\n",
    "    col_2022='F12_1',\n",
    "    col_2023='E12',\n",
    "    new_col_name='prefer_immediate_watch'\n",
    ")"
   ]
  },
  {
   "cell_type": "markdown",
   "id": "69819cf4-0623-484c-8eb6-a5c01c65f705",
   "metadata": {},
   "source": [
    "# (58) usage_inconvenience"
   ]
  },
  {
   "cell_type": "code",
   "execution_count": 70,
   "id": "8148b6b2-1b6f-4c73-8110-297d8261afad",
   "metadata": {},
   "outputs": [],
   "source": [
    "df_kcontents = add_column_to_kcontents(\n",
    "    df_kcontents,\n",
    "    df_2022, df_2023,\n",
    "    col_2022='F13',\n",
    "    col_2023='E13',\n",
    "    new_col_name='usage_inconvenience'\n",
    ")\n"
   ]
  },
  {
   "cell_type": "markdown",
   "id": "b40753f4-0f99-4233-aaa6-51145287954c",
   "metadata": {},
   "source": [
    "# (59) nonusage_reason"
   ]
  },
  {
   "cell_type": "code",
   "execution_count": 71,
   "id": "b84d76aa-b4c7-4671-b9d1-af012d4af18c",
   "metadata": {},
   "outputs": [],
   "source": [
    "nonusage_reason_map = {\n",
    "    1: '경험할 기회/방법이 없음',\n",
    "    2: '관심이 없음'\n",
    "}\n",
    "df_kcontents = add_column_to_kcontents(\n",
    "    df_kcontents,\n",
    "    df_2022, df_2023,\n",
    "    col_2022='F14',\n",
    "    col_2023='E14',\n",
    "    new_col_name='nonusage_reason'\n",
    ")"
   ]
  },
  {
   "cell_type": "markdown",
   "id": "a82d24ec-8b55-47ba-a187-b0bc6dcd09aa",
   "metadata": {},
   "source": [
    "# (60) preferred_future_drama"
   ]
  },
  {
   "cell_type": "code",
   "execution_count": 72,
   "id": "7274cab1-8407-49c1-ada3-2941dcdaa860",
   "metadata": {},
   "outputs": [],
   "source": [
    "f16_cols = [\n",
    "    'F16_1', 'F16_2', 'F16_3', 'F16_4',\n",
    "    'F16_5', 'F16_6', 'F16_7', 'F16_8'\n",
    "]\n"
   ]
  },
  {
   "cell_type": "code",
   "execution_count": 73,
   "id": "16f04f7b-25e3-4c62-8dd9-767bc1bfde94",
   "metadata": {},
   "outputs": [],
   "source": [
    "# (1) 드라마/시리즈물\n",
    "df_kcontents = add_multiselect_column_2023(\n",
    "    df_kcontents, df_2022,\n",
    "    base_col='F16_1',\n",
    "    multiselect_cols=[],  # F16은 단일 컬럼이므로 멀티 없음\n",
    "    new_col_name='preferred_future_drama',\n",
    "    target_code=1\n",
    ")\n"
   ]
  },
  {
   "cell_type": "markdown",
   "id": "6628197f-c9b3-4f97-8d3b-c3f4560a7226",
   "metadata": {},
   "source": [
    "# (61) preferred_future_movie"
   ]
  },
  {
   "cell_type": "code",
   "execution_count": 74,
   "id": "bdd988da-0e52-42ea-a71b-e1c97f5e9846",
   "metadata": {},
   "outputs": [],
   "source": [
    "# (2) 영화\n",
    "df_kcontents = add_multiselect_column_2023(\n",
    "    df_kcontents, df_2022,\n",
    "    base_col='F16_2',\n",
    "    multiselect_cols=[],\n",
    "    new_col_name='preferred_future_movie',\n",
    "    target_code=2\n",
    ")\n"
   ]
  },
  {
   "cell_type": "markdown",
   "id": "fe3ca169-e0d8-4da0-be06-d43bf335cf3c",
   "metadata": {},
   "source": [
    "# (62) preferred_future_variety"
   ]
  },
  {
   "cell_type": "code",
   "execution_count": 75,
   "id": "8c4ea248-d76c-49d8-a487-6946a9314051",
   "metadata": {},
   "outputs": [],
   "source": [
    "# (3) 예능/버라이어티\n",
    "df_kcontents = add_multiselect_column_2023(\n",
    "    df_kcontents, df_2022,\n",
    "    base_col='F16_3',\n",
    "    multiselect_cols=[],\n",
    "    new_col_name='preferred_future_variety',\n",
    "    target_code=3\n",
    ")\n"
   ]
  },
  {
   "cell_type": "markdown",
   "id": "3a7e19f0-f670-4292-92bc-f3db642ae2e2",
   "metadata": {},
   "source": [
    "# (63) preferred_future_music"
   ]
  },
  {
   "cell_type": "code",
   "execution_count": 76,
   "id": "6f109b5b-37c9-4b64-969c-24f98b242de9",
   "metadata": {},
   "outputs": [],
   "source": [
    "# (4) 음악\n",
    "df_kcontents = add_multiselect_column_2023(\n",
    "    df_kcontents, df_2022,\n",
    "    base_col='F16_4',\n",
    "    multiselect_cols=[],\n",
    "    new_col_name='preferred_future_music',\n",
    "    target_code=4\n",
    ")\n"
   ]
  },
  {
   "cell_type": "markdown",
   "id": "f5f1ee21-d283-4a54-8a2d-e9680379e8a6",
   "metadata": {},
   "source": [
    "# (64) preferred_future_webtoon"
   ]
  },
  {
   "cell_type": "code",
   "execution_count": 77,
   "id": "d30dbbba-6925-46b5-a9e0-18339243fb7d",
   "metadata": {},
   "outputs": [],
   "source": [
    "# (5) 웹툰\n",
    "df_kcontents = add_multiselect_column_2023(\n",
    "    df_kcontents, df_2022,\n",
    "    base_col='F16_5',\n",
    "    multiselect_cols=[],\n",
    "    new_col_name='preferred_future_webtoon',\n",
    "    target_code=5\n",
    ")\n"
   ]
  },
  {
   "cell_type": "markdown",
   "id": "e699b770-8201-4f6c-aeaf-94a7509e2936",
   "metadata": {},
   "source": [
    "# (65) preferred_future_webnovel"
   ]
  },
  {
   "cell_type": "code",
   "execution_count": 78,
   "id": "72fce9ec-764a-495a-bd1e-11e2080738da",
   "metadata": {},
   "outputs": [],
   "source": [
    "# (6) 웹소설\n",
    "df_kcontents = add_multiselect_column_2023(\n",
    "    df_kcontents, df_2022,\n",
    "    base_col='F16_6',\n",
    "    multiselect_cols=[],\n",
    "    new_col_name='preferred_future_webnovel',\n",
    "    target_code=6\n",
    ")\n"
   ]
  },
  {
   "cell_type": "markdown",
   "id": "946120e8-00f3-4242-a6f8-56b5c81e72e6",
   "metadata": {},
   "source": [
    "# (66) preferred_future_game"
   ]
  },
  {
   "cell_type": "code",
   "execution_count": 79,
   "id": "be8615eb-6fba-4282-8726-214ecc27fb31",
   "metadata": {},
   "outputs": [],
   "source": [
    "# (7) 게임\n",
    "df_kcontents = add_multiselect_column_2023(\n",
    "    df_kcontents, df_2022,\n",
    "    base_col='F16_7',\n",
    "    multiselect_cols=[],\n",
    "    new_col_name='preferred_future_game',\n",
    "    target_code=7\n",
    ")\n"
   ]
  },
  {
   "cell_type": "markdown",
   "id": "15ccd6c5-5e29-4e79-a074-0357d36922b6",
   "metadata": {},
   "source": [
    "# (67) preferred_future_other"
   ]
  },
  {
   "cell_type": "code",
   "execution_count": 80,
   "id": "ae64af1f-5cc3-48e6-947c-81159b7294f2",
   "metadata": {},
   "outputs": [],
   "source": [
    "# (8) 기타\n",
    "df_kcontents = add_multiselect_column_2023(\n",
    "    df_kcontents, df_2022,\n",
    "    base_col='F16_8',\n",
    "    multiselect_cols=[],\n",
    "    new_col_name='preferred_future_other',\n",
    "    target_code=8\n",
    ")\n"
   ]
  },
  {
   "cell_type": "markdown",
   "id": "cece8ab7-3fda-4134-b70a-25d7bc458f09",
   "metadata": {},
   "source": [
    "# (68) desired_genre_drama"
   ]
  },
  {
   "cell_type": "code",
   "execution_count": 81,
   "id": "14f5ceb3-dd8c-44e4-a0d9-108dbbc9a577",
   "metadata": {},
   "outputs": [],
   "source": [
    "e16_multiselect_cols = [\n",
    "    'E16_m2', 'E16_m3', 'E16_m4', 'E16_m5',\n",
    "    'E16_m6', 'E16_m7', 'E16_m8'\n",
    "]\n"
   ]
  },
  {
   "cell_type": "code",
   "execution_count": 82,
   "id": "798c4d82-6d4c-499a-b94c-0d9ec688701f",
   "metadata": {},
   "outputs": [],
   "source": [
    "# 드라마/시리즈물 (코드 1)\n",
    "df_kcontents = add_multiselect_column_2023(\n",
    "    df_kcontents, df_2023,\n",
    "    base_col='E16',\n",
    "    multiselect_cols=e16_multiselect_cols,\n",
    "    new_col_name='desired_genre_drama',\n",
    "    target_code=1\n",
    ")"
   ]
  },
  {
   "cell_type": "markdown",
   "id": "ed9c7d80-317d-4104-a2fd-6a1cfec569a5",
   "metadata": {},
   "source": [
    "# (69) desired_genre_movie"
   ]
  },
  {
   "cell_type": "code",
   "execution_count": 83,
   "id": "20615f48-68e6-4b67-8e30-ebf5bd39536d",
   "metadata": {},
   "outputs": [],
   "source": [
    "# 영화 (코드 2)\n",
    "df_kcontents = add_multiselect_column_2023(\n",
    "    df_kcontents, df_2023,\n",
    "    base_col='E16',\n",
    "    multiselect_cols=e16_multiselect_cols,\n",
    "    new_col_name='desired_genre_movie',\n",
    "    target_code=2\n",
    ")"
   ]
  },
  {
   "cell_type": "markdown",
   "id": "572cf967-0001-4c19-b0c5-23a3075c7861",
   "metadata": {},
   "source": [
    "# (70) desired_genre_variety"
   ]
  },
  {
   "cell_type": "code",
   "execution_count": 84,
   "id": "7c72b2c9-8637-4f8d-9c03-6fa30c0a83d6",
   "metadata": {},
   "outputs": [],
   "source": [
    "# 예능/버라이어티 (코드 3)\n",
    "df_kcontents = add_multiselect_column_2023(\n",
    "    df_kcontents, df_2023,\n",
    "    base_col='E16',\n",
    "    multiselect_cols=e16_multiselect_cols,\n",
    "    new_col_name='desired_genre_variety',\n",
    "    target_code=3\n",
    ")"
   ]
  },
  {
   "cell_type": "markdown",
   "id": "32859816-332f-4fe9-9f90-98e483f601cf",
   "metadata": {},
   "source": [
    "# (71) desired_genre_music"
   ]
  },
  {
   "cell_type": "code",
   "execution_count": 85,
   "id": "14085e5c-8794-4279-85e4-7c6a1ea4967b",
   "metadata": {},
   "outputs": [],
   "source": [
    "# 음악 (코드 4)\n",
    "df_kcontents = add_multiselect_column_2023(\n",
    "    df_kcontents, df_2023,\n",
    "    base_col='E16',\n",
    "    multiselect_cols=e16_multiselect_cols,\n",
    "    new_col_name='desired_genre_music',\n",
    "    target_code=4\n",
    ")"
   ]
  },
  {
   "cell_type": "markdown",
   "id": "d597c91f-56d4-47cd-8485-36c56d3fd279",
   "metadata": {},
   "source": [
    "# (72) desired_genre_webtoon"
   ]
  },
  {
   "cell_type": "code",
   "execution_count": 86,
   "id": "607da8cc-656d-4a40-b5fa-fdb1c37738d9",
   "metadata": {},
   "outputs": [],
   "source": [
    "# 웹툰 (코드 5)\n",
    "df_kcontents = add_multiselect_column_2023(\n",
    "    df_kcontents, df_2023,\n",
    "    base_col='E16',\n",
    "    multiselect_cols=e16_multiselect_cols,\n",
    "    new_col_name='desired_genre_webtoon',\n",
    "    target_code=5\n",
    ")"
   ]
  },
  {
   "cell_type": "markdown",
   "id": "4d4cae0d-510f-4ed6-991a-8cbd907081bb",
   "metadata": {},
   "source": [
    "# (73) desired_genre_webnovel"
   ]
  },
  {
   "cell_type": "code",
   "execution_count": 87,
   "id": "be363faa-6ed7-44d9-93d1-c7278d15728a",
   "metadata": {},
   "outputs": [],
   "source": [
    "# 웹소설 (코드 6)\n",
    "df_kcontents = add_multiselect_column_2023(\n",
    "    df_kcontents, df_2023,\n",
    "    base_col='E16',\n",
    "    multiselect_cols=e16_multiselect_cols,\n",
    "    new_col_name='desired_genre_webnovel',\n",
    "    target_code=6\n",
    ")"
   ]
  },
  {
   "cell_type": "markdown",
   "id": "9b6843a4-23f1-46aa-b1ae-b8a431b41f6c",
   "metadata": {},
   "source": [
    "# (74) desired_genre_game"
   ]
  },
  {
   "cell_type": "code",
   "execution_count": 88,
   "id": "df968d2a-66f8-4440-bd8d-85f8ae3b0b94",
   "metadata": {},
   "outputs": [],
   "source": [
    "# 게임 (코드 7)\n",
    "df_kcontents = add_multiselect_column_2023(\n",
    "    df_kcontents, df_2023,\n",
    "    base_col='E16',\n",
    "    multiselect_cols=e16_multiselect_cols,\n",
    "    new_col_name='desired_genre_game',\n",
    "    target_code=7\n",
    ")"
   ]
  },
  {
   "cell_type": "markdown",
   "id": "122c8859-5838-49f2-9153-7b4b5da44953",
   "metadata": {},
   "source": [
    "# (75) desired_genre_other"
   ]
  },
  {
   "cell_type": "code",
   "execution_count": 89,
   "id": "0585fa05-f2de-4553-afd9-78d878d499c0",
   "metadata": {},
   "outputs": [],
   "source": [
    "# 기타 (코드 8)\n",
    "df_kcontents = add_multiselect_column_2023(\n",
    "    df_kcontents, df_2023,\n",
    "    base_col='E16',\n",
    "    multiselect_cols=e16_multiselect_cols,\n",
    "    new_col_name='desired_genre_other',\n",
    "    target_code=8\n",
    ")"
   ]
  },
  {
   "cell_type": "code",
   "execution_count": 90,
   "id": "3e814aa8-dea2-4a4a-8d44-c5b48be65869",
   "metadata": {},
   "outputs": [
    {
     "data": {
      "text/html": [
       "<div>\n",
       "<style scoped>\n",
       "    .dataframe tbody tr th:only-of-type {\n",
       "        vertical-align: middle;\n",
       "    }\n",
       "\n",
       "    .dataframe tbody tr th {\n",
       "        vertical-align: top;\n",
       "    }\n",
       "\n",
       "    .dataframe thead th {\n",
       "        text-align: right;\n",
       "    }\n",
       "</style>\n",
       "<table border=\"1\" class=\"dataframe\">\n",
       "  <thead>\n",
       "    <tr style=\"text-align: right;\">\n",
       "      <th></th>\n",
       "      <th>user_id</th>\n",
       "      <th>animation_usage_method_2022</th>\n",
       "      <th>animation_usage_method_2023</th>\n",
       "      <th>celebrity_usage_method_2023</th>\n",
       "      <th>celebrity_viewing_method_2022</th>\n",
       "      <th>content_type_animation</th>\n",
       "      <th>content_type_drama</th>\n",
       "      <th>content_type_esport</th>\n",
       "      <th>content_type_kpop</th>\n",
       "      <th>content_type_movie</th>\n",
       "      <th>...</th>\n",
       "      <th>variety_favorite_travel</th>\n",
       "      <th>variety_usage_frequency</th>\n",
       "      <th>variety_usage_method_2022</th>\n",
       "      <th>variety_usage_method_2023</th>\n",
       "      <th>webnovel_usage_frequency</th>\n",
       "      <th>webnovel_usage_method_2023</th>\n",
       "      <th>webnovel_viewing_method_2022</th>\n",
       "      <th>webtoon_usage_frequency</th>\n",
       "      <th>webtoon_usage_method_2023</th>\n",
       "      <th>webtoon_viewing_method_2022</th>\n",
       "    </tr>\n",
       "  </thead>\n",
       "  <tbody>\n",
       "    <tr>\n",
       "      <th>0</th>\n",
       "      <td>20228</td>\n",
       "      <td>0.0</td>\n",
       "      <td></td>\n",
       "      <td></td>\n",
       "      <td>0.0</td>\n",
       "      <td>&lt;NA&gt;</td>\n",
       "      <td>&lt;NA&gt;</td>\n",
       "      <td>&lt;NA&gt;</td>\n",
       "      <td>&lt;NA&gt;</td>\n",
       "      <td>&lt;NA&gt;</td>\n",
       "      <td>...</td>\n",
       "      <td>NaN</td>\n",
       "      <td>NaN</td>\n",
       "      <td>0.0</td>\n",
       "      <td></td>\n",
       "      <td>NaN</td>\n",
       "      <td></td>\n",
       "      <td>0.0</td>\n",
       "      <td>NaN</td>\n",
       "      <td></td>\n",
       "      <td>0.0</td>\n",
       "    </tr>\n",
       "    <tr>\n",
       "      <th>1</th>\n",
       "      <td>202211</td>\n",
       "      <td>0.0</td>\n",
       "      <td></td>\n",
       "      <td></td>\n",
       "      <td>0.0</td>\n",
       "      <td>&lt;NA&gt;</td>\n",
       "      <td>&lt;NA&gt;</td>\n",
       "      <td>&lt;NA&gt;</td>\n",
       "      <td>&lt;NA&gt;</td>\n",
       "      <td>&lt;NA&gt;</td>\n",
       "      <td>...</td>\n",
       "      <td>NaN</td>\n",
       "      <td>NaN</td>\n",
       "      <td>0.0</td>\n",
       "      <td></td>\n",
       "      <td>NaN</td>\n",
       "      <td></td>\n",
       "      <td>0.0</td>\n",
       "      <td>NaN</td>\n",
       "      <td></td>\n",
       "      <td>0.0</td>\n",
       "    </tr>\n",
       "    <tr>\n",
       "      <th>2</th>\n",
       "      <td>202212</td>\n",
       "      <td>0.0</td>\n",
       "      <td></td>\n",
       "      <td></td>\n",
       "      <td>0.0</td>\n",
       "      <td>0</td>\n",
       "      <td>0</td>\n",
       "      <td>0</td>\n",
       "      <td>0</td>\n",
       "      <td>0</td>\n",
       "      <td>...</td>\n",
       "      <td>NaN</td>\n",
       "      <td>NaN</td>\n",
       "      <td>1.0</td>\n",
       "      <td></td>\n",
       "      <td>NaN</td>\n",
       "      <td></td>\n",
       "      <td>0.0</td>\n",
       "      <td>NaN</td>\n",
       "      <td></td>\n",
       "      <td>0.0</td>\n",
       "    </tr>\n",
       "    <tr>\n",
       "      <th>3</th>\n",
       "      <td>202213</td>\n",
       "      <td>0.0</td>\n",
       "      <td></td>\n",
       "      <td></td>\n",
       "      <td>0.0</td>\n",
       "      <td>&lt;NA&gt;</td>\n",
       "      <td>&lt;NA&gt;</td>\n",
       "      <td>&lt;NA&gt;</td>\n",
       "      <td>&lt;NA&gt;</td>\n",
       "      <td>&lt;NA&gt;</td>\n",
       "      <td>...</td>\n",
       "      <td>NaN</td>\n",
       "      <td>NaN</td>\n",
       "      <td>0.0</td>\n",
       "      <td></td>\n",
       "      <td>NaN</td>\n",
       "      <td>2</td>\n",
       "      <td>0.0</td>\n",
       "      <td>NaN</td>\n",
       "      <td></td>\n",
       "      <td>0.0</td>\n",
       "    </tr>\n",
       "    <tr>\n",
       "      <th>4</th>\n",
       "      <td>202215</td>\n",
       "      <td>1.0</td>\n",
       "      <td></td>\n",
       "      <td>3</td>\n",
       "      <td>0.0</td>\n",
       "      <td>1</td>\n",
       "      <td>0</td>\n",
       "      <td>0</td>\n",
       "      <td>0</td>\n",
       "      <td>0</td>\n",
       "      <td>...</td>\n",
       "      <td>NaN</td>\n",
       "      <td>NaN</td>\n",
       "      <td>1.0</td>\n",
       "      <td></td>\n",
       "      <td>NaN</td>\n",
       "      <td></td>\n",
       "      <td>0.0</td>\n",
       "      <td>NaN</td>\n",
       "      <td></td>\n",
       "      <td>0.0</td>\n",
       "    </tr>\n",
       "    <tr>\n",
       "      <th>...</th>\n",
       "      <td>...</td>\n",
       "      <td>...</td>\n",
       "      <td>...</td>\n",
       "      <td>...</td>\n",
       "      <td>...</td>\n",
       "      <td>...</td>\n",
       "      <td>...</td>\n",
       "      <td>...</td>\n",
       "      <td>...</td>\n",
       "      <td>...</td>\n",
       "      <td>...</td>\n",
       "      <td>...</td>\n",
       "      <td>...</td>\n",
       "      <td>...</td>\n",
       "      <td>...</td>\n",
       "      <td>...</td>\n",
       "      <td>...</td>\n",
       "      <td>...</td>\n",
       "      <td>...</td>\n",
       "      <td>...</td>\n",
       "      <td>...</td>\n",
       "    </tr>\n",
       "    <tr>\n",
       "      <th>10857</th>\n",
       "      <td>202310298</td>\n",
       "      <td>NaN</td>\n",
       "      <td>NaN</td>\n",
       "      <td>NaN</td>\n",
       "      <td>NaN</td>\n",
       "      <td>0</td>\n",
       "      <td>1</td>\n",
       "      <td>0</td>\n",
       "      <td>0</td>\n",
       "      <td>1</td>\n",
       "      <td>...</td>\n",
       "      <td>0.0</td>\n",
       "      <td>NaN</td>\n",
       "      <td>NaN</td>\n",
       "      <td>NaN</td>\n",
       "      <td>NaN</td>\n",
       "      <td>NaN</td>\n",
       "      <td>NaN</td>\n",
       "      <td>NaN</td>\n",
       "      <td>NaN</td>\n",
       "      <td>NaN</td>\n",
       "    </tr>\n",
       "    <tr>\n",
       "      <th>10858</th>\n",
       "      <td>202310299</td>\n",
       "      <td>NaN</td>\n",
       "      <td>NaN</td>\n",
       "      <td>NaN</td>\n",
       "      <td>NaN</td>\n",
       "      <td>0</td>\n",
       "      <td>0</td>\n",
       "      <td>0</td>\n",
       "      <td>0</td>\n",
       "      <td>1</td>\n",
       "      <td>...</td>\n",
       "      <td>0.0</td>\n",
       "      <td>NaN</td>\n",
       "      <td>NaN</td>\n",
       "      <td>NaN</td>\n",
       "      <td>NaN</td>\n",
       "      <td>NaN</td>\n",
       "      <td>NaN</td>\n",
       "      <td>NaN</td>\n",
       "      <td>NaN</td>\n",
       "      <td>NaN</td>\n",
       "    </tr>\n",
       "    <tr>\n",
       "      <th>10859</th>\n",
       "      <td>202310300</td>\n",
       "      <td>NaN</td>\n",
       "      <td>NaN</td>\n",
       "      <td>NaN</td>\n",
       "      <td>NaN</td>\n",
       "      <td>1</td>\n",
       "      <td>0</td>\n",
       "      <td>0</td>\n",
       "      <td>0</td>\n",
       "      <td>1</td>\n",
       "      <td>...</td>\n",
       "      <td>0.0</td>\n",
       "      <td>NaN</td>\n",
       "      <td>NaN</td>\n",
       "      <td>NaN</td>\n",
       "      <td>NaN</td>\n",
       "      <td>NaN</td>\n",
       "      <td>NaN</td>\n",
       "      <td>NaN</td>\n",
       "      <td>NaN</td>\n",
       "      <td>NaN</td>\n",
       "    </tr>\n",
       "    <tr>\n",
       "      <th>10860</th>\n",
       "      <td>202310301</td>\n",
       "      <td>NaN</td>\n",
       "      <td>NaN</td>\n",
       "      <td>NaN</td>\n",
       "      <td>NaN</td>\n",
       "      <td>0</td>\n",
       "      <td>1</td>\n",
       "      <td>0</td>\n",
       "      <td>1</td>\n",
       "      <td>1</td>\n",
       "      <td>...</td>\n",
       "      <td>0.0</td>\n",
       "      <td>NaN</td>\n",
       "      <td>NaN</td>\n",
       "      <td>NaN</td>\n",
       "      <td>NaN</td>\n",
       "      <td>NaN</td>\n",
       "      <td>NaN</td>\n",
       "      <td>NaN</td>\n",
       "      <td>NaN</td>\n",
       "      <td>NaN</td>\n",
       "    </tr>\n",
       "    <tr>\n",
       "      <th>10861</th>\n",
       "      <td>202310302</td>\n",
       "      <td>NaN</td>\n",
       "      <td>NaN</td>\n",
       "      <td>NaN</td>\n",
       "      <td>NaN</td>\n",
       "      <td>0</td>\n",
       "      <td>1</td>\n",
       "      <td>0</td>\n",
       "      <td>1</td>\n",
       "      <td>1</td>\n",
       "      <td>...</td>\n",
       "      <td>0.0</td>\n",
       "      <td>NaN</td>\n",
       "      <td>NaN</td>\n",
       "      <td>NaN</td>\n",
       "      <td>NaN</td>\n",
       "      <td>NaN</td>\n",
       "      <td>NaN</td>\n",
       "      <td>NaN</td>\n",
       "      <td>NaN</td>\n",
       "      <td>NaN</td>\n",
       "    </tr>\n",
       "  </tbody>\n",
       "</table>\n",
       "<p>10862 rows × 75 columns</p>\n",
       "</div>"
      ],
      "text/plain": [
       "         user_id  animation_usage_method_2022 animation_usage_method_2023  \\\n",
       "0          20228                          0.0                               \n",
       "1         202211                          0.0                               \n",
       "2         202212                          0.0                               \n",
       "3         202213                          0.0                               \n",
       "4         202215                          1.0                               \n",
       "...          ...                          ...                         ...   \n",
       "10857  202310298                          NaN                         NaN   \n",
       "10858  202310299                          NaN                         NaN   \n",
       "10859  202310300                          NaN                         NaN   \n",
       "10860  202310301                          NaN                         NaN   \n",
       "10861  202310302                          NaN                         NaN   \n",
       "\n",
       "      celebrity_usage_method_2023  celebrity_viewing_method_2022  \\\n",
       "0                                                            0.0   \n",
       "1                                                            0.0   \n",
       "2                                                            0.0   \n",
       "3                                                            0.0   \n",
       "4                               3                            0.0   \n",
       "...                           ...                            ...   \n",
       "10857                         NaN                            NaN   \n",
       "10858                         NaN                            NaN   \n",
       "10859                         NaN                            NaN   \n",
       "10860                         NaN                            NaN   \n",
       "10861                         NaN                            NaN   \n",
       "\n",
       "       content_type_animation  content_type_drama  content_type_esport  \\\n",
       "0                        <NA>                <NA>                 <NA>   \n",
       "1                        <NA>                <NA>                 <NA>   \n",
       "2                           0                   0                    0   \n",
       "3                        <NA>                <NA>                 <NA>   \n",
       "4                           1                   0                    0   \n",
       "...                       ...                 ...                  ...   \n",
       "10857                       0                   1                    0   \n",
       "10858                       0                   0                    0   \n",
       "10859                       1                   0                    0   \n",
       "10860                       0                   1                    0   \n",
       "10861                       0                   1                    0   \n",
       "\n",
       "       content_type_kpop  content_type_movie  ...  variety_favorite_travel  \\\n",
       "0                   <NA>                <NA>  ...                      NaN   \n",
       "1                   <NA>                <NA>  ...                      NaN   \n",
       "2                      0                   0  ...                      NaN   \n",
       "3                   <NA>                <NA>  ...                      NaN   \n",
       "4                      0                   0  ...                      NaN   \n",
       "...                  ...                 ...  ...                      ...   \n",
       "10857                  0                   1  ...                      0.0   \n",
       "10858                  0                   1  ...                      0.0   \n",
       "10859                  0                   1  ...                      0.0   \n",
       "10860                  1                   1  ...                      0.0   \n",
       "10861                  1                   1  ...                      0.0   \n",
       "\n",
       "       variety_usage_frequency  variety_usage_method_2022  \\\n",
       "0                          NaN                        0.0   \n",
       "1                          NaN                        0.0   \n",
       "2                          NaN                        1.0   \n",
       "3                          NaN                        0.0   \n",
       "4                          NaN                        1.0   \n",
       "...                        ...                        ...   \n",
       "10857                      NaN                        NaN   \n",
       "10858                      NaN                        NaN   \n",
       "10859                      NaN                        NaN   \n",
       "10860                      NaN                        NaN   \n",
       "10861                      NaN                        NaN   \n",
       "\n",
       "       variety_usage_method_2023  webnovel_usage_frequency  \\\n",
       "0                                                      NaN   \n",
       "1                                                      NaN   \n",
       "2                                                      NaN   \n",
       "3                                                      NaN   \n",
       "4                                                      NaN   \n",
       "...                          ...                       ...   \n",
       "10857                        NaN                       NaN   \n",
       "10858                        NaN                       NaN   \n",
       "10859                        NaN                       NaN   \n",
       "10860                        NaN                       NaN   \n",
       "10861                        NaN                       NaN   \n",
       "\n",
       "       webnovel_usage_method_2023  webnovel_viewing_method_2022  \\\n",
       "0                                                           0.0   \n",
       "1                                                           0.0   \n",
       "2                                                           0.0   \n",
       "3                               2                           0.0   \n",
       "4                                                           0.0   \n",
       "...                           ...                           ...   \n",
       "10857                         NaN                           NaN   \n",
       "10858                         NaN                           NaN   \n",
       "10859                         NaN                           NaN   \n",
       "10860                         NaN                           NaN   \n",
       "10861                         NaN                           NaN   \n",
       "\n",
       "       webtoon_usage_frequency  webtoon_usage_method_2023  \\\n",
       "0                          NaN                              \n",
       "1                          NaN                              \n",
       "2                          NaN                              \n",
       "3                          NaN                              \n",
       "4                          NaN                              \n",
       "...                        ...                        ...   \n",
       "10857                      NaN                        NaN   \n",
       "10858                      NaN                        NaN   \n",
       "10859                      NaN                        NaN   \n",
       "10860                      NaN                        NaN   \n",
       "10861                      NaN                        NaN   \n",
       "\n",
       "       webtoon_viewing_method_2022  \n",
       "0                              0.0  \n",
       "1                              0.0  \n",
       "2                              0.0  \n",
       "3                              0.0  \n",
       "4                              0.0  \n",
       "...                            ...  \n",
       "10857                          NaN  \n",
       "10858                          NaN  \n",
       "10859                          NaN  \n",
       "10860                          NaN  \n",
       "10861                          NaN  \n",
       "\n",
       "[10862 rows x 75 columns]"
      ]
     },
     "execution_count": 90,
     "metadata": {},
     "output_type": "execute_result"
    }
   ],
   "source": [
    "new_columns = df_kcontents.columns.difference(['user_id'])\n",
    "df_kcontents[['user_id'] + list(new_columns)]"
   ]
  },
  {
   "cell_type": "code",
   "execution_count": 91,
   "id": "273a7dc7-60e0-4cdb-974a-81b948f6ae85",
   "metadata": {},
   "outputs": [
    {
     "data": {
      "text/plain": [
       "['user_id',\n",
       " 'content_type_drama',\n",
       " 'content_type_movie',\n",
       " 'content_type_variety',\n",
       " 'content_type_music',\n",
       " 'content_type_kpop',\n",
       " 'content_type_animation',\n",
       " 'content_type_webtoon',\n",
       " 'content_type_webnovel',\n",
       " 'content_type_esport',\n",
       " 'series_usage_method_2022',\n",
       " 'movies_usage_method_2022',\n",
       " 'variety_usage_method_2022',\n",
       " 'kpop_usage_method_2022',\n",
       " 'celebrity_viewing_method_2022',\n",
       " 'animation_usage_method_2022',\n",
       " 'webtoon_viewing_method_2022',\n",
       " 'webnovel_viewing_method_2022',\n",
       " 'esport_viewing_method_2022',\n",
       " 'series_usage_method_2023',\n",
       " 'movies_usage_method_2023',\n",
       " 'variety_usage_method_2023',\n",
       " 'kpop_usage_method_2023',\n",
       " 'celebrity_usage_method_2023',\n",
       " 'animation_usage_method_2023',\n",
       " 'webtoon_usage_method_2023',\n",
       " 'webnovel_usage_method_2023',\n",
       " 'esport_usage_method_2023',\n",
       " 'series_usage_frequency',\n",
       " 'movies_usage_frequency',\n",
       " 'variety_usage_frequency',\n",
       " 'kpop_usage_frequency',\n",
       " 'webtoon_usage_frequency',\n",
       " 'webnovel_usage_frequency',\n",
       " 'drama_movie_genre_rank1',\n",
       " 'drama_movie_genre_rank2',\n",
       " 'drama_movie_romance',\n",
       " 'drama_movie_sf',\n",
       " 'drama_movie_action',\n",
       " 'drama_movie_horror',\n",
       " 'drama_movie_history',\n",
       " 'drama_movie_family',\n",
       " 'drama_movie_documentary',\n",
       " 'drama_movie_musical',\n",
       " 'drama_movie_other',\n",
       " 'drama_movie_no',\n",
       " 'variety_favorite_rank1',\n",
       " 'variety_favorite_rank2',\n",
       " 'variety_favorite_game',\n",
       " 'variety_favorite_travel',\n",
       " 'variety_favorite_observation',\n",
       " 'variety_favorite_romance',\n",
       " 'variety_favorite_audition',\n",
       " 'variety_favorite_sport',\n",
       " 'variety_favorite_culture',\n",
       " 'variety_favorite_other',\n",
       " 'prefer_immediate_watch',\n",
       " 'usage_inconvenience',\n",
       " 'nonusage_reason',\n",
       " 'preferred_future_drama',\n",
       " 'preferred_future_movie',\n",
       " 'preferred_future_variety',\n",
       " 'preferred_future_music',\n",
       " 'preferred_future_webtoon',\n",
       " 'preferred_future_webnovel',\n",
       " 'preferred_future_game',\n",
       " 'preferred_future_other',\n",
       " 'desired_genre_drama',\n",
       " 'desired_genre_movie',\n",
       " 'desired_genre_variety',\n",
       " 'desired_genre_music',\n",
       " 'desired_genre_webtoon',\n",
       " 'desired_genre_webnovel',\n",
       " 'desired_genre_game',\n",
       " 'desired_genre_other']"
      ]
     },
     "execution_count": 91,
     "metadata": {},
     "output_type": "execute_result"
    }
   ],
   "source": [
    "# 모든 컬럼명 확인\n",
    "df_kcontents.columns.tolist()\n"
   ]
  },
  {
   "cell_type": "code",
   "execution_count": 93,
   "id": "2e2f5b98-6d78-4860-9c74-21c3a49f1c7d",
   "metadata": {},
   "outputs": [
    {
     "name": "stdout",
     "output_type": "stream",
     "text": [
      "kcontents 테이블 최종 업데이트 완료!\n"
     ]
    }
   ],
   "source": [
    "# 최종 DB 업로드\n",
    "df_kcontents.to_sql(name=\"kcontents\", con=engine, index=False, if_exists=\"replace\")\n",
    "print(\"kcontents 테이블 최종 업데이트 완료!\")"
   ]
  },
  {
   "cell_type": "code",
   "execution_count": null,
   "id": "dd5bffb0-4955-4797-8392-1b9e9af3644c",
   "metadata": {},
   "outputs": [],
   "source": []
  }
 ],
 "metadata": {
  "kernelspec": {
   "display_name": "Python 3 (ipykernel)",
   "language": "python",
   "name": "python3"
  },
  "language_info": {
   "codemirror_mode": {
    "name": "ipython",
    "version": 3
   },
   "file_extension": ".py",
   "mimetype": "text/x-python",
   "name": "python",
   "nbconvert_exporter": "python",
   "pygments_lexer": "ipython3",
   "version": "3.12.7"
  }
 },
 "nbformat": 4,
 "nbformat_minor": 5
}
