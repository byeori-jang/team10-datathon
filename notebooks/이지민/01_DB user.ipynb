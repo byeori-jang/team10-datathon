{
 "cells": [
  {
   "cell_type": "code",
   "execution_count": 1,
   "id": "0ff9a0b3-d4b4-4a99-afee-cb1af37c4c0c",
   "metadata": {},
   "outputs": [],
   "source": [
    "import os\n",
    "import pandas as pd\n",
    "from sqlalchemy import create_engine"
   ]
  },
  {
   "cell_type": "code",
   "execution_count": 2,
   "id": "e8206835-0f45-4fb3-8cec-16d2d5f6d764",
   "metadata": {},
   "outputs": [],
   "source": [
    "# MySQL 접속 설정\n",
    "username = \"root\"      # MySQL 사용자명\n",
    "password = \"1234\"      # MySQL 비밀번호\n",
    "host = \"127.0.0.1\"     # 로컬호스트\n",
    "port = 3306            # 포트\n",
    "database = \"ott_db\"  # DB 이름\n",
    "\n",
    "# MySQL 엔진 생성\n",
    "engine = create_engine(f\"mysql+pymysql://{username}:{password}@{host}:{port}/{database}\")"
   ]
  },
  {
   "cell_type": "code",
   "execution_count": 3,
   "id": "330d85c7-bcc1-4067-b3ef-2a8e4db43390",
   "metadata": {},
   "outputs": [
    {
     "name": "stdout",
     "output_type": "stream",
     "text": [
      "2022 데이터: (4536, 1903)\n",
      "2023 데이터: (6326, 929)\n"
     ]
    }
   ],
   "source": [
    "# 데이터 파일 경로 설정\n",
    "folder_path = r\"방송통신위원회_해외 OTT 이용행태조사 원시데이터_20231231\"\n",
    "file_2022 = os.path.join(folder_path, \"2022해외OTT이용행태조사_국가통합(20240403).csv\")\n",
    "file_2023 = os.path.join(folder_path, \"2023해외OTT이용행태조사_국가통합(20240403).csv\")\n",
    "\n",
    "# CSV 읽기\n",
    "df_2022 = pd.read_csv(file_2022, encoding='utf-8-sig', low_memory=False)\n",
    "df_2023 = pd.read_csv(file_2023, encoding='utf-8-sig', low_memory=False)\n",
    "\n",
    "print(\"2022 데이터:\", df_2022.shape)\n",
    "print(\"2023 데이터:\", df_2023.shape)"
   ]
  },
  {
   "cell_type": "markdown",
   "id": "6848bed1-7194-4459-bcf2-d096864b973f",
   "metadata": {},
   "source": [
    "## 1. User\n",
    "### (1) user_id"
   ]
  },
  {
   "cell_type": "code",
   "execution_count": 4,
   "id": "7761e99b-ad51-4321-8eca-2fc460353af6",
   "metadata": {},
   "outputs": [
    {
     "data": {
      "text/plain": [
       "10862"
      ]
     },
     "execution_count": 4,
     "metadata": {},
     "output_type": "execute_result"
    }
   ],
   "source": [
    "# 1. 2022 user_id 생성\n",
    "df_2022['user_id'] = ('2022' + df_2022['RESPID'].astype(str)).astype(int)\n",
    "# 2. 2023 user_id 생성\n",
    "df_2023['user_id'] = ('2023' + df_2023['id'].astype(str)).astype(int)\n",
    "\n",
    "df_user_id_2022 = df_2022[['user_id']].copy()\n",
    "df_user_id_2023 = df_2023[['user_id']].copy()\n",
    "\n",
    "# 3. 합치기\n",
    "df_user_id = pd.concat([df_user_id_2022, df_user_id_2023], ignore_index=True)\n",
    "\n",
    "# 4. user 테이블에 user_id 업로드\n",
    "df_user_id.to_sql(name=\"user\", con=engine, index=False, if_exists=\"replace\")"
   ]
  },
  {
   "cell_type": "code",
   "execution_count": 5,
   "id": "16f009fa-8fbe-49be-86af-c51b9e4286ee",
   "metadata": {},
   "outputs": [],
   "source": [
    "def add_column_to_user(df_user, df_2022, df_2023, col_2022, col_2023, new_col_name,\n",
    "                       mapping_2022=None, mapping_2023=None):\n",
    "    \"\"\"\n",
    "    user 테이블에 새로운 컬럼을 추가하는 함수\n",
    "    :param df_user: 기존 user 테이블 DataFrame\n",
    "    :param df_2022: 2022 데이터 DataFrame\n",
    "    :param df_2023: 2023 데이터 DataFrame\n",
    "    :param col_2022: 2022 데이터에서 가져올 컬럼명\n",
    "    :param col_2023: 2023 데이터에서 가져올 컬럼명\n",
    "    :param new_col_name: user 테이블에 추가할 새 컬럼명\n",
    "    :param mapping_2022: 2022 매핑 딕셔너리 (없으면 None)\n",
    "    :param mapping_2023: 2023 매핑 딕셔너리 (없으면 None)\n",
    "    :return: 새로운 컬럼이 추가된 df_user\n",
    "    \"\"\"\n",
    "\n",
    "    # 2022 데이터 처리\n",
    "    df_2022_col = df_2022[['user_id', col_2022]].copy()\n",
    "    df_2022_col = df_2022_col.rename(columns={col_2022: new_col_name})\n",
    "    if mapping_2022:\n",
    "        df_2022_col[new_col_name] = df_2022_col[new_col_name].map(mapping_2022)\n",
    "\n",
    "    # 2023 데이터 처리\n",
    "    df_2023_col = df_2023[['user_id', col_2023]].copy()\n",
    "    df_2023_col = df_2023_col.rename(columns={col_2023: new_col_name})\n",
    "    if mapping_2023:\n",
    "        df_2023_col[new_col_name] = df_2023_col[new_col_name].map(mapping_2023)\n",
    "\n",
    "    # 합치기\n",
    "    df_new_col = pd.concat([df_2022_col, df_2023_col], ignore_index=True)\n",
    "\n",
    "    # user 테이블 병합\n",
    "    df_user = df_user.merge(df_new_col, on='user_id', how='left')\n",
    "\n",
    "    return df_user"
   ]
  },
  {
   "cell_type": "code",
   "execution_count": 6,
   "id": "e93e041a-0063-4034-9107-189ba95e95c7",
   "metadata": {},
   "outputs": [],
   "source": [
    "# 현재 user 테이블 불러오기\n",
    "df_user = pd.read_sql(\"SELECT * FROM user\", con=engine)"
   ]
  },
  {
   "cell_type": "markdown",
   "id": "8b45f07e-46c9-42b6-a73f-44f05d23b5ac",
   "metadata": {},
   "source": [
    "### (2) nation"
   ]
  },
  {
   "cell_type": "code",
   "execution_count": 7,
   "id": "c6ff7209-ef5a-427d-bcae-a64d731b3afe",
   "metadata": {},
   "outputs": [],
   "source": [
    "nation_map_2022 = {1: '미국', 2: '대만', 3: '인도네시아'}\n",
    "nation_map_2023 = {1: '브라질', 2: '멕시코', 3: '영국', 4: '일본'}\n",
    "\n",
    "df_user = add_column_to_user(\n",
    "    df_user, df_2022, df_2023,\n",
    "    col_2022='nation', col_2023='SQ0',\n",
    "    new_col_name='nation',\n",
    "    mapping_2022=nation_map_2022,\n",
    "    mapping_2023=nation_map_2023\n",
    ")"
   ]
  },
  {
   "cell_type": "markdown",
   "id": "4b7c55a9-9eca-4840-a4c8-e59a0f9d0da0",
   "metadata": {},
   "source": [
    "### (3) age"
   ]
  },
  {
   "cell_type": "code",
   "execution_count": 8,
   "id": "4efefba1-faea-4e29-a2d5-bdab247835b7",
   "metadata": {},
   "outputs": [],
   "source": [
    "age_map = {\n",
    "    1: '15-19세', 2: '20-24세', 3: '25-29세', 4: '30-34세',\n",
    "    5: '35-39세', 6: '40-44세', 7: '45-49세', 8: '50-54세', 9: '그 외'\n",
    "}\n",
    "\n",
    "df_user = add_column_to_user(\n",
    "    df_user, df_2022, df_2023,\n",
    "    col_2022='SQ1', col_2023='SQ1',\n",
    "    new_col_name='age',\n",
    "    mapping_2022=age_map,\n",
    "    mapping_2023=age_map\n",
    ")"
   ]
  },
  {
   "cell_type": "markdown",
   "id": "47f1833f-05d9-4bd0-9135-9a6241f6280e",
   "metadata": {},
   "source": [
    "### (4) gender"
   ]
  },
  {
   "cell_type": "code",
   "execution_count": 9,
   "id": "2a3438dd-cb93-457d-ac52-8c124fad823b",
   "metadata": {},
   "outputs": [],
   "source": [
    "gender_map_2022 = {1: '남성', 2: '여성', 98: '기타'}\n",
    "gender_map_2023 = {1: '남성', 2: '여성', 3: '기타'}\n",
    "\n",
    "df_user = add_column_to_user(\n",
    "    df_user, df_2022, df_2023,\n",
    "    col_2022='SQ2', col_2023='SQ2',\n",
    "    new_col_name='gender',\n",
    "    mapping_2022=gender_map_2022,\n",
    "    mapping_2023=gender_map_2023\n",
    ")"
   ]
  },
  {
   "cell_type": "markdown",
   "id": "8201347b-70ac-4d77-aa5d-25859968f9b7",
   "metadata": {},
   "source": [
    "### (5) region"
   ]
  },
  {
   "cell_type": "code",
   "execution_count": 10,
   "id": "7fe1dce1-839f-4df1-b917-28e517eff7b1",
   "metadata": {},
   "outputs": [],
   "source": [
    "# 2022 region 매핑\n",
    "region_map_2022 = {\n",
    "    101: '서부', 102: '중부', 103: '남부', 104: '북동부',\n",
    "    201: '서부', 202: '동부',\n",
    "    301: '자바', 302: '수마트라 위주'\n",
    "}\n",
    "def map_region_2022(code):\n",
    "    if pd.isna(code):  # 결측값 처리\n",
    "        return None\n",
    "    code = int(code)\n",
    "    name = region_map_2022.get(code, None)\n",
    "    if not name:\n",
    "        return None\n",
    "    if str(code).startswith('1'):\n",
    "        return '미국 ' + name\n",
    "    elif str(code).startswith('2'):\n",
    "        return '대만 ' + name\n",
    "    elif str(code).startswith('3'):\n",
    "        return '인도네시아 ' + name\n",
    "    return name"
   ]
  },
  {
   "cell_type": "code",
   "execution_count": 11,
   "id": "632902b0-9810-4aea-8e48-2619b8059cba",
   "metadata": {},
   "outputs": [],
   "source": [
    "# 2023 region 매핑\n",
    "region_map_2023 = {\n",
    "    1: '상파울루', 2: '리우데자네이루', 3: '살바도르', 4: '포르탈레자', 5: '벨루오리존치',\n",
    "    6: '브라질리아', 7: '쿠리치바', 8: '마나우스', 9: '헤시피', 10: '벨렝', 11: '그 외',\n",
    "    12: '멕시코시티', 13: '이스타팔라파', 14: '에카테펙데모렐로스', 15: '과달라하라', 16: '푸에블라',\n",
    "    17: '시우다드후아레스', 18: '티후아나', 19: '레온델로스알다마', 20: '구스타보아돌포마데로',\n",
    "    21: '사포판', 22: '그 외',\n",
    "    23: '런던', 24: '버밍엄', 25: '리버풀', 26: '셰필드', 27: '브리스톨', 28: '레스터',\n",
    "    29: '리즈', 30: '글래스고', 31: '에든버러', 32: '카디프', 33: '스완지', 34: '뉴포트', 35: '그 외',\n",
    "    36: '도쿄', 37: '요코하마', 38: '오사카', 39: '나고야', 40: '삿포로', 41: '고베', 42: '교토',\n",
    "    43: '후쿠오카', 44: '가와사키', 45: '사이타마', 46: '그 외'\n",
    "}\n",
    "def map_region_2023(code):\n",
    "    if pd.isna(code):\n",
    "        return None\n",
    "    code = int(code)\n",
    "    name = region_map_2023.get(code, None)\n",
    "    if not name:\n",
    "        return None\n",
    "    if 1 <= code <= 11:\n",
    "        return '브라질 ' + name\n",
    "    elif 12 <= code <= 22:\n",
    "        return '멕시코 ' + name\n",
    "    elif 23 <= code <= 35:\n",
    "        return '영국 ' + name\n",
    "    elif 36 <= code <= 46:\n",
    "        return '일본 ' + name\n",
    "    return name"
   ]
  },
  {
   "cell_type": "code",
   "execution_count": 12,
   "id": "97319b86-b3d5-4a82-a5a3-62e783f9016b",
   "metadata": {},
   "outputs": [],
   "source": [
    "# 2022 region 처리\n",
    "df_region_2022 = df_2022[['user_id', 'SQ3']].copy()\n",
    "df_region_2022 = df_region_2022.rename(columns={'SQ3': 'region'})\n",
    "df_region_2022['region'] = df_region_2022['region'].apply(map_region_2022)\n",
    "\n",
    "# 2023 region 처리\n",
    "df_region_2023 = df_2023[['user_id', 'SQ3']].copy()\n",
    "df_region_2023 = df_region_2023.rename(columns={'SQ3': 'region'})\n",
    "df_region_2023['region'] = df_region_2023['region'].apply(map_region_2023)\n",
    "\n",
    "# 합치기\n",
    "df_region = pd.concat([df_region_2022, df_region_2023], ignore_index=True)\n",
    "\n",
    "# user 테이블 병합\n",
    "df_user = df_user.merge(df_region, on='user_id', how='left')"
   ]
  },
  {
   "cell_type": "markdown",
   "id": "b3c295b1-c44d-4183-8217-53b0ceb070be",
   "metadata": {},
   "source": [
    "### (6) job"
   ]
  },
  {
   "cell_type": "code",
   "execution_count": 13,
   "id": "30a74928-2d3b-43e7-93f8-de3aefe0f4ba",
   "metadata": {},
   "outputs": [],
   "source": [
    "job_map_2022 = {\n",
    "    1: '관리/경영직', 2: '자영업', 3: '농/임/어/축산업', 4: '전문직',\n",
    "    5: '사무직', 6: '서비스직', 7: '판매/영업직', 8: '기술직',\n",
    "    9: '단순노무직', 10: '전업주부', 11: '학생(초/중/고)', 12: '대학(원)생',\n",
    "    13: '무직/퇴직', 98: '기타'\n",
    "}\n",
    "job_map_2023 = {\n",
    "    1: '관리/경영직', 2: '자영업', 3: '농/임/어/축산업', 4: '전문직',\n",
    "    5: '사무직', 6: '서비스직', 7: '판매/영업직', 8: '기술직',\n",
    "    9: '단순노무직', 10: '전업주부', 11: '학생(초/중/고)', 12: '대학(원)생',\n",
    "    13: '무직/퇴직', 14: '기타'\n",
    "}\n",
    "\n",
    "df_user = add_column_to_user(\n",
    "    df_user, df_2022, df_2023,\n",
    "    col_2022='DQ1', col_2023='DQ1',\n",
    "    new_col_name='job',\n",
    "    mapping_2022=job_map_2022,\n",
    "    mapping_2023=job_map_2023\n",
    ")"
   ]
  },
  {
   "cell_type": "markdown",
   "id": "24ff7d25-ba7e-4368-b2cc-e3025fe7279a",
   "metadata": {},
   "source": [
    "### (7) edu"
   ]
  },
  {
   "cell_type": "code",
   "execution_count": 14,
   "id": "00fa646e-5049-40a0-b9c1-6fa5c51c49f9",
   "metadata": {},
   "outputs": [],
   "source": [
    "edu_map = {\n",
    "    1: '초/중/고/대학생(재학 중)',\n",
    "    2: '초졸/중졸/고졸',\n",
    "    3: '대졸',\n",
    "    4: '대학원 석사과정 또는 졸업(석사)',\n",
    "    5: '대학원 박사과정 또는 졸업(박사)'\n",
    "}\n",
    "\n",
    "df_user = add_column_to_user(\n",
    "    df_user, df_2022, df_2023,\n",
    "    col_2022='DQ2', col_2023='DQ2',\n",
    "    new_col_name='edu',\n",
    "    mapping_2022=edu_map,\n",
    "    mapping_2023=edu_map\n",
    ")"
   ]
  },
  {
   "cell_type": "markdown",
   "id": "ce15bb38-b725-41c6-b11f-c82e80827d38",
   "metadata": {},
   "source": [
    "### (8) resident_children"
   ]
  },
  {
   "cell_type": "code",
   "execution_count": 15,
   "id": "056cfcb5-e8d7-49e7-adc8-0e599e1cb963",
   "metadata": {},
   "outputs": [],
   "source": [
    "children_map = {1: 1, 2: 0}\n",
    "df_user = add_column_to_user(\n",
    "    df_user, df_2022, df_2023,\n",
    "    col_2022='SQ9', col_2023='SQ9',\n",
    "    new_col_name='resident_children',\n",
    "    mapping_2022=children_map,\n",
    "    mapping_2023=children_map\n",
    ")"
   ]
  },
  {
   "cell_type": "code",
   "execution_count": 16,
   "id": "22840d45-6e52-4d79-8a43-a4625ccb83f1",
   "metadata": {},
   "outputs": [],
   "source": [
    "def add_child_age_column(df_user, df_2022, df_2023, new_col_name, col_2022, cols_2023, target_value, convert_value=1):\n",
    "    \"\"\"\n",
    "    user 테이블에 자녀 나이 컬럼 추가하는 함수\n",
    "    \"\"\"\n",
    "    # 2022 데이터 처리\n",
    "    df_2022_part = df_2022[['user_id', col_2022]].copy()\n",
    "    df_2022_part = df_2022_part.rename(columns={col_2022: new_col_name})\n",
    "    df_2022_part[new_col_name] = (\n",
    "        df_2022_part[new_col_name]\n",
    "        .replace(' ', 0)      # 공백을 0으로\n",
    "        .fillna(0)            # NaN을 0으로\n",
    "        .astype(int)          # 숫자로 변환\n",
    "        .replace({target_value: convert_value})  # target_value → convert_value\n",
    "    )\n",
    "    df_2022_part[new_col_name] = df_2022_part[new_col_name].apply(lambda x: convert_value if x == convert_value else 0)\n",
    "\n",
    "    # 2023 데이터 처리\n",
    "    # 2023 데이터 처리\n",
    "    df_2023_part = df_2023[['user_id'] + cols_2023].copy()\n",
    "    df_2023_part[cols_2023] = df_2023_part[cols_2023].replace(' ', 0).fillna(0).astype(int)\n",
    "    df_2023_part[new_col_name] = df_2023_part[cols_2023].apply(\n",
    "        lambda row: 1 if (row == target_value).any() else 0, axis=1\n",
    "    )\n",
    "\n",
    "    df_2023_part = df_2023_part[['user_id', new_col_name]]\n",
    "\n",
    "    # 합치기\n",
    "    df_merge = pd.concat([df_2022_part, df_2023_part], ignore_index=True)\n",
    "\n",
    "    # user 테이블 병합\n",
    "    df_user = df_user.merge(df_merge, on='user_id', how='left')\n",
    "    return df_user"
   ]
  },
  {
   "cell_type": "markdown",
   "id": "8a068101-6ce8-4e93-a206-0c0917dce2ad",
   "metadata": {},
   "source": [
    "### (9) child_age_under6"
   ]
  },
  {
   "cell_type": "code",
   "execution_count": 17,
   "id": "111fc420-662b-422f-8d79-d8203bd1aa8d",
   "metadata": {},
   "outputs": [],
   "source": [
    "df_user = add_child_age_column(\n",
    "    df_user,\n",
    "    df_2022, df_2023,\n",
    "    new_col_name='child_age_under6',\n",
    "    col_2022='SQ9_1_1',\n",
    "    cols_2023=['SQ9_1', 'SQ9_1_m2', 'SQ9_1_m3', 'SQ9_1_m4', 'SQ9_1_m5', 'SQ9_1_m6'],\n",
    "    target_value=1,\n",
    "    convert_value=1\n",
    ")"
   ]
  },
  {
   "cell_type": "markdown",
   "id": "b9ef6482-9af9-4270-929b-7ae1d035ebef",
   "metadata": {},
   "source": [
    "### (10) child_age_7_9"
   ]
  },
  {
   "cell_type": "code",
   "execution_count": 18,
   "id": "f09caaea-e7ae-4c91-b321-399afb0c6afc",
   "metadata": {},
   "outputs": [],
   "source": [
    "df_user = add_child_age_column(\n",
    "    df_user,\n",
    "    df_2022, df_2023,\n",
    "    new_col_name='child_age_7_9',\n",
    "    col_2022='SQ9_1_2',\n",
    "    cols_2023=['SQ9_1', 'SQ9_1_m2', 'SQ9_1_m3', 'SQ9_1_m4', 'SQ9_1_m5', 'SQ9_1_m6'],\n",
    "    target_value=2,\n",
    "    convert_value=1\n",
    ")"
   ]
  },
  {
   "cell_type": "markdown",
   "id": "7bcc5129-bcfe-44b2-9edf-998d09720018",
   "metadata": {},
   "source": [
    "### (11) child_age_10_12"
   ]
  },
  {
   "cell_type": "code",
   "execution_count": 19,
   "id": "d1ee0bd8-64c0-455f-8d96-2376e3f2101c",
   "metadata": {},
   "outputs": [],
   "source": [
    "df_user = add_child_age_column(\n",
    "    df_user,\n",
    "    df_2022, df_2023,\n",
    "    new_col_name='child_age_10_12',\n",
    "    col_2022='SQ9_1_3',\n",
    "    cols_2023=['SQ9_1', 'SQ9_1_m2', 'SQ9_1_m3', 'SQ9_1_m4', 'SQ9_1_m5', 'SQ9_1_m6'],\n",
    "    target_value=3,\n",
    "    convert_value=1\n",
    ")"
   ]
  },
  {
   "cell_type": "markdown",
   "id": "8e5a09ee-23ca-47c5-9a18-6b00d7dc4c39",
   "metadata": {},
   "source": [
    "### (12) child_age_13_15"
   ]
  },
  {
   "cell_type": "code",
   "execution_count": 20,
   "id": "074a9d52-3804-4375-afb8-ec10f2dcab9f",
   "metadata": {},
   "outputs": [],
   "source": [
    "df_user = add_child_age_column(\n",
    "    df_user,\n",
    "    df_2022, df_2023,\n",
    "    new_col_name='child_age_13_15',\n",
    "    col_2022='SQ9_1_4',\n",
    "    cols_2023=['SQ9_1', 'SQ9_1_m2', 'SQ9_1_m3', 'SQ9_1_m4', 'SQ9_1_m5', 'SQ9_1_m6'],\n",
    "    target_value=4,\n",
    "    convert_value=1\n",
    ")"
   ]
  },
  {
   "cell_type": "markdown",
   "id": "b2bc9aaf-d75c-44d9-a934-15866af3267a",
   "metadata": {},
   "source": [
    "### (13) child_age_16_18"
   ]
  },
  {
   "cell_type": "code",
   "execution_count": 21,
   "id": "573fa241-23c5-43eb-9b9b-aa748e86545e",
   "metadata": {},
   "outputs": [],
   "source": [
    "df_user = add_child_age_column(\n",
    "    df_user,\n",
    "    df_2022, df_2023,\n",
    "    new_col_name='child_age_16_18',\n",
    "    col_2022='SQ9_1_5',\n",
    "    cols_2023=['SQ9_1', 'SQ9_1_m2', 'SQ9_1_m3', 'SQ9_1_m4', 'SQ9_1_m5', 'SQ9_1_m6'],\n",
    "    target_value=5,\n",
    "    convert_value=1\n",
    ")"
   ]
  },
  {
   "cell_type": "markdown",
   "id": "597a4af0-c43f-4c3f-bd03-9001304c4128",
   "metadata": {},
   "source": [
    "### (14) child_age_over19"
   ]
  },
  {
   "cell_type": "code",
   "execution_count": 22,
   "id": "d6af5970-dc84-461f-8c81-a178f09da34a",
   "metadata": {},
   "outputs": [],
   "source": [
    "df_user = add_child_age_column(\n",
    "    df_user,\n",
    "    df_2022, df_2023,\n",
    "    new_col_name='child_age_over19',\n",
    "    col_2022='SQ9_1_6',\n",
    "    cols_2023=['SQ9_1', 'SQ9_1_m2', 'SQ9_1_m3', 'SQ9_1_m4', 'SQ9_1_m5', 'SQ9_1_m6'],\n",
    "    target_value=6,\n",
    "    convert_value=1\n",
    ")"
   ]
  },
  {
   "cell_type": "code",
   "execution_count": 26,
   "id": "ea8fd187-ac2c-487c-b2f7-f42c83d10ea6",
   "metadata": {},
   "outputs": [
    {
     "name": "stdout",
     "output_type": "stream",
     "text": [
      "user 테이블 최종 업데이트 완료!\n"
     ]
    }
   ],
   "source": [
    "# 최종 DB 업로드\n",
    "df_user.to_sql(name=\"user\", con=engine, index=False, if_exists=\"replace\")\n",
    "print(\"user 테이블 최종 업데이트 완료!\")"
   ]
  },
  {
   "cell_type": "code",
   "execution_count": null,
   "id": "a8a8bd59-975e-4a1d-9936-00ad2d3b065e",
   "metadata": {},
   "outputs": [],
   "source": []
  }
 ],
 "metadata": {
  "kernelspec": {
   "display_name": "Python 3 (ipykernel)",
   "language": "python",
   "name": "python3"
  },
  "language_info": {
   "codemirror_mode": {
    "name": "ipython",
    "version": 3
   },
   "file_extension": ".py",
   "mimetype": "text/x-python",
   "name": "python",
   "nbconvert_exporter": "python",
   "pygments_lexer": "ipython3",
   "version": "3.10.18"
  }
 },
 "nbformat": 4,
 "nbformat_minor": 5
}
