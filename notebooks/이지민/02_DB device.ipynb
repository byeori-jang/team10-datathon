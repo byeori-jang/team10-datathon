{
 "cells": [
  {
   "cell_type": "code",
   "execution_count": 1,
   "id": "7f344331-0461-4d43-8335-09849e7550c3",
   "metadata": {},
   "outputs": [],
   "source": [
    "import os\n",
    "import pandas as pd\n",
    "from sqlalchemy import create_engine"
   ]
  },
  {
   "cell_type": "code",
   "execution_count": 2,
   "id": "09fa8efe-0f4b-4d2f-9ef0-3a1a51ff353e",
   "metadata": {},
   "outputs": [],
   "source": [
    "# MySQL 접속 설정\n",
    "username = \"root\"      # MySQL 사용자명\n",
    "password = \"1234\"      # MySQL 비밀번호\n",
    "host = \"127.0.0.1\"     # 로컬호스트\n",
    "port = 3306            # 포트\n",
    "database = \"ott_db\"  # DB 이름\n",
    "\n",
    "# MySQL 엔진 생성\n",
    "engine = create_engine(f\"mysql+pymysql://{username}:{password}@{host}:{port}/{database}\")"
   ]
  },
  {
   "cell_type": "code",
   "execution_count": 3,
   "id": "0082e56e-b4af-49d9-b9f7-ccad7abcc290",
   "metadata": {},
   "outputs": [
    {
     "name": "stdout",
     "output_type": "stream",
     "text": [
      "2022 데이터: (4536, 1903)\n",
      "2023 데이터: (6326, 929)\n"
     ]
    }
   ],
   "source": [
    "# 데이터 파일 경로 설정\n",
    "folder_path = r\"방송통신위원회_해외 OTT 이용행태조사 원시데이터_20231231\"\n",
    "file_2022 = os.path.join(folder_path, \"2022해외OTT이용행태조사_국가통합(20240403).csv\")\n",
    "file_2023 = os.path.join(folder_path, \"2023해외OTT이용행태조사_국가통합(20240403).csv\")\n",
    "\n",
    "# CSV 읽기\n",
    "df_2022 = pd.read_csv(file_2022, encoding='utf-8-sig', low_memory=False)\n",
    "df_2023 = pd.read_csv(file_2023, encoding='utf-8-sig', low_memory=False)\n",
    "\n",
    "print(\"2022 데이터:\", df_2022.shape)\n",
    "print(\"2023 데이터:\", df_2023.shape)"
   ]
  },
  {
   "cell_type": "markdown",
   "id": "8ef69922-c490-4c0a-8c58-7f2f4ff98eb7",
   "metadata": {},
   "source": [
    "## 2. device\n",
    "### (1) user_id"
   ]
  },
  {
   "cell_type": "code",
   "execution_count": 4,
   "id": "c74aa254-540e-49ca-9521-bfc0ad5b3a97",
   "metadata": {},
   "outputs": [
    {
     "data": {
      "text/plain": [
       "10862"
      ]
     },
     "execution_count": 4,
     "metadata": {},
     "output_type": "execute_result"
    }
   ],
   "source": [
    "# 1. 2022 user_id 생성\n",
    "df_2022['user_id'] = ('2022' + df_2022['RESPID'].astype(str)).astype(int)\n",
    "# 2. 2023 user_id 생성\n",
    "df_2023['user_id'] = ('2023' + df_2023['id'].astype(str)).astype(int)\n",
    "\n",
    "df_user_id_2022 = df_2022[['user_id']].copy()\n",
    "df_user_id_2023 = df_2023[['user_id']].copy()\n",
    "\n",
    "# 3. 합치기\n",
    "df_user_id = pd.concat([df_user_id_2022, df_user_id_2023], ignore_index=True)\n",
    "\n",
    "# 4. device 테이블에 user_id 업로드\n",
    "df_user_id.to_sql(name=\"device\", con=engine, index=False, if_exists=\"replace\")"
   ]
  },
  {
   "cell_type": "code",
   "execution_count": 5,
   "id": "275bcf85-3da0-43e1-9b7b-ecd64514f5e7",
   "metadata": {},
   "outputs": [],
   "source": [
    "def add_column_to_device(df_device, df_2022, df_2023, col_2022, col_2023, new_col_name,\n",
    "                       mapping_2022=None, mapping_2023=None, default_value='사용안함'):\n",
    "    \"\"\"\n",
    "    device 테이블에 새로운 컬럼을 추가하는 함수\n",
    "    \"\"\"\n",
    "    # 2022 데이터 처리\n",
    "    df_2022_col = df_2022[['user_id', col_2022]].copy()\n",
    "    df_2022_col = df_2022_col.rename(columns={col_2022: new_col_name})\n",
    "    df_2022_col[new_col_name] = pd.to_numeric(df_2022_col[new_col_name], errors='coerce')  # 숫자 변환\n",
    "    if mapping_2022:\n",
    "        df_2022_col[new_col_name] = df_2022_col[new_col_name].map(mapping_2022).fillna(default_value)\n",
    "    else:\n",
    "        df_2022_col[new_col_name] = df_2022_col[new_col_name].fillna(default_value)\n",
    "\n",
    "    # 2023 데이터 처리\n",
    "    df_2023_col = df_2023[['user_id', col_2023]].copy()\n",
    "    df_2023_col = df_2023_col.rename(columns={col_2023: new_col_name})\n",
    "    df_2023_col[new_col_name] = pd.to_numeric(df_2023_col[new_col_name], errors='coerce')  # 숫자 변환\n",
    "    if mapping_2023:\n",
    "        df_2023_col[new_col_name] = df_2023_col[new_col_name].map(mapping_2023).fillna(default_value)\n",
    "    else:\n",
    "        df_2023_col[new_col_name] = df_2023_col[new_col_name].fillna(default_value)\n",
    "\n",
    "    # 합치기 (2023 우선)\n",
    "    df_new_col = pd.concat([df_2022_col, df_2023_col], ignore_index=True)\n",
    "    df_new_col = df_new_col.drop_duplicates('user_id', keep='last')  # 2023 값 우선\n",
    "\n",
    "    # device 테이블 병합\n",
    "    df_device = df_device.merge(df_new_col, on='user_id', how='left')\n",
    "\n",
    "    return df_device"
   ]
  },
  {
   "cell_type": "code",
   "execution_count": 6,
   "id": "2806e4c3-e749-4764-ae41-0c1bce1e763b",
   "metadata": {},
   "outputs": [],
   "source": [
    "# 현재 device 테이블 불러오기\n",
    "df_device = pd.read_sql(\"SELECT * FROM device\", con=engine)"
   ]
  },
  {
   "cell_type": "markdown",
   "id": "aaa5b021-883f-4149-864a-bc9125bb18ef",
   "metadata": {},
   "source": [
    "### (2) smartphone_frequency"
   ]
  },
  {
   "cell_type": "code",
   "execution_count": 7,
   "id": "c67003c9-91fa-487d-b47d-8644a9221334",
   "metadata": {},
   "outputs": [],
   "source": [
    "frequency_map = {\n",
    "    1: '매일',\n",
    "    2: '1주일에 5~6일',\n",
    "    3: '1주일에 3~4일',\n",
    "    4: '1주일에 1~2일',\n",
    "    5: '한 달에 1~3일',\n",
    "    6: '2~3달에 1~2일 이하'\n",
    "}\n",
    "\n",
    "df_device = add_column_to_device(\n",
    "    df_device, df_2022, df_2023,\n",
    "    col_2022=\"A1_1\", col_2023=\"G1\",\n",
    "    new_col_name=\"smartphone_frequency\",\n",
    "    mapping_2022=frequency_map,\n",
    "    mapping_2023=frequency_map\n",
    ")"
   ]
  },
  {
   "cell_type": "markdown",
   "id": "00c371a3-0ff0-47c2-8c53-c0063e8ab545",
   "metadata": {},
   "source": [
    "### (3) tablet_frequency"
   ]
  },
  {
   "cell_type": "code",
   "execution_count": 8,
   "id": "31897b2c-c7fb-4120-b826-85dea58eca96",
   "metadata": {},
   "outputs": [],
   "source": [
    "df_device = add_column_to_device(\n",
    "    df_device, df_2022, df_2023,\n",
    "    col_2022=\"A1_2\", col_2023=\"G1_n2\",\n",
    "    new_col_name=\"tablet_frequency\",\n",
    "    mapping_2022=frequency_map,\n",
    "    mapping_2023=frequency_map\n",
    ")"
   ]
  },
  {
   "cell_type": "markdown",
   "id": "4c8a9be5-09a1-4668-9a28-c1c5ac2b02d3",
   "metadata": {},
   "source": [
    "### (4) pc_frequency"
   ]
  },
  {
   "cell_type": "code",
   "execution_count": 9,
   "id": "fe4f47a9-9de9-4a2d-8c51-3d442f4c9ece",
   "metadata": {},
   "outputs": [],
   "source": [
    "df_device = add_column_to_device(\n",
    "    df_device, df_2022, df_2023,\n",
    "    col_2022=\"A1_3\", col_2023=\"G1_n3\",\n",
    "    new_col_name=\"pc_frequency\",\n",
    "    mapping_2022=frequency_map,\n",
    "    mapping_2023=frequency_map\n",
    ")"
   ]
  },
  {
   "cell_type": "markdown",
   "id": "87165068-bcb6-4a72-8ebd-482f1b266999",
   "metadata": {},
   "source": [
    "### (5) tv_frequency"
   ]
  },
  {
   "cell_type": "code",
   "execution_count": 12,
   "id": "153565f7-74a9-4956-9b4d-ebaa6dbd00f4",
   "metadata": {},
   "outputs": [],
   "source": [
    "df_device = add_column_to_device(\n",
    "    df_device, df_2022, df_2023,\n",
    "    col_2022=\"A1_4\", col_2023=\"G1_n4\",\n",
    "    new_col_name=\"tv_frequency\",\n",
    "    mapping_2022=frequency_map,\n",
    "    mapping_2023=frequency_map\n",
    ")"
   ]
  },
  {
   "cell_type": "markdown",
   "id": "2e96304d-e605-4e08-983e-27f170f2cb79",
   "metadata": {},
   "source": [
    "### (6) console_frequency"
   ]
  },
  {
   "cell_type": "code",
   "execution_count": 14,
   "id": "386c7534-a9e6-436a-b77e-581e5668cec7",
   "metadata": {},
   "outputs": [],
   "source": [
    "df_device = add_column_to_device(\n",
    "    df_device, df_2022, df_2023,\n",
    "    col_2022=\"A1_5\", col_2023=\"G1_n5\",\n",
    "    new_col_name=\"console_frequency\",\n",
    "    mapping_2022=frequency_map,\n",
    "    mapping_2023=frequency_map\n",
    ")"
   ]
  },
  {
   "cell_type": "markdown",
   "id": "79511596-deca-40b3-b16f-abbfc164f745",
   "metadata": {},
   "source": [
    "### (7) smartphone_hours_weekdays"
   ]
  },
  {
   "cell_type": "code",
   "execution_count": 16,
   "id": "6f76e702-268b-4f3e-ba1b-d2b616dcee1b",
   "metadata": {},
   "outputs": [],
   "source": [
    "hours_map ={\n",
    "    1:\t'30분 미만',\n",
    "    2:\t'30분~1시간 미만',\n",
    "    3:\t'1시간~1시간 30분 미만',\n",
    "    4:\t'1시간~2시간 미만',\n",
    "    5:\t'2시간~3시간 미만',\n",
    "    6:\t'3시간~4시간 미만',\n",
    "    7:\t'4시간~5시간 미만',\n",
    "    8:\t'5시간~6시간',\n",
    "    9:\t'6시간 이상'\n",
    "}\n",
    "\n",
    "df_device = add_column_to_device(\n",
    "    df_device, df_2022, df_2023,\n",
    "    col_2022=\"A2_1_3\", col_2023=\"G2_1\",\n",
    "    new_col_name=\"smartphone_hours_weekdays\",\n",
    "    mapping_2022=hours_map,\n",
    "    mapping_2023=hours_map\n",
    ")"
   ]
  },
  {
   "cell_type": "markdown",
   "id": "cb44e7ac-9bab-4fa9-98cd-2d0805efa5bc",
   "metadata": {},
   "source": [
    "### (8) smartphone_hours_weekend"
   ]
  },
  {
   "cell_type": "code",
   "execution_count": 18,
   "id": "1e4b4364-4fff-43dc-a527-8640fbf08a86",
   "metadata": {},
   "outputs": [],
   "source": [
    "df_device = add_column_to_device(\n",
    "    df_device, df_2022, df_2023,\n",
    "    col_2022=\"A2_1_4\", col_2023=\"G2_2\",\n",
    "    new_col_name=\"smartphone_hours_weekend\",\n",
    "    mapping_2022=hours_map,\n",
    "    mapping_2023=hours_map\n",
    ")"
   ]
  },
  {
   "cell_type": "markdown",
   "id": "4ce659fd-f1e4-4e51-b230-f1b3bfa99cb1",
   "metadata": {},
   "source": [
    "### (9) tablet_hours_weekdays"
   ]
  },
  {
   "cell_type": "code",
   "execution_count": 20,
   "id": "e20fdd8f-c8c0-46fa-bf6a-25676b180877",
   "metadata": {},
   "outputs": [],
   "source": [
    "df_device = add_column_to_device(\n",
    "    df_device, df_2022, df_2023,\n",
    "    col_2022=\"A2_2_3\", col_2023=\"G2_1_n2\",\n",
    "    new_col_name=\"tablet_hours_weekdays\",\n",
    "    mapping_2022=hours_map,\n",
    "    mapping_2023=hours_map\n",
    ")"
   ]
  },
  {
   "cell_type": "markdown",
   "id": "d042773b-3b0f-4484-8647-b7c6f349fbc9",
   "metadata": {},
   "source": [
    "### (10) tablet_hours_weekend"
   ]
  },
  {
   "cell_type": "code",
   "execution_count": 22,
   "id": "90f3ceb8-2517-4c47-97b1-a290e3aacd7e",
   "metadata": {},
   "outputs": [],
   "source": [
    "df_device = add_column_to_device(\n",
    "    df_device, df_2022, df_2023,\n",
    "    col_2022=\"A2_2_4\", col_2023=\"G2_2_n2\",\n",
    "    new_col_name=\"tablet_hours_weekend\",\n",
    "    mapping_2022=hours_map,\n",
    "    mapping_2023=hours_map\n",
    ")"
   ]
  },
  {
   "cell_type": "markdown",
   "id": "9babadec-c323-4919-8656-e3ebcee26bf2",
   "metadata": {},
   "source": [
    "### (11) pc_hours_weekdays"
   ]
  },
  {
   "cell_type": "code",
   "execution_count": 24,
   "id": "6b13383d-861f-457a-b962-5c5001c8798b",
   "metadata": {},
   "outputs": [],
   "source": [
    "df_device = add_column_to_device(\n",
    "    df_device, df_2022, df_2023,\n",
    "    col_2022=\"A2_3_3\", col_2023=\"G2_1_n3\",\n",
    "    new_col_name=\"pc_hours_weekdays\",\n",
    "    mapping_2022=hours_map,\n",
    "    mapping_2023=hours_map\n",
    ")"
   ]
  },
  {
   "cell_type": "markdown",
   "id": "0e5c6dba-675d-440a-aeee-c6eadae3f034",
   "metadata": {},
   "source": [
    "### (12) pc_hours_weekend"
   ]
  },
  {
   "cell_type": "code",
   "execution_count": 26,
   "id": "27907406-428b-4d79-bdd1-1ff3076ad3c2",
   "metadata": {},
   "outputs": [],
   "source": [
    "df_device = add_column_to_device(\n",
    "    df_device, df_2022, df_2023,\n",
    "    col_2022=\"A2_3_4\", col_2023=\"G2_2_n3\",\n",
    "    new_col_name=\"pc_hours_weekend\",\n",
    "    mapping_2022=hours_map,\n",
    "    mapping_2023=hours_map\n",
    ")"
   ]
  },
  {
   "cell_type": "markdown",
   "id": "73b261fb-e681-41c2-bb26-a33af388143b",
   "metadata": {},
   "source": [
    "### (13) tv_hours_weekdays"
   ]
  },
  {
   "cell_type": "code",
   "execution_count": 27,
   "id": "0766a887-93fd-4033-85de-80ce316d6324",
   "metadata": {},
   "outputs": [],
   "source": [
    "df_device = add_column_to_device(\n",
    "    df_device, df_2022, df_2023,\n",
    "    col_2022=\"A2_4_3\", col_2023=\"G2_1_n4\",\n",
    "    new_col_name=\"tv_hours_weekdays\",\n",
    "    mapping_2022=hours_map,\n",
    "    mapping_2023=hours_map\n",
    ")"
   ]
  },
  {
   "cell_type": "markdown",
   "id": "eecfc478-056c-4c5a-8be4-0baf9cd408ed",
   "metadata": {},
   "source": [
    "### (14) tv_hours_weekend"
   ]
  },
  {
   "cell_type": "code",
   "execution_count": 29,
   "id": "5e6f1404-d5e9-4907-91b1-67ba78414f1b",
   "metadata": {},
   "outputs": [],
   "source": [
    "df_device = add_column_to_device(\n",
    "    df_device, df_2022, df_2023,\n",
    "    col_2022=\"A2_4_4\", col_2023=\"G2_2_n4\",\n",
    "    new_col_name=\"tv_hours_weekend\",\n",
    "    mapping_2022=hours_map,\n",
    "    mapping_2023=hours_map\n",
    ")"
   ]
  },
  {
   "cell_type": "markdown",
   "id": "dea3edd6-70f2-4b4d-be45-9c4673c6de20",
   "metadata": {},
   "source": [
    "### (15) console_hours_weekdays"
   ]
  },
  {
   "cell_type": "code",
   "execution_count": 31,
   "id": "23769352-79ca-4a26-8943-2f15a7147508",
   "metadata": {},
   "outputs": [],
   "source": [
    "df_device = add_column_to_device(\n",
    "    df_device, df_2022, df_2023,\n",
    "    col_2022=\"A2_5_3\", col_2023=\"G2_1_n5\",\n",
    "    new_col_name=\"console_hours_weekdays\",\n",
    "    mapping_2022=hours_map,\n",
    "    mapping_2023=hours_map\n",
    ")"
   ]
  },
  {
   "cell_type": "markdown",
   "id": "77cbfb64-e3b7-472f-9a7a-2166c411509d",
   "metadata": {},
   "source": [
    "### (16) console_hours_weekend"
   ]
  },
  {
   "cell_type": "code",
   "execution_count": 32,
   "id": "9aaa26a9-a3c9-42c2-a2b4-5e5977cfd5ea",
   "metadata": {},
   "outputs": [],
   "source": [
    "df_device = add_column_to_device(\n",
    "    df_device, df_2022, df_2023,\n",
    "    col_2022=\"A2_5_4\", col_2023=\"G2_2_n5\",\n",
    "    new_col_name=\"console_hours_weekend\",\n",
    "    mapping_2022=hours_map,\n",
    "    mapping_2023=hours_map\n",
    ")"
   ]
  },
  {
   "cell_type": "markdown",
   "id": "f397836e-3d75-4b2b-80fb-2e60a9aec37c",
   "metadata": {},
   "source": [
    "### (17) ott_main_device"
   ]
  },
  {
   "cell_type": "code",
   "execution_count": 38,
   "id": "5ff49c36-cd53-49fe-8711-c5f88646afc1",
   "metadata": {},
   "outputs": [],
   "source": [
    "ott_device_map = {\n",
    "    1:\t'스마트폰',\n",
    "    2:\t'태블릿 컴퓨터',\n",
    "    3:\t'데스크탑PC/노트북',\n",
    "    4:\t'TV수상기',\n",
    "    5:\t'기타'\n",
    "}\n",
    "\n",
    "df_device = add_column_to_device(\n",
    "    df_device, df_2022, df_2023,\n",
    "    col_2022=\"B9\", col_2023=\"A7\",\n",
    "    new_col_name=\"ott_main_device\",\n",
    "    mapping_2022=ott_device_map,\n",
    "    mapping_2023=ott_device_map\n",
    ")"
   ]
  },
  {
   "cell_type": "code",
   "execution_count": 39,
   "id": "bbd82cfe-6a86-491c-bbea-ddf311b4f8d6",
   "metadata": {},
   "outputs": [
    {
     "data": {
      "text/html": [
       "<div>\n",
       "<style scoped>\n",
       "    .dataframe tbody tr th:only-of-type {\n",
       "        vertical-align: middle;\n",
       "    }\n",
       "\n",
       "    .dataframe tbody tr th {\n",
       "        vertical-align: top;\n",
       "    }\n",
       "\n",
       "    .dataframe thead th {\n",
       "        text-align: right;\n",
       "    }\n",
       "</style>\n",
       "<table border=\"1\" class=\"dataframe\">\n",
       "  <thead>\n",
       "    <tr style=\"text-align: right;\">\n",
       "      <th></th>\n",
       "      <th>user_id</th>\n",
       "      <th>smartphone_frequency</th>\n",
       "      <th>tablet_frequency</th>\n",
       "      <th>pc_frequency</th>\n",
       "      <th>tv_frequency</th>\n",
       "      <th>console_frequency</th>\n",
       "      <th>smartphone_hours_weekdays</th>\n",
       "      <th>smartphone_hours_weekend</th>\n",
       "      <th>tablet_hours_weekdays</th>\n",
       "      <th>tablet_hours_weekend</th>\n",
       "      <th>pc_hours_weekdays</th>\n",
       "      <th>pc_hours_weekend</th>\n",
       "      <th>tv_hours_weekdays</th>\n",
       "      <th>tv_hours_weekend</th>\n",
       "      <th>console_hours_weekdays</th>\n",
       "      <th>console_hours_weekend</th>\n",
       "      <th>ott_main_device</th>\n",
       "    </tr>\n",
       "  </thead>\n",
       "  <tbody>\n",
       "    <tr>\n",
       "      <th>0</th>\n",
       "      <td>20228</td>\n",
       "      <td>매일</td>\n",
       "      <td>매일</td>\n",
       "      <td>한 달에 1~3일</td>\n",
       "      <td>사용안함</td>\n",
       "      <td>사용안함</td>\n",
       "      <td>30분 미만</td>\n",
       "      <td>30분 미만</td>\n",
       "      <td>30분 미만</td>\n",
       "      <td>30분 미만</td>\n",
       "      <td>30분 미만</td>\n",
       "      <td>30분 미만</td>\n",
       "      <td>사용안함</td>\n",
       "      <td>사용안함</td>\n",
       "      <td>사용안함</td>\n",
       "      <td>사용안함</td>\n",
       "      <td>TV수상기</td>\n",
       "    </tr>\n",
       "    <tr>\n",
       "      <th>1</th>\n",
       "      <td>202211</td>\n",
       "      <td>매일</td>\n",
       "      <td>사용안함</td>\n",
       "      <td>사용안함</td>\n",
       "      <td>사용안함</td>\n",
       "      <td>사용안함</td>\n",
       "      <td>3시간~4시간 미만</td>\n",
       "      <td>6시간 이상</td>\n",
       "      <td>사용안함</td>\n",
       "      <td>사용안함</td>\n",
       "      <td>사용안함</td>\n",
       "      <td>사용안함</td>\n",
       "      <td>사용안함</td>\n",
       "      <td>사용안함</td>\n",
       "      <td>사용안함</td>\n",
       "      <td>사용안함</td>\n",
       "      <td>스마트폰</td>\n",
       "    </tr>\n",
       "    <tr>\n",
       "      <th>2</th>\n",
       "      <td>202212</td>\n",
       "      <td>매일</td>\n",
       "      <td>1주일에 1~2일</td>\n",
       "      <td>1주일에 5~6일</td>\n",
       "      <td>매일</td>\n",
       "      <td>1주일에 1~2일</td>\n",
       "      <td>1시간~1시간 30분 미만</td>\n",
       "      <td>30분~1시간 미만</td>\n",
       "      <td>30분 미만</td>\n",
       "      <td>30분 미만</td>\n",
       "      <td>30분 미만</td>\n",
       "      <td>30분 미만</td>\n",
       "      <td>3시간~4시간 미만</td>\n",
       "      <td>3시간~4시간 미만</td>\n",
       "      <td>30분 미만</td>\n",
       "      <td>30분 미만</td>\n",
       "      <td>스마트폰</td>\n",
       "    </tr>\n",
       "    <tr>\n",
       "      <th>3</th>\n",
       "      <td>202213</td>\n",
       "      <td>사용안함</td>\n",
       "      <td>매일</td>\n",
       "      <td>사용안함</td>\n",
       "      <td>사용안함</td>\n",
       "      <td>사용안함</td>\n",
       "      <td>사용안함</td>\n",
       "      <td>사용안함</td>\n",
       "      <td>1시간~2시간 미만</td>\n",
       "      <td>5시간~6시간</td>\n",
       "      <td>사용안함</td>\n",
       "      <td>사용안함</td>\n",
       "      <td>사용안함</td>\n",
       "      <td>사용안함</td>\n",
       "      <td>사용안함</td>\n",
       "      <td>사용안함</td>\n",
       "      <td>TV수상기</td>\n",
       "    </tr>\n",
       "    <tr>\n",
       "      <th>4</th>\n",
       "      <td>202215</td>\n",
       "      <td>1주일에 1~2일</td>\n",
       "      <td>1주일에 3~4일</td>\n",
       "      <td>한 달에 1~3일</td>\n",
       "      <td>1주일에 1~2일</td>\n",
       "      <td>1주일에 3~4일</td>\n",
       "      <td>1시간~2시간 미만</td>\n",
       "      <td>2시간~3시간 미만</td>\n",
       "      <td>1시간~1시간 30분 미만</td>\n",
       "      <td>1시간~1시간 30분 미만</td>\n",
       "      <td>4시간~5시간 미만</td>\n",
       "      <td>2시간~3시간 미만</td>\n",
       "      <td>3시간~4시간 미만</td>\n",
       "      <td>1시간~2시간 미만</td>\n",
       "      <td>1시간~2시간 미만</td>\n",
       "      <td>2시간~3시간 미만</td>\n",
       "      <td>데스크탑PC/노트북</td>\n",
       "    </tr>\n",
       "    <tr>\n",
       "      <th>...</th>\n",
       "      <td>...</td>\n",
       "      <td>...</td>\n",
       "      <td>...</td>\n",
       "      <td>...</td>\n",
       "      <td>...</td>\n",
       "      <td>...</td>\n",
       "      <td>...</td>\n",
       "      <td>...</td>\n",
       "      <td>...</td>\n",
       "      <td>...</td>\n",
       "      <td>...</td>\n",
       "      <td>...</td>\n",
       "      <td>...</td>\n",
       "      <td>...</td>\n",
       "      <td>...</td>\n",
       "      <td>...</td>\n",
       "      <td>...</td>\n",
       "    </tr>\n",
       "    <tr>\n",
       "      <th>10857</th>\n",
       "      <td>202310298</td>\n",
       "      <td>1주일에 5~6일</td>\n",
       "      <td>1주일에 5~6일</td>\n",
       "      <td>매일</td>\n",
       "      <td>매일</td>\n",
       "      <td>사용안함</td>\n",
       "      <td>1시간~2시간 미만</td>\n",
       "      <td>1시간~1시간 30분 미만</td>\n",
       "      <td>1시간~2시간 미만</td>\n",
       "      <td>1시간~1시간 30분 미만</td>\n",
       "      <td>1시간~2시간 미만</td>\n",
       "      <td>30분~1시간 미만</td>\n",
       "      <td>1시간~1시간 30분 미만</td>\n",
       "      <td>1시간~1시간 30분 미만</td>\n",
       "      <td>사용안함</td>\n",
       "      <td>사용안함</td>\n",
       "      <td>스마트폰</td>\n",
       "    </tr>\n",
       "    <tr>\n",
       "      <th>10858</th>\n",
       "      <td>202310299</td>\n",
       "      <td>매일</td>\n",
       "      <td>사용안함</td>\n",
       "      <td>매일</td>\n",
       "      <td>1주일에 5~6일</td>\n",
       "      <td>사용안함</td>\n",
       "      <td>30분~1시간 미만</td>\n",
       "      <td>30분~1시간 미만</td>\n",
       "      <td>사용안함</td>\n",
       "      <td>사용안함</td>\n",
       "      <td>30분~1시간 미만</td>\n",
       "      <td>30분~1시간 미만</td>\n",
       "      <td>30분~1시간 미만</td>\n",
       "      <td>30분~1시간 미만</td>\n",
       "      <td>사용안함</td>\n",
       "      <td>사용안함</td>\n",
       "      <td>TV수상기</td>\n",
       "    </tr>\n",
       "    <tr>\n",
       "      <th>10859</th>\n",
       "      <td>202310300</td>\n",
       "      <td>1주일에 5~6일</td>\n",
       "      <td>1주일에 3~4일</td>\n",
       "      <td>1주일에 3~4일</td>\n",
       "      <td>1주일에 3~4일</td>\n",
       "      <td>1주일에 5~6일</td>\n",
       "      <td>1시간~2시간 미만</td>\n",
       "      <td>1시간~1시간 30분 미만</td>\n",
       "      <td>1시간~1시간 30분 미만</td>\n",
       "      <td>30분~1시간 미만</td>\n",
       "      <td>30분~1시간 미만</td>\n",
       "      <td>30분~1시간 미만</td>\n",
       "      <td>30분~1시간 미만</td>\n",
       "      <td>30분~1시간 미만</td>\n",
       "      <td>1시간~1시간 30분 미만</td>\n",
       "      <td>30분~1시간 미만</td>\n",
       "      <td>스마트폰</td>\n",
       "    </tr>\n",
       "    <tr>\n",
       "      <th>10860</th>\n",
       "      <td>202310301</td>\n",
       "      <td>매일</td>\n",
       "      <td>사용안함</td>\n",
       "      <td>매일</td>\n",
       "      <td>매일</td>\n",
       "      <td>사용안함</td>\n",
       "      <td>1시간~2시간 미만</td>\n",
       "      <td>30분~1시간 미만</td>\n",
       "      <td>사용안함</td>\n",
       "      <td>사용안함</td>\n",
       "      <td>2시간~3시간 미만</td>\n",
       "      <td>1시간~1시간 30분 미만</td>\n",
       "      <td>2시간~3시간 미만</td>\n",
       "      <td>1시간~2시간 미만</td>\n",
       "      <td>사용안함</td>\n",
       "      <td>사용안함</td>\n",
       "      <td>TV수상기</td>\n",
       "    </tr>\n",
       "    <tr>\n",
       "      <th>10861</th>\n",
       "      <td>202310302</td>\n",
       "      <td>매일</td>\n",
       "      <td>사용안함</td>\n",
       "      <td>1주일에 5~6일</td>\n",
       "      <td>매일</td>\n",
       "      <td>사용안함</td>\n",
       "      <td>3시간~4시간 미만</td>\n",
       "      <td>4시간~5시간 미만</td>\n",
       "      <td>사용안함</td>\n",
       "      <td>사용안함</td>\n",
       "      <td>2시간~3시간 미만</td>\n",
       "      <td>2시간~3시간 미만</td>\n",
       "      <td>2시간~3시간 미만</td>\n",
       "      <td>4시간~5시간 미만</td>\n",
       "      <td>사용안함</td>\n",
       "      <td>사용안함</td>\n",
       "      <td>스마트폰</td>\n",
       "    </tr>\n",
       "  </tbody>\n",
       "</table>\n",
       "<p>10862 rows × 17 columns</p>\n",
       "</div>"
      ],
      "text/plain": [
       "         user_id smartphone_frequency tablet_frequency pc_frequency  \\\n",
       "0          20228                   매일               매일    한 달에 1~3일   \n",
       "1         202211                   매일             사용안함         사용안함   \n",
       "2         202212                   매일        1주일에 1~2일    1주일에 5~6일   \n",
       "3         202213                 사용안함               매일         사용안함   \n",
       "4         202215            1주일에 1~2일        1주일에 3~4일    한 달에 1~3일   \n",
       "...          ...                  ...              ...          ...   \n",
       "10857  202310298            1주일에 5~6일        1주일에 5~6일           매일   \n",
       "10858  202310299                   매일             사용안함           매일   \n",
       "10859  202310300            1주일에 5~6일        1주일에 3~4일    1주일에 3~4일   \n",
       "10860  202310301                   매일             사용안함           매일   \n",
       "10861  202310302                   매일             사용안함    1주일에 5~6일   \n",
       "\n",
       "      tv_frequency console_frequency smartphone_hours_weekdays  \\\n",
       "0             사용안함              사용안함                    30분 미만   \n",
       "1             사용안함              사용안함                3시간~4시간 미만   \n",
       "2               매일         1주일에 1~2일            1시간~1시간 30분 미만   \n",
       "3             사용안함              사용안함                      사용안함   \n",
       "4        1주일에 1~2일         1주일에 3~4일                1시간~2시간 미만   \n",
       "...            ...               ...                       ...   \n",
       "10857           매일              사용안함                1시간~2시간 미만   \n",
       "10858    1주일에 5~6일              사용안함                30분~1시간 미만   \n",
       "10859    1주일에 3~4일         1주일에 5~6일                1시간~2시간 미만   \n",
       "10860           매일              사용안함                1시간~2시간 미만   \n",
       "10861           매일              사용안함                3시간~4시간 미만   \n",
       "\n",
       "      smartphone_hours_weekend tablet_hours_weekdays tablet_hours_weekend  \\\n",
       "0                       30분 미만                30분 미만               30분 미만   \n",
       "1                       6시간 이상                  사용안함                 사용안함   \n",
       "2                   30분~1시간 미만                30분 미만               30분 미만   \n",
       "3                         사용안함            1시간~2시간 미만              5시간~6시간   \n",
       "4                   2시간~3시간 미만        1시간~1시간 30분 미만       1시간~1시간 30분 미만   \n",
       "...                        ...                   ...                  ...   \n",
       "10857           1시간~1시간 30분 미만            1시간~2시간 미만       1시간~1시간 30분 미만   \n",
       "10858               30분~1시간 미만                  사용안함                 사용안함   \n",
       "10859           1시간~1시간 30분 미만        1시간~1시간 30분 미만           30분~1시간 미만   \n",
       "10860               30분~1시간 미만                  사용안함                 사용안함   \n",
       "10861               4시간~5시간 미만                  사용안함                 사용안함   \n",
       "\n",
       "      pc_hours_weekdays pc_hours_weekend tv_hours_weekdays tv_hours_weekend  \\\n",
       "0                30분 미만           30분 미만              사용안함             사용안함   \n",
       "1                  사용안함             사용안함              사용안함             사용안함   \n",
       "2                30분 미만           30분 미만        3시간~4시간 미만       3시간~4시간 미만   \n",
       "3                  사용안함             사용안함              사용안함             사용안함   \n",
       "4            4시간~5시간 미만       2시간~3시간 미만        3시간~4시간 미만       1시간~2시간 미만   \n",
       "...                 ...              ...               ...              ...   \n",
       "10857        1시간~2시간 미만       30분~1시간 미만    1시간~1시간 30분 미만   1시간~1시간 30분 미만   \n",
       "10858        30분~1시간 미만       30분~1시간 미만        30분~1시간 미만       30분~1시간 미만   \n",
       "10859        30분~1시간 미만       30분~1시간 미만        30분~1시간 미만       30분~1시간 미만   \n",
       "10860        2시간~3시간 미만   1시간~1시간 30분 미만        2시간~3시간 미만       1시간~2시간 미만   \n",
       "10861        2시간~3시간 미만       2시간~3시간 미만        2시간~3시간 미만       4시간~5시간 미만   \n",
       "\n",
       "      console_hours_weekdays console_hours_weekend ott_main_device  \n",
       "0                       사용안함                  사용안함           TV수상기  \n",
       "1                       사용안함                  사용안함            스마트폰  \n",
       "2                     30분 미만                30분 미만            스마트폰  \n",
       "3                       사용안함                  사용안함           TV수상기  \n",
       "4                 1시간~2시간 미만            2시간~3시간 미만      데스크탑PC/노트북  \n",
       "...                      ...                   ...             ...  \n",
       "10857                   사용안함                  사용안함            스마트폰  \n",
       "10858                   사용안함                  사용안함           TV수상기  \n",
       "10859         1시간~1시간 30분 미만            30분~1시간 미만            스마트폰  \n",
       "10860                   사용안함                  사용안함           TV수상기  \n",
       "10861                   사용안함                  사용안함            스마트폰  \n",
       "\n",
       "[10862 rows x 17 columns]"
      ]
     },
     "execution_count": 39,
     "metadata": {},
     "output_type": "execute_result"
    }
   ],
   "source": [
    "df_device"
   ]
  },
  {
   "cell_type": "code",
   "execution_count": 40,
   "id": "5c86278d-c01d-4293-9ef9-0177e23d3a9f",
   "metadata": {},
   "outputs": [
    {
     "name": "stdout",
     "output_type": "stream",
     "text": [
      "device 테이블 최종 업데이트 완료!\n"
     ]
    }
   ],
   "source": [
    "# 최종 DB 업로드\n",
    "df_device.to_sql(name=\"device\", con=engine, index=False, if_exists=\"replace\")\n",
    "print(\"device 테이블 최종 업데이트 완료!\")"
   ]
  }
 ],
 "metadata": {
  "kernelspec": {
   "display_name": "Python 3 (ipykernel)",
   "language": "python",
   "name": "python3"
  },
  "language_info": {
   "codemirror_mode": {
    "name": "ipython",
    "version": 3
   },
   "file_extension": ".py",
   "mimetype": "text/x-python",
   "name": "python",
   "nbconvert_exporter": "python",
   "pygments_lexer": "ipython3",
   "version": "3.10.18"
  }
 },
 "nbformat": 4,
 "nbformat_minor": 5
}
