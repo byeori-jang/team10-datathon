{
 "cells": [
  {
   "cell_type": "code",
   "execution_count": 45,
   "id": "cbaad31a-8c4a-4ab6-bd7e-d6954978a9fa",
   "metadata": {},
   "outputs": [],
   "source": [
    "import os\n",
    "import pandas as pd\n",
    "from sqlalchemy import create_engine"
   ]
  },
  {
   "cell_type": "code",
   "execution_count": 47,
   "id": "7e8e076d-5042-4304-9ca3-eac92b374693",
   "metadata": {},
   "outputs": [],
   "source": [
    "# MySQL 접속 설정\n",
    "username = \"root\"      # MySQL 사용자명\n",
    "password = \"byun1007\"      # MySQL 비밀번호\n",
    "host = \"127.0.0.1\"     # 로컬호스트\n",
    "port = 3306            # 포트\n",
    "database = \"ott_db\"  # DB 이름\n",
    "\n",
    "# MySQL 엔진 생성\n",
    "engine = create_engine(f\"mysql+pymysql://{username}:{password}@{host}:{port}/{database}\")"
   ]
  },
  {
   "cell_type": "code",
   "execution_count": 49,
   "id": "d15ec29d-ec8b-4747-b866-829415201bef",
   "metadata": {},
   "outputs": [
    {
     "name": "stdout",
     "output_type": "stream",
     "text": [
      "2022 데이터: (4536, 1903)\n",
      "2023 데이터: (6326, 929)\n"
     ]
    }
   ],
   "source": [
    "# 데이터 파일 경로 설정\n",
    "folder_path = r\"방송통신위원회_해외 OTT 이용행태조사 원시데이터_20231231\"  # 경로의 띄어쓰기와 특수문자 확인\n",
    "file_2022 = os.path.join(folder_path, \"2022해외OTT이용행태조사_국가통합(20240403).csv\")\n",
    "file_2023 = os.path.join(folder_path, \"2023해외OTT이용행태조사_국가통합(20240403).csv\")\n",
    "\n",
    "# CSV 읽기\n",
    "df_2022 = pd.read_csv(file_2022, encoding='utf-8-sig', low_memory=False)\n",
    "df_2023 = pd.read_csv(file_2023, encoding='utf-8-sig', low_memory=False)\n",
    "\n",
    "print(\"2022 데이터:\", df_2022.shape)\n",
    "print(\"2023 데이터:\", df_2023.shape)"
   ]
  },
  {
   "cell_type": "markdown",
   "id": "94950406-660e-44ff-9230-1906ed143605",
   "metadata": {},
   "source": [
    "## 1. Payment\n",
    "### user_id"
   ]
  },
  {
   "cell_type": "code",
   "execution_count": 51,
   "id": "5e4bc720-eb00-434f-8efb-8fa420e26f16",
   "metadata": {},
   "outputs": [
    {
     "data": {
      "text/plain": [
       "10862"
      ]
     },
     "execution_count": 51,
     "metadata": {},
     "output_type": "execute_result"
    }
   ],
   "source": [
    "# 1. 2022 user_id 생성\n",
    "df_2022['user_id'] = ('2022' + df_2022['RESPID'].astype(str)).astype(int)\n",
    "# 2. 2023 user_id 생성\n",
    "df_2023['user_id'] = ('2023' + df_2023['id'].astype(str)).astype(int)\n",
    "\n",
    "df_user_id_2022 = df_2022[['user_id']].copy()\n",
    "df_user_id_2023 = df_2023[['user_id']].copy()\n",
    "\n",
    "# 3. 합치기\n",
    "df_user_id = pd.concat([df_user_id_2022, df_user_id_2023], ignore_index=True)\n",
    "\n",
    "# 4. payment 테이블에 user_id 업로드\n",
    "df_user_id.to_sql(name=\"payment\", con=engine, index=False, if_exists=\"replace\")"
   ]
  },
  {
   "cell_type": "markdown",
   "id": "3c7e38aa-a624-4081-913c-811490d3730b",
   "metadata": {},
   "source": [
    "### ott_cost_usa_2022, ott_cost_taiwan_2022, ott_cost_indonesia_2022"
   ]
  },
  {
   "cell_type": "code",
   "execution_count": 53,
   "id": "f84a07b2-8236-438d-a075-09948629647d",
   "metadata": {},
   "outputs": [],
   "source": [
    "# 새로운 요금 매핑\n",
    "cost_map = {\n",
    "    99: '모르겠다',\n",
    "    101: 'USD $10 미만', 102: 'USD $10-14', 103: 'USD $15-19', 104: 'USD $20 이상',\n",
    "    201: 'TWD 200 미만', 202: 'TWD 200-299', 203: 'TWD 300-399', 204: 'TWD 400 이상',\n",
    "    301: 'INR 50,000 미만', 302: 'INR 50,000-79,999', 303: 'INR 80,000-109,999',\n",
    "    304: 'INR 110,000-139,999', 305: 'INR 140,000 이상'\n",
    "}\n",
    "\n",
    "# 미국\n",
    "usa_codes = [99, 101, 102, 103, 104]\n",
    "df_2022['ott_cost_usa_2022'] = df_2022['E2'].where(df_2022['E2'].isin(usa_codes)).map(cost_map)\n",
    "\n",
    "# 대만\n",
    "taiwan_codes = [99, 201, 202, 203, 204]\n",
    "df_2022['ott_cost_taiwan_2022'] = df_2022['E2'].where(df_2022['E2'].isin(taiwan_codes)).map(cost_map)\n",
    "\n",
    "# 인도네시아\n",
    "indonesia_codes = [99, 301, 302, 303, 304, 305]\n",
    "df_2022['ott_cost_indonesia_2022'] = df_2022['E2'].where(df_2022['E2'].isin(indonesia_codes)).map(cost_map)"
   ]
  },
  {
   "cell_type": "code",
   "execution_count": 55,
   "id": "e6b3a8d6-1ab9-482a-baef-5451ff73ec80",
   "metadata": {},
   "outputs": [
    {
     "data": {
      "text/plain": [
       "10862"
      ]
     },
     "execution_count": 55,
     "metadata": {},
     "output_type": "execute_result"
    }
   ],
   "source": [
    "# 1. 필요한 컬럼 추출\n",
    "df_payment_2022 = df_2022[[\n",
    "    'user_id', \n",
    "    'ott_cost_usa_2022', \n",
    "    'ott_cost_taiwan_2022', \n",
    "    'ott_cost_indonesia_2022'\n",
    "]]\n",
    "\n",
    "# 2. 기존 user_id와 병합\n",
    "df_payment = pd.merge(\n",
    "    df_user_id, df_payment_2022,\n",
    "    on='user_id', how='left'\n",
    ")\n",
    "\n",
    "# 3. DB에 저장\n",
    "df_payment.to_sql(name='payment', con=engine, index=False, if_exists='replace')"
   ]
  },
  {
   "cell_type": "markdown",
   "id": "cfeb7850-76b6-4931-9677-f8120bc09932",
   "metadata": {},
   "source": [
    "### ott_cost_brazil_2023, ott_cost_mexico_2023, ott_cost_uk_2023, ott_cost_japan_2023"
   ]
  },
  {
   "cell_type": "code",
   "execution_count": 57,
   "id": "0435ba97-c67d-41e4-8a7b-4da7674db98c",
   "metadata": {},
   "outputs": [],
   "source": [
    "cost_map_2023 = {\n",
    "    # 브라질 (1~5)\n",
    "    1: \"30 R$ 미만\", 2: \"30-59 R$\", 3: \"60-99 R$\", 4: \"100-199 R$\", 5: \"200 R$ 이상\",\n",
    "\n",
    "    # 멕시코 (21~25)\n",
    "    21: \"200 MXN 미만\", 22: \"200-399 MXN\", 23: \"400-599 MXN\", 24: \"600-999 MXN\", 25: \"1000 MXN 이상\",\n",
    "\n",
    "    # 영국 (31~36)\n",
    "    31: \"10 GBP 미만\", 32: \"10-19 GBP\", 33: \"20-29 GBP\", 34: \"30-39 GBP\", 35: \"40-59 GBP\", 36: \"60 GBP 이상\",\n",
    "\n",
    "    # 일본 (41~45)\n",
    "    41: \"1,000 JPY 미만\", 42: \"1,000-1,999 JPY\", 43: \"2,000-2,999 JPY\",\n",
    "    44: \"3,000-4,999 JPY\", 45: \"5,000 JPY 이상\"\n",
    "}\n",
    "\n",
    "# 브라질\n",
    "brazil_codes = [1, 2, 3, 4, 5]\n",
    "df_2023['ott_cost_brazil_2023'] = df_2023['D2'].where(df_2023['D2'].isin(brazil_codes)).map(cost_map_2023)\n",
    "\n",
    "# 멕시코\n",
    "mexico_codes = [21, 22, 23, 24, 25]\n",
    "df_2023['ott_cost_mexico_2023'] = df_2023['D2'].where(df_2023['D2'].isin(mexico_codes)).map(cost_map_2023)\n",
    "\n",
    "# 영국\n",
    "uk_codes = [31, 32, 33, 34, 35, 36]\n",
    "df_2023['ott_cost_uk_2023'] = df_2023['D2'].where(df_2023['D2'].isin(uk_codes)).map(cost_map_2023)\n",
    "\n",
    "# 일본\n",
    "japan_codes = [41, 42, 43, 44, 45]\n",
    "df_2023['ott_cost_japan_2023'] = df_2023['D2'].where(df_2023['D2'].isin(japan_codes)).map(cost_map_2023)"
   ]
  },
  {
   "cell_type": "code",
   "execution_count": 59,
   "id": "b19e5b53-d98d-4285-91b6-2b5241b4f17a",
   "metadata": {},
   "outputs": [
    {
     "data": {
      "text/plain": [
       "10862"
      ]
     },
     "execution_count": 59,
     "metadata": {},
     "output_type": "execute_result"
    }
   ],
   "source": [
    "# 1. 필요한 컬럼 추출\n",
    "df_payment_2023 = df_2023[[\n",
    "    'user_id',\n",
    "    'ott_cost_brazil_2023',\n",
    "    'ott_cost_mexico_2023',\n",
    "    'ott_cost_uk_2023',\n",
    "    'ott_cost_japan_2023'\n",
    "]]\n",
    "\n",
    "# 2. 기존 user_id와 병합\n",
    "df_payment_final = pd.merge(\n",
    "    df_payment,              # 기존 payment (2022 데이터 포함)\n",
    "    df_payment_2023,         # 2023 국가 요금 데이터\n",
    "    on='user_id', \n",
    "    how='outer'              # 2022, 2023을 모두 포함\n",
    ")\n",
    "\n",
    "# 3. DB에 저장\n",
    "df_payment_final.to_sql(name='payment', con=engine, index=False, if_exists='replace')"
   ]
  },
  {
   "cell_type": "markdown",
   "id": "fe6af196-8fc3-4f4f-867b-0e1390b60a25",
   "metadata": {},
   "source": [
    "### pay_netflix_2022, pay_amazon_2022, pay_disney_2022"
   ]
  },
  {
   "cell_type": "code",
   "execution_count": 61,
   "id": "04219c19-4369-4d4e-86c7-ee56ad968509",
   "metadata": {},
   "outputs": [
    {
     "data": {
      "text/plain": [
       "10862"
      ]
     },
     "execution_count": 61,
     "metadata": {},
     "output_type": "execute_result"
    }
   ],
   "source": [
    "pay_map = {\n",
    "    1: '본인이 전액 납부',\n",
    "    2: '가족과 요금 분납',\n",
    "    3: '지인과 요금 분납',\n",
    "    4: '전액 납부된 타인의 계정 이용',\n",
    "    5: '기타'\n",
    "}\n",
    "\n",
    "# 컬럼명 맞추기 (예시: 마침표가 들어가 있었던 경우)\n",
    "df_2022['pay_netflix_2022'] = pd.to_numeric(df_2022['B3_1'], errors='coerce').map(pay_map)\n",
    "df_2022['pay_amazon_2022']  = pd.to_numeric(df_2022['B3_2'], errors='coerce').map(pay_map)\n",
    "df_2022['pay_disney_2022']  = pd.to_numeric(df_2022['B3_3'], errors='coerce').map(pay_map)\n",
    "\n",
    "# 병합\n",
    "df_payment_2022_pay = df_2022[[\n",
    "    'user_id', 'pay_netflix_2022', 'pay_amazon_2022', 'pay_disney_2022'\n",
    "]]\n",
    "\n",
    "df_payment = pd.read_sql(\"SELECT * FROM payment\", con=engine)\n",
    "df_payment = pd.merge(df_payment, df_payment_2022_pay, on='user_id', how='left')\n",
    "df_payment.to_sql(name='payment', con=engine, index=False, if_exists='replace')"
   ]
  },
  {
   "cell_type": "markdown",
   "id": "9fb23d1b-35ba-44a1-ad94-f8f8ce023650",
   "metadata": {},
   "source": [
    "### pay_option1_2023, pay_option2_2023, pay_option3_2023, pay_option4_2023, pay_option5_2023"
   ]
  },
  {
   "cell_type": "code",
   "execution_count": 63,
   "id": "c02a9a5b-8960-4a0e-8897-495dbf31e3fd",
   "metadata": {},
   "outputs": [
    {
     "data": {
      "text/plain": [
       "10862"
      ]
     },
     "execution_count": 63,
     "metadata": {},
     "output_type": "execute_result"
    }
   ],
   "source": [
    "pay_map = {\n",
    "    1: '본인이 전액 납부',\n",
    "    2: '가족과 요금 분납',\n",
    "    3: '지인과 요금 분납',\n",
    "    4: '전액 납부된 타인의 계정 이용',\n",
    "    5: '기타'\n",
    "}\n",
    "\n",
    "df_2023['pay_option1_2023'] = pd.to_numeric(df_2023['A3'], errors='coerce').map(pay_map)\n",
    "df_2023['pay_option2_2023'] = pd.to_numeric(df_2023['A3_m2'], errors='coerce').map(pay_map)\n",
    "df_2023['pay_option3_2023'] = pd.to_numeric(df_2023['A3_m3'], errors='coerce').map(pay_map)\n",
    "df_2023['pay_option4_2023'] = pd.to_numeric(df_2023['A3_m4'], errors='coerce').map(pay_map)\n",
    "df_2023['pay_option5_2023'] = pd.to_numeric(df_2023['A3_m5'], errors='coerce').map(pay_map)\n",
    "\n",
    "df_payment_2023_pay = df_2023[[\n",
    "    'user_id',\n",
    "    'pay_option1_2023', 'pay_option2_2023', 'pay_option3_2023',\n",
    "    'pay_option4_2023', 'pay_option5_2023'\n",
    "]]\n",
    "\n",
    "df_payment = pd.read_sql(\"SELECT * FROM payment\", con=engine)\n",
    "df_payment = pd.merge(df_payment, df_payment_2023_pay, on='user_id', how='left')\n",
    "df_payment.to_sql(name='payment', con=engine, index=False, if_exists='replace')"
   ]
  },
  {
   "cell_type": "code",
   "execution_count": null,
   "id": "142a3b93-ab71-48c9-b04e-8a999cc11e93",
   "metadata": {},
   "outputs": [],
   "source": []
  }
 ],
 "metadata": {
  "kernelspec": {
   "display_name": "Python [conda env:base] *",
   "language": "python",
   "name": "conda-base-py"
  },
  "language_info": {
   "codemirror_mode": {
    "name": "ipython",
    "version": 3
   },
   "file_extension": ".py",
   "mimetype": "text/x-python",
   "name": "python",
   "nbconvert_exporter": "python",
   "pygments_lexer": "ipython3",
   "version": "3.12.7"
  }
 },
 "nbformat": 4,
 "nbformat_minor": 5
}
