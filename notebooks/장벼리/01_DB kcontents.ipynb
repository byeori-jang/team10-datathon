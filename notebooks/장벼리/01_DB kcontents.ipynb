{
 "cells": [
  {
   "cell_type": "code",
   "execution_count": 1,
   "id": "02225c72-6552-4590-a6af-d9fa7db567c5",
   "metadata": {},
   "outputs": [],
   "source": [
    "import os\n",
    "import pandas as pd\n",
    "from sqlalchemy import create_engine\n",
    "import numpy as np"
   ]
  },
  {
   "cell_type": "code",
   "execution_count": 2,
   "id": "1ef5a961-80dd-481c-a596-0c37c7e59f35",
   "metadata": {},
   "outputs": [],
   "source": [
    "# MySQL 접속 설정\n",
    "username = \"root\"      # MySQL 사용자명\n",
    "password = \"1234\"      # MySQL 비밀번호\n",
    "host = \"127.0.0.1\"     # 로컬호스트\n",
    "port = 3306            # 포트\n",
    "database = \"ott_db\"  # DB 이름\n",
    "\n",
    "# MySQL 엔진 생성\n",
    "engine = create_engine(f\"mysql+pymysql://{username}:{password}@{host}:{port}/{database}\")"
   ]
  },
  {
   "cell_type": "code",
   "execution_count": 3,
   "id": "6da903f3-be28-4c12-a991-d3e7ad75c8d3",
   "metadata": {},
   "outputs": [
    {
     "name": "stdout",
     "output_type": "stream",
     "text": [
      "2022 데이터: (4536, 1903)\n",
      "2023 데이터: (6326, 929)\n"
     ]
    }
   ],
   "source": [
    "# 데이터 파일 경로 설정\n",
    "folder_path = r\"방송통신위원회_해외 OTT 이용행태조사 원시데이터_20231231\"\n",
    "file_2022 = os.path.join(folder_path, \"2022해외OTT이용행태조사_국가통합(20240403).csv\")\n",
    "file_2023 = os.path.join(folder_path, \"2023해외OTT이용행태조사_국가통합(20240403).csv\")\n",
    "\n",
    "# CSV 읽기\n",
    "df_2022 = pd.read_csv(file_2022, encoding='utf-8-sig', low_memory=False)\n",
    "df_2023 = pd.read_csv(file_2023, encoding='utf-8-sig', low_memory=False)\n",
    "\n",
    "print(\"2022 데이터:\", df_2022.shape)\n",
    "print(\"2023 데이터:\", df_2023.shape)"
   ]
  },
  {
   "cell_type": "code",
   "execution_count": 4,
   "id": "3e128d40-78f5-40a8-9082-d4da8cab011a",
   "metadata": {},
   "outputs": [
    {
     "data": {
      "text/plain": [
       "10862"
      ]
     },
     "execution_count": 4,
     "metadata": {},
     "output_type": "execute_result"
    }
   ],
   "source": [
    "# 1. 2022 user_id 생성\n",
    "df_2022['user_id'] = ('2022' + df_2022['RESPID'].astype(str)).astype(int)\n",
    "# 2. 2023 user_id 생성\n",
    "df_2023['user_id'] = ('2023' + df_2023['id'].astype(str)).astype(int)\n",
    "\n",
    "df_kcontents_id_2022 = df_2022[['user_id']].copy()\n",
    "df_kcontents_id_2023 = df_2023[['user_id']].copy()\n",
    "\n",
    "# 3. 합치기\n",
    "df_kcontents_id = pd.concat([df_kcontents_id_2022, df_kcontents_id_2023], ignore_index=True)\n",
    "\n",
    "# 4. user 테이블에 user_id 업로드\n",
    "df_kcontents_id.to_sql(name=\"kcontents\", con=engine, index=False, if_exists=\"replace\")"
   ]
  },
  {
   "cell_type": "markdown",
   "id": "772020f2-3b9b-402d-9377-a4f1d19ae4ba",
   "metadata": {},
   "source": [
    "# (1) user"
   ]
  },
  {
   "cell_type": "code",
   "execution_count": 5,
   "id": "54fbaaa8-6e9b-4243-9123-1f07c2638098",
   "metadata": {},
   "outputs": [],
   "source": [
    "def add_column_to_kcontents(df_kcontents, df_2022, df_2023, col_2022, col_2023, new_col_name,\n",
    "                       mapping_2022=None, mapping_2023=None):\n",
    "    \"\"\"\n",
    "    user 테이블에 새로운 컬럼을 추가하는 함수\n",
    "    :param df_kcontents: 기존 user 테이블 DataFrame\n",
    "    :param df_2022: 2022 데이터 DataFrame\n",
    "    :param df_2023: 2023 데이터 DataFrame\n",
    "    :param col_2022: 2022 데이터에서 가져올 컬럼명\n",
    "    :param col_2023: 2023 데이터에서 가져올 컬럼명\n",
    "    :param new_col_name: user 테이블에 추가할 새 컬럼명\n",
    "    :param mapping_2022: 2022 매핑 딕셔너리 (없으면 None)\n",
    "    :param mapping_2023: 2023 매핑 딕셔너리 (없으면 None)\n",
    "    :return: 새로운 컬럼이 추가된 df_kcontents\n",
    "    \"\"\"\n",
    "\n",
    "    # 2022 데이터 처리\n",
    "    df_2022_col = df_2022[['user_id', col_2022]].copy()\n",
    "    df_2022_col = df_2022_col.rename(columns={col_2022: new_col_name})\n",
    "    if mapping_2022:\n",
    "        df_2022_col[new_col_name] = df_2022_col[new_col_name].map(mapping_2022)\n",
    "\n",
    "    # 2023 데이터 처리\n",
    "    df_2023_col = df_2023[['user_id', col_2023]].copy()\n",
    "    df_2023_col = df_2023_col.rename(columns={col_2023: new_col_name})\n",
    "    if mapping_2023:\n",
    "        df_2023_col[new_col_name] = df_2023_col[new_col_name].map(mapping_2023)\n",
    "\n",
    "    # 합치기\n",
    "    df_new_col = pd.concat([df_2022_col, df_2023_col], ignore_index=True)\n",
    "\n",
    "    # user 테이블 병합\n",
    "    df_kcontents = df_kcontents.merge(df_new_col, on='user_id', how='left')\n",
    "\n",
    "    return df_kcontents"
   ]
  },
  {
   "cell_type": "code",
   "execution_count": 6,
   "id": "e7d4cfd3-8b05-44fd-951b-d0eba53de44b",
   "metadata": {},
   "outputs": [],
   "source": [
    "# 현재 user 테이블 불러오기\n",
    "df_kcontents = pd.read_sql(\"SELECT * FROM kcontents\", con=engine)"
   ]
  },
  {
   "cell_type": "markdown",
   "id": "6096515f-90e7-40f3-b7e2-5dcbd58d7601",
   "metadata": {},
   "source": [
    "# (2) content_type_drama"
   ]
  },
  {
   "cell_type": "code",
   "execution_count": 7,
   "id": "f2387be8-617e-4f6c-bb5a-52aff02841fd",
   "metadata": {},
   "outputs": [],
   "source": [
    "def add_content_type_column(df_kcontents, df_2022, df_2023,\n",
    "                            col_2022, cols_2023, new_col_name,\n",
    "                            target_code, convert_value=1):\n",
    "    \"\"\"\n",
    "    df_kcontents에 콘텐츠 이용 유형 컬럼 추가\n",
    "    \"\"\"\n",
    "\n",
    "    # 2022 처리\n",
    "    df_2022_part = df_2022[['user_id', col_2022]].copy()\n",
    "    df_2022_part = df_2022_part.rename(columns={col_2022: new_col_name})\n",
    "\n",
    "    df_2022_part[new_col_name] = (\n",
    "        df_2022_part[new_col_name]\n",
    "        .replace(' ', pd.NA)\n",
    "        .apply(pd.to_numeric, errors='coerce')\n",
    "        .apply(lambda x: convert_value if x == target_code else 0 if pd.notna(x) else pd.NA)\n",
    "    ).astype(\"Int64\")\n",
    "\n",
    "    # 2023 처리\n",
    "    df_2023_part = df_2023[['user_id'] + cols_2023].copy()\n",
    "    df_2023_part[cols_2023] = df_2023_part[cols_2023].replace(' ', pd.NA)\n",
    "    df_2023_part[cols_2023] = df_2023_part[cols_2023].apply(pd.to_numeric, errors='coerce')\n",
    "\n",
    "    def contains_target(row):\n",
    "        values = row.dropna().astype(\"Int64\").values\n",
    "        return convert_value if target_code in values else 0\n",
    "\n",
    "    df_2023_part[new_col_name] = df_2023_part[cols_2023].apply(contains_target, axis=1).astype(\"Int64\")\n",
    "    df_2023_part = df_2023_part[['user_id', new_col_name]]\n",
    "\n",
    "    # 병합\n",
    "    df_merge = pd.concat([df_2022_part, df_2023_part], ignore_index=True)\n",
    "    df_kcontents = df_kcontents.merge(df_merge, on='user_id', how='left')\n",
    "\n",
    "    return df_kcontents\n"
   ]
  },
  {
   "cell_type": "code",
   "execution_count": null,
   "id": "bbf2cc57-6a4b-437e-bb7f-82e7cb8a462d",
   "metadata": {},
   "outputs": [],
   "source": [
    "# # 드라마/시리즈물\n",
    "df_kcontents = add_content_type_column(\n",
    "    df_kcontents, df_2022, df_2023,\n",
    "    col_2022='F1_1',\n",
    "    cols_2023=[\n",
    "        'E1', 'E1_m2', 'E1_m3', 'E1_m4',\n",
    "        'E1_m5', 'E1_m6', 'E1_m7', 'E1_m8', 'E1_m9'\n",
    "    ],\n",
    "    new_col_name='content_type_drama',\n",
    "    target_code=1\n",
    ")"
   ]
  },
  {
   "cell_type": "markdown",
   "id": "60804949-7f63-4921-b24f-9aa5d68167ae",
   "metadata": {},
   "source": [
    "# (3) content_type_movie"
   ]
  },
  {
   "cell_type": "code",
   "execution_count": null,
   "id": "f982ac39-4e54-4bae-a2a8-85cf777f8829",
   "metadata": {},
   "outputs": [],
   "source": [
    "# 영화\n",
    "df_kcontents = add_content_type_column(\n",
    "    df_kcontents, df_2022, df_2023,\n",
    "    col_2022='F1_2',\n",
    "    cols_2023=[\n",
    "        'E1', 'E1_m2', 'E1_m3', 'E1_m4',\n",
    "        'E1_m5', 'E1_m6', 'E1_m7', 'E1_m8', 'E1_m9'\n",
    "    ],\n",
    "    new_col_name='content_type_movie',\n",
    "    target_code=2\n",
    ")"
   ]
  },
  {
   "cell_type": "markdown",
   "id": "8b81acf7-c3c6-41dc-b6b5-27551b30a980",
   "metadata": {},
   "source": [
    "# (4) content_type_variety"
   ]
  },
  {
   "cell_type": "code",
   "execution_count": null,
   "id": "50352b94-dab8-4fbb-83f8-b097f3299d74",
   "metadata": {},
   "outputs": [],
   "source": [
    "# 예능/버라이어티\n",
    "df_kcontents = add_content_type_column(\n",
    "    df_kcontents, df_2022, df_2023,\n",
    "    col_2022='F1_3',\n",
    "    cols_2023=[\n",
    "        'E1', 'E1_m2', 'E1_m3', 'E1_m4',\n",
    "        'E1_m5', 'E1_m6', 'E1_m7', 'E1_m8', 'E1_m9'\n",
    "    ],\n",
    "    new_col_name='content_type_variety',\n",
    "    target_code=3\n",
    ")"
   ]
  },
  {
   "cell_type": "markdown",
   "id": "75604ae3-63f5-4b82-873e-6dd86f31c2e5",
   "metadata": {},
   "source": [
    "# (5) content_type_music"
   ]
  },
  {
   "cell_type": "code",
   "execution_count": null,
   "id": "4f558965-57c4-40c8-b5aa-eb4d3ec55d79",
   "metadata": {},
   "outputs": [],
   "source": [
    "# 음악\n",
    "df_kcontents = add_content_type_column(\n",
    "    df_kcontents, df_2022, df_2023,\n",
    "    col_2022='F1_4',\n",
    "    cols_2023=[\n",
    "        'E1', 'E1_m2', 'E1_m3', 'E1_m4',\n",
    "        'E1_m5', 'E1_m6', 'E1_m7', 'E1_m8', 'E1_m9'\n",
    "    ],\n",
    "    new_col_name='content_type_music',\n",
    "    target_code=4\n",
    ")"
   ]
  },
  {
   "cell_type": "markdown",
   "id": "51649fe9-341e-472b-b2da-8f88f9ae5a44",
   "metadata": {},
   "source": [
    "# (6) content_type_kpop"
   ]
  },
  {
   "cell_type": "code",
   "execution_count": null,
   "id": "1da75938-ad01-4658-99b1-f8982505111b",
   "metadata": {},
   "outputs": [],
   "source": [
    "# 한국 연예인 방송\n",
    "df_kcontents = add_content_type_column(\n",
    "    df_kcontents, df_2022, df_2023,\n",
    "    col_2022='F1_5',\n",
    "    cols_2023=[\n",
    "        'E1', 'E1_m2', 'E1_m3', 'E1_m4',\n",
    "        'E1_m5', 'E1_m6', 'E1_m7', 'E1_m8', 'E1_m9'\n",
    "    ],\n",
    "    new_col_name='content_type_kpop',\n",
    "    target_code=5\n",
    ")"
   ]
  },
  {
   "cell_type": "markdown",
   "id": "14b8b286-fdf7-467d-b1cb-f751766e60b6",
   "metadata": {},
   "source": [
    "# (7) content_type_animation"
   ]
  },
  {
   "cell_type": "code",
   "execution_count": null,
   "id": "22a7ac9b-f4a2-4160-b320-9c678653e453",
   "metadata": {},
   "outputs": [],
   "source": [
    "# 애니메이션\n",
    "df_kcontents = add_content_type_column(\n",
    "    df_kcontents, df_2022, df_2023,\n",
    "    col_2022='F1_6',\n",
    "    cols_2023=[\n",
    "        'E1', 'E1_m2', 'E1_m3', 'E1_m4',\n",
    "        'E1_m5', 'E1_m6', 'E1_m7', 'E1_m8', 'E1_m9'\n",
    "    ],\n",
    "    new_col_name='content_type_animation',\n",
    "    target_code=6\n",
    ")"
   ]
  },
  {
   "cell_type": "markdown",
   "id": "7bf674b7-2302-47ee-83be-b16de8a1b839",
   "metadata": {},
   "source": [
    "# (8) content_type_webtoon"
   ]
  },
  {
   "cell_type": "code",
   "execution_count": null,
   "id": "7ef98cc5-2b77-466d-adaf-8dbfd2f9aa03",
   "metadata": {},
   "outputs": [],
   "source": [
    "# 웹툰\n",
    "df_kcontents = add_content_type_column(\n",
    "    df_kcontents, df_2022, df_2023,\n",
    "    col_2022='F1_7',\n",
    "    cols_2023=[\n",
    "        'E1', 'E1_m2', 'E1_m3', 'E1_m4',\n",
    "        'E1_m5', 'E1_m6', 'E1_m7', 'E1_m8', 'E1_m9'\n",
    "    ],\n",
    "    new_col_name='content_type_webtoon',\n",
    "    target_code=7\n",
    ")"
   ]
  },
  {
   "cell_type": "markdown",
   "id": "3b5a8092-0221-42ff-beb4-235cc3b497dc",
   "metadata": {},
   "source": [
    "# (9) content_type_novel"
   ]
  },
  {
   "cell_type": "code",
   "execution_count": null,
   "id": "4dc234fb-fc2c-4a3f-b9a6-f39d6159f9cf",
   "metadata": {},
   "outputs": [],
   "source": [
    "# 웹소설\n",
    "df_kcontents = add_content_type_column(\n",
    "    df_kcontents, df_2022, df_2023,\n",
    "    col_2022='F1_8',\n",
    "    cols_2023=[\n",
    "        'E1', 'E1_m2', 'E1_m3', 'E1_m4',\n",
    "        'E1_m5', 'E1_m6', 'E1_m7', 'E1_m8', 'E1_m9'\n",
    "    ],\n",
    "    new_col_name='content_type_webnovel',\n",
    "    target_code=8\n",
    ")"
   ]
  },
  {
   "cell_type": "markdown",
   "id": "81c5c2b2-2b67-47cb-8d60-1301cfeaf79b",
   "metadata": {},
   "source": [
    "# (10) content_type_esport"
   ]
  },
  {
   "cell_type": "code",
   "execution_count": null,
   "id": "93ad8db8-5152-4d73-b8c3-ce6fc219c9aa",
   "metadata": {},
   "outputs": [],
   "source": [
    "\n",
    "# 게임/e-스포츠\n",
    "df_kcontents = add_content_type_column(\n",
    "    df_kcontents, df_2022, df_2023,\n",
    "    col_2022='F1_9',\n",
    "    cols_2023=[\n",
    "        'E1', 'E1_m2', 'E1_m3', 'E1_m4',\n",
    "        'E1_m5', 'E1_m6', 'E1_m7', 'E1_m8', 'E1_m9'\n",
    "    ],\n",
    "    new_col_name='content_type_esport',\n",
    "    target_code=9\n",
    ")"
   ]
  },
  {
   "cell_type": "code",
   "execution_count": null,
   "id": "852a21d5-78f7-4993-bdbe-1cd91e0e5f47",
   "metadata": {},
   "outputs": [],
   "source": [
    "content_cols = [col for col in df_kcontents.columns if col.startswith(\"content_type_\")]\n",
    "\n",
    "summary = []\n",
    "\n",
    "for col in content_cols:\n",
    "    value_counts = df_kcontents[col].value_counts(dropna=False).to_dict()\n",
    "    total = sum(value_counts.values())  # ✅ 여기가 핵심\n",
    "    row = {\n",
    "        'column': col,\n",
    "        '0_count': value_counts.get(0, 0),\n",
    "        '1_count': value_counts.get(1, 0),\n",
    "        '0_pct': round(value_counts.get(0, 0) / total * 100, 1) if total > 0 else 0,\n",
    "        '1_pct': round(value_counts.get(1, 0) / total * 100, 1) if total > 0 else 0,\n",
    "    }\n",
    "    summary.append(row)\n",
    "\n",
    "import pandas as pd\n",
    "df_summary = pd.DataFrame(summary)\n",
    "df_summary"
   ]
  },
  {
   "cell_type": "markdown",
   "id": "e72cb06a-1237-42ba-8454-6d57865e74fe",
   "metadata": {},
   "source": [
    "# (11) series_usage_method_2022"
   ]
  },
  {
   "cell_type": "code",
   "execution_count": null,
   "id": "a3957c75-0a6d-436f-aa49-b21ee2ce9ab5",
   "metadata": {},
   "outputs": [],
   "source": [
    "# series_cols_2022 = ['F2_1_1', 'F2_1_2', 'F2_1_3', 'F2_1_4', 'F2_1_5', 'F2_1_7']\n",
    "\n",
    "# df_temp = df_2022[['user_id'] + series_cols_2022].copy()\n",
    "\n",
    "# # 0/1 처리\n",
    "# for col in series_cols_2022:\n",
    "#     df_temp[col] = pd.to_numeric(df_temp[col], errors='coerce').fillna(0)\n",
    "#     df_temp[col] = df_temp[col].apply(lambda x: 1 if x != 0 else 0)\n",
    "\n",
    "# # 하나라도 1이면 1\n",
    "# df_temp['series_usage_method_2022'] = df_temp[series_cols_2022].max(axis=1)\n",
    "\n",
    "# # 필요한 컬럼만\n",
    "# df_temp = df_temp[['user_id', 'series_usage_method_2022']]\n",
    "# # 병합\n",
    "\n",
    "# df_kcontents = df_kcontents.merge(df_temp, on='user_id', how='left')"
   ]
  },
  {
   "cell_type": "markdown",
   "id": "a99cce1e-d5ba-4d07-b7d7-33f1641f3a50",
   "metadata": {},
   "source": [
    "# (12) movies_usage_method_2022"
   ]
  },
  {
   "cell_type": "code",
   "execution_count": null,
   "id": "bc0c04f9-1d40-405d-aab7-fb0472b32244",
   "metadata": {},
   "outputs": [],
   "source": [
    "# # 영화 콘텐츠 이용 경로 컬럼들\n",
    "# movies_cols_2022 = ['F2_2_1', 'F2_2_2', 'F2_2_3', 'F2_2_4', 'F2_2_5', 'F2_2_7']\n",
    "\n",
    "# df_temp = df_2022[['user_id'] + movies_cols_2022].copy()\n",
    "\n",
    "# # 0/1 이진화\n",
    "# for col in movies_cols_2022:\n",
    "#     df_temp[col] = pd.to_numeric(df_temp[col], errors='coerce').fillna(0)\n",
    "#     df_temp[col] = df_temp[col].apply(lambda x: 1 if x != 0 else 0)\n",
    "\n",
    "# # 하나라도 1이면 1\n",
    "# df_temp['movies_usage_method_2022'] = df_temp[movies_cols_2022].max(axis=1)\n",
    "\n",
    "# # 필요한 컬럼만 남기기\n",
    "# df_temp = df_temp[['user_id', 'movies_usage_method_2022']]\n",
    "\n",
    "# # df_kcontents에 병합\n",
    "# df_kcontents = df_kcontents.merge(df_temp, on='user_id', how='left')\n"
   ]
  },
  {
   "cell_type": "markdown",
   "id": "90ad33b6-5e65-40c4-ab90-02e1367c3246",
   "metadata": {},
   "source": [
    "# (13) variety_usage_method_2022"
   ]
  },
  {
   "cell_type": "code",
   "execution_count": null,
   "id": "e358721a-b328-4226-87d3-85db045f6bec",
   "metadata": {},
   "outputs": [],
   "source": [
    "# # 예능/버라이어티 이용 경로 컬럼 리스트\n",
    "# variety_cols_2022 = ['F2_3_1', 'F2_3_2', 'F2_3_3', 'F2_3_4', 'F2_3_5', 'F2_3_7']\n",
    "\n",
    "# # 필요한 컬럼만 복사\n",
    "# df_temp = df_2022[['user_id'] + variety_cols_2022].copy()\n",
    "\n",
    "# # 0/1 이진화\n",
    "# for col in variety_cols_2022:\n",
    "#     df_temp[col] = pd.to_numeric(df_temp[col], errors='coerce').fillna(0)\n",
    "#     df_temp[col] = df_temp[col].apply(lambda x: 1 if x != 0 else 0)\n",
    "\n",
    "# # 한 컬럼으로 통합\n",
    "# df_temp['variety_usage_method_2022'] = df_temp[variety_cols_2022].max(axis=1)\n",
    "\n",
    "# # 필요한 컬럼만 남기고 병합\n",
    "# df_temp = df_temp[['user_id', 'variety_usage_method_2022']]\n",
    "# df_kcontents = df_kcontents.merge(df_temp, on='user_id', how='left')\n"
   ]
  },
  {
   "cell_type": "markdown",
   "id": "f38b13b7-9db7-46ad-ae6c-59ad32950fa2",
   "metadata": {},
   "source": [
    "# (14) kpop_usage_method_2022"
   ]
  },
  {
   "cell_type": "code",
   "execution_count": null,
   "id": "f74da90a-b92b-44ec-9a7d-8bb990d646b3",
   "metadata": {},
   "outputs": [],
   "source": [
    "# # 음악 콘텐츠 이용 경로 컬럼 리스트\n",
    "# music_cols_2022 = ['F2_4_1', 'F2_4_2', 'F2_4_3', 'F2_4_4', 'F2_4_5', 'F2_4_6', 'F2_4_7']\n",
    "\n",
    "# # 필요한 컬럼 복사\n",
    "# df_temp = df_2022[['user_id'] + music_cols_2022].copy()\n",
    "\n",
    "# # 0/1 이진화 처리\n",
    "# for col in music_cols_2022:\n",
    "#     df_temp[col] = pd.to_numeric(df_temp[col], errors='coerce').fillna(0)\n",
    "#     df_temp[col] = df_temp[col].apply(lambda x: 1 if x != 0 else 0)\n",
    "\n",
    "# # 통합 컬럼 생성\n",
    "# df_temp['kpop_usage_method_2022'] = df_temp[music_cols_2022].max(axis=1)\n",
    "\n",
    "# # 병합\n",
    "# df_temp = df_temp[['user_id', 'kpop_usage_method_2022']]\n",
    "# df_kcontents = df_kcontents.merge(df_temp, on='user_id', how='left')\n"
   ]
  },
  {
   "cell_type": "markdown",
   "id": "54d8b7fb-172d-4f90-9d47-ec620822a52d",
   "metadata": {},
   "source": [
    "# (15) celebrity_viewing_method_2022"
   ]
  },
  {
   "cell_type": "code",
   "execution_count": null,
   "id": "29d5c4f7-410f-4e7d-a053-43512aa0fa78",
   "metadata": {},
   "outputs": [],
   "source": [
    "# # 연예인 방송 콘텐츠 이용 경로 컬럼 리스트\n",
    "# celebrity_cols_2022 = ['F2_5_1', 'F2_5_2', 'F2_5_3', 'F2_5_4', 'F2_5_5', 'F2_5_7']\n",
    "\n",
    "# # 필요한 컬럼 복사\n",
    "# df_temp = df_2022[['user_id'] + celebrity_cols_2022].copy()\n",
    "\n",
    "# # 0/1 이진화 처리\n",
    "# for col in celebrity_cols_2022:\n",
    "#     df_temp[col] = pd.to_numeric(df_temp[col], errors='coerce').fillna(0)\n",
    "#     df_temp[col] = df_temp[col].apply(lambda x: 1 if x != 0 else 0)\n",
    "\n",
    "# # 통합 컬럼 생성\n",
    "# df_temp['celebrity_viewing_method_2022'] = df_temp[celebrity_cols_2022].max(axis=1)\n",
    "\n",
    "# # 병합\n",
    "# df_temp = df_temp[['user_id', 'celebrity_viewing_method_2022']]\n",
    "# df_kcontents = df_kcontents.merge(df_temp, on='user_id', how='left')\n"
   ]
  },
  {
   "cell_type": "markdown",
   "id": "a5b1dfda-7627-42d8-befc-9bb7be6aa006",
   "metadata": {},
   "source": [
    "# (16) animation_usage_method_2022"
   ]
  },
  {
   "cell_type": "code",
   "execution_count": null,
   "id": "67573b4c-d296-4578-ad0c-7461f34d82b7",
   "metadata": {},
   "outputs": [],
   "source": [
    "# # 애니메이션 콘텐츠 이용 경로 컬럼 리스트\n",
    "# animation_cols_2022 = ['F2_6_1', 'F2_6_2', 'F2_6_3', 'F2_6_4', 'F2_6_5', 'F2_6_7']\n",
    "\n",
    "# # 필요한 컬럼 복사\n",
    "# df_temp = df_2022[['user_id'] + animation_cols_2022].copy()\n",
    "\n",
    "# # 0/1 이진화 처리\n",
    "# for col in animation_cols_2022:\n",
    "#     df_temp[col] = pd.to_numeric(df_temp[col], errors='coerce').fillna(0)\n",
    "#     df_temp[col] = df_temp[col].apply(lambda x: 1 if x != 0 else 0)\n",
    "\n",
    "# # 통합 컬럼 생성\n",
    "# df_temp['animation_usage_method_2022'] = df_temp[animation_cols_2022].max(axis=1)\n",
    "\n",
    "# # 병합\n",
    "# df_temp = df_temp[['user_id', 'animation_usage_method_2022']]\n",
    "# df_kcontents = df_kcontents.merge(df_temp, on='user_id', how='left')\n"
   ]
  },
  {
   "cell_type": "markdown",
   "id": "4132cc5c-ea21-4780-b4e1-ac1cfd75d532",
   "metadata": {},
   "source": [
    "# (17) webtoon_viewing_method_2022"
   ]
  },
  {
   "cell_type": "code",
   "execution_count": null,
   "id": "fd06aa56-12e1-41a8-ad57-925db524117f",
   "metadata": {},
   "outputs": [],
   "source": [
    "# # 웹툰 콘텐츠 이용 경로 컬럼 리스트\n",
    "# webtoon_cols_2022 = ['F2_7_1', 'F2_7_2', 'F2_7_3', 'F2_7_4', 'F2_7_5', 'F2_7_7']\n",
    "\n",
    "# # 필요한 컬럼 복사\n",
    "# df_temp = df_2022[['user_id'] + webtoon_cols_2022].copy()\n",
    "\n",
    "# # 0/1 이진화 처리\n",
    "# for col in webtoon_cols_2022:\n",
    "#     df_temp[col] = pd.to_numeric(df_temp[col], errors='coerce').fillna(0)\n",
    "#     df_temp[col] = df_temp[col].apply(lambda x: 1 if x != 0 else 0)\n",
    "\n",
    "# # 통합 컬럼 생성\n",
    "# df_temp['webtoon_viewing_method_2022'] = df_temp[webtoon_cols_2022].max(axis=1)\n",
    "\n",
    "# # 병합\n",
    "# df_temp = df_temp[['user_id', 'webtoon_viewing_method_2022']]\n",
    "# df_kcontents = df_kcontents.merge(df_temp, on='user_id', how='left')\n"
   ]
  },
  {
   "cell_type": "markdown",
   "id": "3cfa1bb0-d0b6-44b3-8a4a-64863778bb2d",
   "metadata": {},
   "source": [
    "# (18) webnovel_viewung_method_2022"
   ]
  },
  {
   "cell_type": "code",
   "execution_count": null,
   "id": "3eed865b-8cdc-485d-bfef-2bc6e22467b5",
   "metadata": {},
   "outputs": [],
   "source": [
    "# # 웹소설 콘텐츠 이용 경로 컬럼 리스트\n",
    "# webnovel_cols_2022 = ['F2_8_1', 'F2_8_2', 'F2_8_3', 'F2_8_4', 'F2_8_5', 'F2_8_7']\n",
    "\n",
    "# # 필요한 컬럼 복사\n",
    "# df_temp = df_2022[['user_id'] + webnovel_cols_2022].copy()\n",
    "\n",
    "# # 0/1 이진화 처리\n",
    "# for col in webnovel_cols_2022:\n",
    "#     df_temp[col] = pd.to_numeric(df_temp[col], errors='coerce').fillna(0)\n",
    "#     df_temp[col] = df_temp[col].apply(lambda x: 1 if x != 0 else 0)\n",
    "\n",
    "# # 통합 컬럼 생성\n",
    "# df_temp['webnovel_viewing_method_2022'] = df_temp[webnovel_cols_2022].max(axis=1)\n",
    "\n",
    "# # 병합\n",
    "# df_temp = df_temp[['user_id', 'webnovel_viewing_method_2022']]\n",
    "# df_kcontents = df_kcontents.merge(df_temp, on='user_id', how='left')\n"
   ]
  },
  {
   "cell_type": "markdown",
   "id": "a95086eb-a982-450e-bebb-ac28ba3f44c6",
   "metadata": {},
   "source": [
    "# (19) esport_viewing_method_2022"
   ]
  },
  {
   "cell_type": "code",
   "execution_count": null,
   "id": "1aa03de6-1f78-4cd8-ae8e-4b3eb09c17c4",
   "metadata": {},
   "outputs": [],
   "source": [
    "# # e스포츠 콘텐츠 이용 경로 컬럼 리스트\n",
    "# esport_cols_2022 = ['F2_9_1', 'F2_9_2', 'F2_9_3', 'F2_9_4', 'F2_9_5', 'F2_9_7']\n",
    "\n",
    "# # 필요한 컬럼 복사\n",
    "# df_temp = df_2022[['user_id'] + esport_cols_2022].copy()\n",
    "\n",
    "# # 0/1 이진화 처리\n",
    "# for col in esport_cols_2022:\n",
    "#     df_temp[col] = pd.to_numeric(df_temp[col], errors='coerce').fillna(0)\n",
    "#     df_temp[col] = df_temp[col].apply(lambda x: 1 if x != 0 else 0)\n",
    "\n",
    "# # 통합 컬럼 생성\n",
    "# df_temp['esport_viewing_method_2022'] = df_temp[esport_cols_2022].max(axis=1)\n",
    "\n",
    "# # 병합\n",
    "# df_temp = df_temp[['user_id', 'esport_viewing_method_2022']]\n",
    "# df_kcontents = df_kcontents.merge(df_temp, on='user_id', how='left')\n"
   ]
  },
  {
   "cell_type": "markdown",
   "id": "7608da9a-0f88-47ff-8c59-803403159c20",
   "metadata": {},
   "source": [
    "# (20) series_usage_method_2023"
   ]
  },
  {
   "cell_type": "code",
   "execution_count": null,
   "id": "11db6aa4-89c1-46ac-83a8-3c4fd25f3312",
   "metadata": {},
   "outputs": [],
   "source": [
    "# # 매핑 정의\n",
    "# usage_method_map = {\n",
    "#     1: \"TV(지상파, 유료방송, FAST) 프로그램\",\n",
    "#     2: \"넷플릭스/디즈니+ 등의 유료 OTT 플랫폼\",\n",
    "#     3: \"유튜브/틱톡 등의 오픈 비디오 플랫폼\",\n",
    "#     4: \"K-콘텐츠 전문 플랫폼 (Viki/KOCOWA 등)\",\n",
    "#     5: \"K-콘텐츠 커뮤니티\",\n",
    "#     6: \"SNS 서비스\",\n",
    "#     7: \"인터넷 사이트 (기타)\",\n",
    "#     8: \"P2P 사이트\",\n",
    "#     9: \"기타\"\n",
    "# }\n",
    "\n",
    "# # E3 → series_usage_method_2023으로 직접 매핑\n",
    "# df_2023['series_usage_method_2023'] = (\n",
    "#     df_2023['E3']\n",
    "#     .astype(str).str.strip()           # 공백 제거\n",
    "#     .replace('', np.nan)               # 빈 문자열을 NaN으로\n",
    "#     .astype(float)                     # 숫자로 변환\n",
    "#     .map(usage_method_map)             # 매핑\n",
    "# )\n",
    "\n",
    "# # 필요한 컬럼만 추출\n",
    "# df_series_method = df_2023[['user_id', 'series_usage_method_2023']].copy()\n",
    "\n",
    "\n",
    "# df_kcontents = df_kcontents.merge(df_series_method, on='user_id', how='left')\n"
   ]
  },
  {
   "cell_type": "markdown",
   "id": "4c242370-0269-4270-96a7-35d594e430bb",
   "metadata": {},
   "source": [
    "# (21) movies_usage_method_2023"
   ]
  },
  {
   "cell_type": "code",
   "execution_count": null,
   "id": "5d4d8344-51da-4640-8718-d9d46fa0a0e9",
   "metadata": {},
   "outputs": [],
   "source": [
    "# # E3_1 → movies_usage_method_2023 매핑\n",
    "# df_2023['movies_usage_method_2023'] = (\n",
    "#     df_2023['E3_1']\n",
    "#     .astype(str).str.strip()           # 공백 제거\n",
    "#     .replace('', np.nan)               # 빈 문자열을 NaN으로\n",
    "#     .astype(float)                     # 숫자로 변환\n",
    "#     .map(usage_method_map)             # 매핑\n",
    "# )\n",
    "\n",
    "# # 병합 준비\n",
    "# df_movies_method = df_2023[['user_id', 'movies_usage_method_2023']].copy()\n",
    "\n",
    "\n",
    "# df_kcontents = df_kcontents.merge(df_movies_method, on='user_id', how='left')"
   ]
  },
  {
   "cell_type": "markdown",
   "id": "6c56a494-ce2a-4987-9a6c-f506013ee3ac",
   "metadata": {},
   "source": [
    "# (22) variety_usage_method_2023"
   ]
  },
  {
   "cell_type": "code",
   "execution_count": null,
   "id": "d38f0504-a04f-457f-9258-30788b4ba902",
   "metadata": {},
   "outputs": [],
   "source": [
    "# # E3_2 → variety_usage_method_2023으로 매핑\n",
    "# df_2023['variety_usage_method_2023'] = (\n",
    "#     df_2023['E3_2']\n",
    "#     .astype(str).str.strip()           # 공백 제거\n",
    "#     .replace('', np.nan)               # 빈 문자열을 NaN으로\n",
    "#     .astype(float)                     # 숫자로 변환\n",
    "#     .map(usage_method_map)             # 매핑\n",
    "# )\n",
    "\n",
    "# # 필요한 컬럼만 추출\n",
    "# df_variety = df_2023[['user_id', 'variety_usage_method_2023']].copy()\n",
    "\n",
    "\n",
    "# df_kcontents = df_kcontents.merge(df_variety, on='user_id', how='left')\n"
   ]
  },
  {
   "cell_type": "markdown",
   "id": "7eec5b65-e722-4564-b758-ed206b8ebb7a",
   "metadata": {},
   "source": [
    "# (23) kpop_usage_method_2023"
   ]
  },
  {
   "cell_type": "code",
   "execution_count": null,
   "id": "d8f5100a-4a6c-4e63-b65c-b27c67bb0572",
   "metadata": {},
   "outputs": [],
   "source": [
    "# # E3_3 → kpop_usage_method_2023으로 매핑\n",
    "# df_2023['kpop_usage_method_2023'] = (\n",
    "#     df_2023['E3_3']\n",
    "#     .astype(str).str.strip()           # 공백 제거\n",
    "#     .replace('', np.nan)               # 빈 문자열을 NaN으로\n",
    "#     .astype(float)                     # 숫자로 변환\n",
    "#     .map(usage_method_map)             # 매핑\n",
    "# )\n",
    "\n",
    "# # 필요한 컬럼만 추출\n",
    "# df_kpop = df_2023[['user_id', 'kpop_usage_method_2023']].copy()\n",
    "\n",
    "\n",
    "# df_kcontents = df_kcontents.merge(df_kpop, on='user_id', how='left')\n"
   ]
  },
  {
   "cell_type": "markdown",
   "id": "56caafbc-a46a-42bc-ab44-351ee9fd178b",
   "metadata": {},
   "source": [
    "# (24) celebrity_viewing_method_2023"
   ]
  },
  {
   "cell_type": "code",
   "execution_count": null,
   "id": "9736fc05-f233-42c0-a552-72da5b64b333",
   "metadata": {},
   "outputs": [],
   "source": [
    "# # E3_4 → celebrity_viewing_method_2023으로 매핑\n",
    "# df_2023['celebrity_viewing_method_2023'] = (\n",
    "#     df_2023['E3_4']\n",
    "#     .astype(str).str.strip()           # 공백 제거\n",
    "#     .replace('', np.nan)               # 빈 문자열을 NaN으로\n",
    "#     .astype(float)                     # 숫자로 변환\n",
    "#     .map(usage_method_map)             # 매핑\n",
    "# )\n",
    "\n",
    "# # 필요한 컬럼만 추출\n",
    "# df_celebrity = df_2023[['user_id', 'celebrity_viewing_method_2023']].copy()\n",
    "\n",
    "\n",
    "# df_kcontents = df_kcontents.merge(df_celebrity, on='user_id', how='left')\n"
   ]
  },
  {
   "cell_type": "markdown",
   "id": "1c6bbb5c-2898-40ae-9b75-bf3b19a83d9b",
   "metadata": {},
   "source": [
    "# (25) animation_usage_method_2023"
   ]
  },
  {
   "cell_type": "code",
   "execution_count": null,
   "id": "bf575cc0-77e4-44e6-9cc5-137eed0b4d0a",
   "metadata": {},
   "outputs": [],
   "source": [
    "# # E3_5 → animation_usage_method_2023으로 매핑\n",
    "# df_2023['animation_usage_method_2023'] = (\n",
    "#     df_2023['E3_5']\n",
    "#     .astype(str).str.strip()           # 공백 제거\n",
    "#     .replace('', np.nan)               # 빈 문자열을 NaN으로\n",
    "#     .astype(float)                     # 숫자로 변환\n",
    "#     .map(usage_method_map)             # 매핑\n",
    "# )\n",
    "\n",
    "# # 필요한 컬럼만 추출\n",
    "# df_animation = df_2023[['user_id', 'animation_usage_method_2023']].copy()\n",
    "\n",
    "\n",
    "# df_kcontents = df_kcontents.merge(df_animation, on='user_id', how='left')\n"
   ]
  },
  {
   "cell_type": "markdown",
   "id": "4468b374-f573-47bf-ad97-58f5b8877679",
   "metadata": {},
   "source": [
    "# (26) webtoon_viewing_method_2023"
   ]
  },
  {
   "cell_type": "code",
   "execution_count": null,
   "id": "610c2aa4-b836-4520-a46c-f31b20c403c5",
   "metadata": {},
   "outputs": [],
   "source": [
    "# # E3_6 → webtoon_viewing_method_2023으로 매핑\n",
    "# df_2023['webtoon_viewing_method_2023'] = (\n",
    "#     df_2023['E3_6']\n",
    "#     .astype(str).str.strip()           # 공백 제거\n",
    "#     .replace('', np.nan)               # 빈 문자열을 NaN으로\n",
    "#     .astype(float)                     # 숫자로 변환\n",
    "#     .map(usage_method_map)             # 매핑\n",
    "# )\n",
    "\n",
    "# # 필요한 컬럼만 추출\n",
    "# df_webtoon = df_2023[['user_id', 'webtoon_viewing_method_2023']].copy()\n",
    "\n",
    "\n",
    "# df_kcontents = df_kcontents.merge(df_webtoon, on='user_id', how='left')\n"
   ]
  },
  {
   "cell_type": "markdown",
   "id": "80bbc71d-66bd-47d9-8a62-37bf6b3e5310",
   "metadata": {},
   "source": [
    "# (27) webnovel_viewing_method_2023"
   ]
  },
  {
   "cell_type": "code",
   "execution_count": null,
   "id": "1a2620cd-6058-4da5-8009-9faf98d89005",
   "metadata": {},
   "outputs": [],
   "source": [
    "# # E3_7 → webnovel_viewing_method_2023으로 매핑\n",
    "# df_2023['webnovel_viewing_method_2023'] = (\n",
    "#     df_2023['E3_7']\n",
    "#     .astype(str).str.strip()           # 공백 제거\n",
    "#     .replace('', np.nan)               # 빈 문자열을 NaN으로\n",
    "#     .astype(float)                     # 숫자로 변환\n",
    "#     .map(usage_method_map)             # 매핑\n",
    "# )\n",
    "\n",
    "# # 필요한 컬럼만 추출\n",
    "# df_webnovel = df_2023[['user_id', 'webnovel_viewing_method_2023']].copy()\n",
    "\n",
    "\n",
    "# df_kcontents = df_kcontents.merge(df_webnovel, on='user_id', how='left')"
   ]
  },
  {
   "cell_type": "markdown",
   "id": "9354c740-ccca-4ac3-a000-25add05e8a3f",
   "metadata": {},
   "source": [
    "# (28) esport_viewing_method_2023"
   ]
  },
  {
   "cell_type": "code",
   "execution_count": null,
   "id": "c2b49bc6-e404-4a08-a8bc-f73aec9a436c",
   "metadata": {},
   "outputs": [],
   "source": [
    "# # E3_8 → esport_viewing_method_2023으로 매핑\n",
    "# df_2023['esport_viewing_method_2023'] = (\n",
    "#     df_2023['E3_8']\n",
    "#     .astype(str).str.strip()           # 공백 제거\n",
    "#     .replace('', np.nan)               # 빈 문자열을 NaN으로\n",
    "#     .astype(float)                     # 숫자로 변환\n",
    "#     .map(usage_method_map)             # 매핑\n",
    "# )\n",
    "\n",
    "# # 필요한 컬럼만 추출\n",
    "# df_esport = df_2023[['user_id', 'esport_viewing_method_2023']].copy()\n",
    "\n",
    "\n",
    "# df_kcontents = df_kcontents.merge(df_esport, on='user_id', how='left')\n"
   ]
  },
  {
   "cell_type": "markdown",
   "id": "a15c3100-90c7-4a8e-96f8-f6e8604a10e3",
   "metadata": {},
   "source": [
    "# (29) series_usage_frequency"
   ]
  },
  {
   "cell_type": "code",
   "execution_count": null,
   "id": "f592f615-1a49-4e91-884e-9373d3364fc8",
   "metadata": {},
   "outputs": [],
   "source": [
    "# 매핑 정의\n",
    "frequency_map = {\n",
    "    1: '매일',\n",
    "    2: '1주일에 5~6일',\n",
    "    3: '1주일에 3~4일',\n",
    "    4: '1주일에 1~2일',\n",
    "    5: '한 달에 1~3일',\n",
    "    6: '2~3달에 1~2일 이하'\n",
    "}\n",
    "\n",
    "# 1. 공백 제거 후 숫자형으로 강제 변환\n",
    "df_2022['F3'] = pd.to_numeric(df_2022['F3'].astype(str).str.strip(), errors='coerce')\n",
    "df_2023['E4'] = pd.to_numeric(df_2023['E4'].astype(str).str.strip(), errors='coerce')\n",
    "\n",
    "# 2. 컬럼명 맞춰서 정리\n",
    "df_2022_freq = df_2022[['user_id', 'F3']].copy().rename(columns={'F3': 'series_usage_frequency'})\n",
    "df_2023_freq = df_2023[['user_id', 'E4']].copy().rename(columns={'E4': 'series_usage_frequency'})\n",
    "\n",
    "# 3. 매핑 적용 + 공백은 \"이용안함\"\n",
    "df_2022_freq['series_usage_frequency'] = df_2022_freq['series_usage_frequency'].map(frequency_map).fillna('이용안함')\n",
    "df_2023_freq['series_usage_frequency'] = df_2023_freq['series_usage_frequency'].map(frequency_map).fillna('이용안함')\n",
    "\n",
    "# 4. 두 데이터프레임 합치기\n",
    "df_freq_combined = pd.concat([df_2022_freq, df_2023_freq], ignore_index=True)\n",
    "\n",
    "# 5. 기존 컬럼 제거하고 병합\n",
    "df_kcontents = df_kcontents.drop(columns=['series_usage_frequency'], errors='ignore')\n",
    "df_kcontents = df_kcontents.merge(df_freq_combined, on='user_id', how='left')\n"
   ]
  },
  {
   "cell_type": "markdown",
   "id": "c47c10c0-38cd-4188-9ff2-c0b5dd83f295",
   "metadata": {},
   "source": [
    "# (30) movies_usage_frequency"
   ]
  },
  {
   "cell_type": "code",
   "execution_count": null,
   "id": "8833adc9-8156-41b1-9b8e-acbb27cdb0b9",
   "metadata": {},
   "outputs": [],
   "source": [
    "# 1. 공백 제거 후 숫자형으로 강제 변환\n",
    "df_2022['F4'] = pd.to_numeric(df_2022['F4'].astype(str).str.strip(), errors='coerce')\n",
    "df_2023['E5'] = pd.to_numeric(df_2023['E5'].astype(str).str.strip(), errors='coerce')\n",
    "\n",
    "# 2. 컬럼명 맞춰서 정리\n",
    "df_2022_freq = df_2022[['user_id', 'F4']].copy().rename(columns={'F4': 'movies_usage_frequency'})\n",
    "df_2023_freq = df_2023[['user_id', 'E5']].copy().rename(columns={'E5': 'movies_usage_frequency'})\n",
    "\n",
    "# 3. 매핑 적용 + 공백은 \"이용안함\"\n",
    "df_2022_freq['movies_usage_frequency'] = df_2022_freq['movies_usage_frequency'].map(frequency_map).fillna('이용안함')\n",
    "df_2023_freq['movies_usage_frequency'] = df_2023_freq['movies_usage_frequency'].map(frequency_map).fillna('이용안함')\n",
    "\n",
    "# 4. 두 데이터프레임 합치기 및 병합\n",
    "df_freq_combined = pd.concat([df_2022_freq, df_2023_freq], ignore_index=True)\n",
    "df_kcontents = df_kcontents.merge(df_freq_combined, on='user_id', how='left')\n"
   ]
  },
  {
   "cell_type": "markdown",
   "id": "594587ba-7132-49a2-a010-ca340bd42798",
   "metadata": {},
   "source": [
    "# (31) variety_usage_frequency"
   ]
  },
  {
   "cell_type": "code",
   "execution_count": null,
   "id": "eeb7df17-1908-40d8-9846-dfaf19008e51",
   "metadata": {},
   "outputs": [],
   "source": [
    "# 1. 공백 제거 후 숫자형으로 강제 변환\n",
    "df_2022['F5'] = pd.to_numeric(df_2022['F5'].astype(str).str.strip(), errors='coerce')\n",
    "df_2023['E6'] = pd.to_numeric(df_2023['E6'].astype(str).str.strip(), errors='coerce')\n",
    "\n",
    "# 2. 컬럼명 맞춰서 정리\n",
    "df_2022_freq = df_2022[['user_id', 'F5']].copy().rename(columns={'F5': 'variety_usage_frequency'})\n",
    "df_2023_freq = df_2023[['user_id', 'E6']].copy().rename(columns={'E6': 'variety_usage_frequency'})\n",
    "\n",
    "# 3. 매핑 적용 + 공백은 \"이용안함\"\n",
    "df_2022_freq['variety_usage_frequency'] = df_2022_freq['variety_usage_frequency'].map(frequency_map).fillna('이용안함')\n",
    "df_2023_freq['variety_usage_frequency'] = df_2023_freq['variety_usage_frequency'].map(frequency_map).fillna('이용안함')\n",
    "\n",
    "# 4. 두 데이터프레임 합치기 및 병합\n",
    "df_freq_combined = pd.concat([df_2022_freq, df_2023_freq], ignore_index=True)\n",
    "df_kcontents = df_kcontents.merge(df_freq_combined, on='user_id', how='left')\n"
   ]
  },
  {
   "cell_type": "markdown",
   "id": "4ba17c2f-b819-40da-a39f-4e95f449a3c1",
   "metadata": {},
   "source": [
    "# (32) kpop_usage_frequency"
   ]
  },
  {
   "cell_type": "code",
   "execution_count": null,
   "id": "a02898f3-9537-47d7-9c0e-51fe00e3461d",
   "metadata": {},
   "outputs": [],
   "source": [
    "# 1. 공백 제거 후 숫자형으로 강제 변환\n",
    "df_2022['F6'] = pd.to_numeric(df_2022['F6'].astype(str).str.strip(), errors='coerce')\n",
    "df_2023['E7'] = pd.to_numeric(df_2023['E7'].astype(str).str.strip(), errors='coerce')\n",
    "\n",
    "# 2. 컬럼명 맞춰서 정리\n",
    "df_2022_freq = df_2022[['user_id', 'F6']].copy().rename(columns={'F6': 'kpop_usage_frequency'})\n",
    "df_2023_freq = df_2023[['user_id', 'E7']].copy().rename(columns={'E7': 'kpop_usage_frequency'})\n",
    "\n",
    "# 3. 매핑 적용 + 공백은 \"이용안함\"\n",
    "df_2022_freq['kpop_usage_frequency'] = df_2022_freq['kpop_usage_frequency'].map(frequency_map).fillna('이용안함')\n",
    "df_2023_freq['kpop_usage_frequency'] = df_2023_freq['kpop_usage_frequency'].map(frequency_map).fillna('이용안함')\n",
    "\n",
    "# 4. 두 데이터프레임 합치기 및 병합\n",
    "df_freq_combined = pd.concat([df_2022_freq, df_2023_freq], ignore_index=True)\n",
    "df_kcontents = df_kcontents.merge(df_freq_combined, on='user_id', how='left')\n"
   ]
  },
  {
   "cell_type": "markdown",
   "id": "2ad8709f-e038-46d8-8800-2414a31753e0",
   "metadata": {},
   "source": [
    "# (33) webtoon_usage_frequency"
   ]
  },
  {
   "cell_type": "code",
   "execution_count": null,
   "id": "565c6e54-9b17-453b-8ef8-de312b413f8b",
   "metadata": {},
   "outputs": [],
   "source": [
    "# 1. 공백 제거 후 숫자형으로 강제 변환\n",
    "df_2022['F7'] = pd.to_numeric(df_2022['F7'].astype(str).str.strip(), errors='coerce')\n",
    "df_2023['E8'] = pd.to_numeric(df_2023['E8'].astype(str).str.strip(), errors='coerce')\n",
    "\n",
    "# 2. 컬럼명 맞춰서 정리\n",
    "df_2022_freq = df_2022[['user_id', 'F7']].copy().rename(columns={'F7': 'webtoon_usage_frequency'})\n",
    "df_2023_freq = df_2023[['user_id', 'E8']].copy().rename(columns={'E8': 'webtoon_usage_frequency'})\n",
    "\n",
    "# 3. 매핑 적용 + 공백은 \"이용안함\"\n",
    "df_2022_freq['webtoon_usage_frequency'] = df_2022_freq['webtoon_usage_frequency'].map(frequency_map).fillna('이용안함')\n",
    "df_2023_freq['webtoon_usage_frequency'] = df_2023_freq['webtoon_usage_frequency'].map(frequency_map).fillna('이용안함')\n",
    "\n",
    "# 4. 두 데이터프레임 합치기 및 병합\n",
    "df_freq_combined = pd.concat([df_2022_freq, df_2023_freq], ignore_index=True)\n",
    "df_kcontents = df_kcontents.merge(df_freq_combined, on='user_id', how='left')\n"
   ]
  },
  {
   "cell_type": "markdown",
   "id": "bae41eb7-3cec-4fdb-8bb8-85f6428895e5",
   "metadata": {},
   "source": [
    "# (34) webnovel_usage_frequency"
   ]
  },
  {
   "cell_type": "code",
   "execution_count": null,
   "id": "24169f15-afcf-45ae-8099-88c9b719a510",
   "metadata": {},
   "outputs": [],
   "source": [
    "# 1. 공백 제거 후 숫자형으로 변환\n",
    "df_2022['F8'] = pd.to_numeric(df_2022['F8'].astype(str).str.strip(), errors='coerce')\n",
    "df_2023['E9'] = pd.to_numeric(df_2023['E9'].astype(str).str.strip(), errors='coerce')\n",
    "\n",
    "# 2. 컬럼명 정리\n",
    "df_2022_freq = df_2022[['user_id', 'F8']].copy().rename(columns={'F8': 'webnovel_usage_frequency'})\n",
    "df_2023_freq = df_2023[['user_id', 'E9']].copy().rename(columns={'E9': 'webnovel_usage_frequency'})\n",
    "\n",
    "# 3. 매핑 적용 + NaN → \"이용안함\"\n",
    "df_2022_freq['webnovel_usage_frequency'] = df_2022_freq['webnovel_usage_frequency'].map(frequency_map).fillna('이용안함')\n",
    "df_2023_freq['webnovel_usage_frequency'] = df_2023_freq['webnovel_usage_frequency'].map(frequency_map).fillna('이용안함')\n",
    "\n",
    "# 4. 병합\n",
    "df_freq_combined = pd.concat([df_2022_freq, df_2023_freq], ignore_index=True)\n",
    "df_kcontents = df_kcontents.merge(df_freq_combined, on='user_id', how='left')\n"
   ]
  },
  {
   "cell_type": "markdown",
   "id": "67d465a9-2981-4889-90c7-5d9d9a6352ad",
   "metadata": {},
   "source": [
    "# (35) drama_movie_genre_rank1"
   ]
  },
  {
   "cell_type": "code",
   "execution_count": null,
   "id": "f3f0d14a-9c10-41ff-a2a2-4a3a4d6e65e1",
   "metadata": {},
   "outputs": [],
   "source": [
    "# 1. 매핑 정의\n",
    "genre_map = {\n",
    "    1: \"로맨스/멜로\",\n",
    "    2: \"SF/판타지\",\n",
    "    3: \"액션\",\n",
    "    4: \"공포/스릴러/좀비물\",\n",
    "    5: \"역사물\",\n",
    "    6: \"휴면/가족\",\n",
    "    7: \"다큐멘터리\",\n",
    "    8: \"뮤지컬\",\n",
    "    9: \"기타\",\n",
    "    10: \"이용하지 않음\"\n",
    "}\n",
    "\n",
    "# 2. 숫자 변환 및 매핑\n",
    "df_2022['F10RANK_1'] = pd.to_numeric(df_2022['F10RANK_1'].astype(str).str.strip(), errors='coerce')\n",
    "df_2022['drama_movie_genre_rank1'] = df_2022['F10RANK_1'].map(genre_map).fillna(\"이용하지 않음\")\n",
    "\n",
    "# 3. 필요한 컬럼만 추출\n",
    "df_genre = df_2022[['user_id', 'drama_movie_genre_rank1']].copy()\n",
    "\n",
    "# 4. 기존 컬럼 삭제 후 병합\n",
    "df_kcontents = df_kcontents.drop(columns=['drama_movie_genre_rank1'], errors='ignore')\n",
    "df_kcontents = df_kcontents.merge(df_genre, on='user_id', how='left')\n"
   ]
  },
  {
   "cell_type": "markdown",
   "id": "caac368e-873b-4244-b256-60a8a523e2f8",
   "metadata": {},
   "source": [
    "# (36) drama_movie_genre_rank2"
   ]
  },
  {
   "cell_type": "code",
   "execution_count": null,
   "id": "14306659-a25c-4625-be92-2cdce6d91adf",
   "metadata": {},
   "outputs": [],
   "source": [
    "# 숫자형 변환\n",
    "df_2022['F10RANK_2'] = pd.to_numeric(df_2022['F10RANK_2'].astype(str).str.strip(), errors='coerce')\n",
    "\n",
    "# 기존 매핑 사용\n",
    "df_2022['drama_movie_genre_rank2'] = df_2022['F10RANK_2'].map(genre_map).fillna(\"이용하지 않음\")\n",
    "\n",
    "# 필요한 컬럼 추출\n",
    "df_genre2 = df_2022[['user_id', 'drama_movie_genre_rank2']].copy()\n",
    "\n",
    "# 기존 컬럼 제거 후 병합\n",
    "df_kcontents = df_kcontents.drop(columns=['drama_movie_genre_rank2'], errors='ignore')\n",
    "df_kcontents = df_kcontents.merge(df_genre2, on='user_id', how='left')\n"
   ]
  },
  {
   "cell_type": "markdown",
   "id": "ed71ca8e-2c6e-4cf0-a20d-4171300fd8fd",
   "metadata": {},
   "source": [
    "# (37) drama_movie_romance"
   ]
  },
  {
   "cell_type": "code",
   "execution_count": null,
   "id": "537b6807-34a4-45aa-89ca-c6ecfb9feafc",
   "metadata": {},
   "outputs": [],
   "source": [
    "def add_genre_column_2023(df_kcontents, df_2023, cols_2023, new_col_name, target_code, convert_value=1):\n",
    "    df_2023_part = df_2023[['user_id'] + cols_2023].copy()\n",
    "\n",
    "    # 공백 및 NaN 처리\n",
    "    df_2023_part[cols_2023] = df_2023_part[cols_2023].replace(' ', pd.NA)\n",
    "    df_2023_part[cols_2023] = df_2023_part[cols_2023].apply(pd.to_numeric, errors='coerce')\n",
    "\n",
    "    # target_code 포함 여부 확인\n",
    "    df_2023_part[new_col_name] = df_2023_part[cols_2023].apply(\n",
    "        lambda row: convert_value if target_code in row.dropna().values else 0, axis=1\n",
    "    ).astype(\"Int64\")\n",
    "\n",
    "    df_2023_part = df_2023_part[['user_id', new_col_name]]\n",
    "    df_kcontents = df_kcontents.merge(df_2023_part, on='user_id', how='left')\n",
    "    return df_kcontents\n"
   ]
  },
  {
   "cell_type": "code",
   "execution_count": null,
   "id": "86902aa7-52c9-4c19-9047-6a279e99556b",
   "metadata": {},
   "outputs": [],
   "source": [
    "df_kcontents = add_genre_column_2023(\n",
    "    df_kcontents, df_2023,\n",
    "    cols_2023=[\n",
    "        'E10', 'E10_m2', 'E10_m3', 'E10_m4', 'E10_m5',\n",
    "        'E10_m6', 'E10_m7', 'E10_m8', 'E10_m9', 'E10_m10',\n",
    "        'E10_m11', 'E10_m12', 'E10_m13'\n",
    "    ],\n",
    "    new_col_name='drama_movie_romance',\n",
    "    target_code=1\n",
    ")"
   ]
  },
  {
   "cell_type": "markdown",
   "id": "ed37a147-54bd-4afe-9102-1ca3caa47b57",
   "metadata": {},
   "source": [
    "# (38) drama_movie_sf"
   ]
  },
  {
   "cell_type": "code",
   "execution_count": null,
   "id": "00a35412-8010-40f1-a93e-8550b3d0d7f1",
   "metadata": {},
   "outputs": [],
   "source": [
    "# drama_movie_sf: 코드 2번이 해당 (SF/판타지)\n",
    "\n",
    "df_kcontents = add_genre_column_2023(\n",
    "    df_kcontents, df_2023,\n",
    "    cols_2023=[\n",
    "        'E10', 'E10_m2', 'E10_m3', 'E10_m4', 'E10_m5',\n",
    "        'E10_m6', 'E10_m7', 'E10_m8', 'E10_m9', 'E10_m10',\n",
    "        'E10_m11', 'E10_m12', 'E10_m13'\n",
    "    ],\n",
    "    new_col_name='drama_movie_sf',\n",
    "    target_code=2\n",
    ")\n"
   ]
  },
  {
   "cell_type": "markdown",
   "id": "025d1357-76ec-43fa-8fc0-cc0c991adbb9",
   "metadata": {},
   "source": [
    "# (39) drama_movie_action"
   ]
  },
  {
   "cell_type": "code",
   "execution_count": null,
   "id": "16939fb9-a6ee-4e35-8942-bfb501e82210",
   "metadata": {},
   "outputs": [],
   "source": [
    "# drama_movie_action: 코드 3번이 해당 (액션)\n",
    "df_kcontents = add_genre_column_2023(\n",
    "    df_kcontents, df_2023,\n",
    "    cols_2023=[\n",
    "        'E10', 'E10_m2', 'E10_m3', 'E10_m4', 'E10_m5',\n",
    "        'E10_m6', 'E10_m7', 'E10_m8', 'E10_m9', 'E10_m10',\n",
    "        'E10_m11', 'E10_m12', 'E10_m13'\n",
    "    ],\n",
    "    new_col_name='drama_movie_action',\n",
    "    target_code=3\n",
    ")"
   ]
  },
  {
   "cell_type": "markdown",
   "id": "05f3911e-6365-486f-b800-db25b67faf96",
   "metadata": {},
   "source": [
    "# (40) drama_movie_horror"
   ]
  },
  {
   "cell_type": "code",
   "execution_count": null,
   "id": "bc2e76f4-b774-4154-a63b-296a39a7a8d4",
   "metadata": {},
   "outputs": [],
   "source": [
    "# drama_movie_horror: 코드 4번이 해당 (공포/스릴러/좀비물)\n",
    "df_kcontents = add_genre_column_2023(\n",
    "    df_kcontents, df_2023,\n",
    "    cols_2023=[\n",
    "        'E10', 'E10_m2', 'E10_m3', 'E10_m4', 'E10_m5',\n",
    "        'E10_m6', 'E10_m7', 'E10_m8', 'E10_m9', 'E10_m10',\n",
    "        'E10_m11', 'E10_m12', 'E10_m13'\n",
    "    ],\n",
    "    new_col_name='drama_movie_horror',\n",
    "    target_code=4\n",
    ")\n"
   ]
  },
  {
   "cell_type": "markdown",
   "id": "702ed17b-2684-411d-9ecc-f185b74f2bdf",
   "metadata": {},
   "source": [
    "# (41) drama_movie_comedy"
   ]
  },
  {
   "cell_type": "code",
   "execution_count": null,
   "id": "e98e2483-1d15-4dc3-8d67-f9da3a64fa53",
   "metadata": {},
   "outputs": [],
   "source": [
    "# drama_movie_comedy: 코드 5번이 해당 (코미디)\n",
    "df_kcontents = add_genre_column_2023(\n",
    "    df_kcontents, df_2023,\n",
    "    cols_2023=[\n",
    "        'E10', 'E10_m2', 'E10_m3', 'E10_m4', 'E10_m5',\n",
    "        'E10_m6', 'E10_m7', 'E10_m8', 'E10_m9', 'E10_m10',\n",
    "        'E10_m11', 'E10_m12', 'E10_m13'\n",
    "    ],\n",
    "    new_col_name='drama_movie_comedy',\n",
    "    target_code=5\n",
    ")\n"
   ]
  },
  {
   "cell_type": "markdown",
   "id": "793e423d-83ea-4566-8afb-83812b68507c",
   "metadata": {},
   "source": [
    "# (42) drama_movie_history"
   ]
  },
  {
   "cell_type": "code",
   "execution_count": null,
   "id": "b58df8db-1692-425b-b55f-35cd43267e6c",
   "metadata": {},
   "outputs": [],
   "source": [
    "# drama_movie_history: 코드 6번이 해당 (역사물)\n",
    "df_kcontents = add_genre_column_2023(\n",
    "    df_kcontents, df_2023,\n",
    "    cols_2023=[\n",
    "        'E10', 'E10_m2', 'E10_m3', 'E10_m4', 'E10_m5',\n",
    "        'E10_m6', 'E10_m7', 'E10_m8', 'E10_m9', 'E10_m10',\n",
    "        'E10_m11', 'E10_m12', 'E10_m13'\n",
    "    ],\n",
    "    new_col_name='drama_movie_history',\n",
    "    target_code=6\n",
    ")\n"
   ]
  },
  {
   "cell_type": "markdown",
   "id": "786e6b15-12e7-4b53-a9d3-790f05f18a34",
   "metadata": {},
   "source": [
    "# (43) drama_movie_family"
   ]
  },
  {
   "cell_type": "code",
   "execution_count": null,
   "id": "58c104a3-c582-4a6c-b046-c8413b4ce08c",
   "metadata": {},
   "outputs": [],
   "source": [
    "# drama_movie_family: 코드 7번이 해당 (휴먼/가족)\n",
    "df_kcontents = add_genre_column_2023(\n",
    "    df_kcontents, df_2023,\n",
    "    cols_2023=[\n",
    "        'E10', 'E10_m2', 'E10_m3', 'E10_m4', 'E10_m5',\n",
    "        'E10_m6', 'E10_m7', 'E10_m8', 'E10_m9', 'E10_m10',\n",
    "        'E10_m11', 'E10_m12', 'E10_m13'\n",
    "    ],\n",
    "    new_col_name='drama_movie_family',\n",
    "    target_code=7\n",
    ")\n"
   ]
  },
  {
   "cell_type": "markdown",
   "id": "78ec1d5f-4037-4875-a5a8-0aef055abc22",
   "metadata": {},
   "source": [
    "# (44) drama_movie_documentary"
   ]
  },
  {
   "cell_type": "code",
   "execution_count": null,
   "id": "a1a1c41d-716a-48ee-ad6b-cfc27282ad1a",
   "metadata": {},
   "outputs": [],
   "source": [
    "# drama_movie_documentary: 코드 8번이 해당 (다큐멘터리)\n",
    "df_kcontents = add_genre_column_2023(\n",
    "    df_kcontents, df_2023,\n",
    "    cols_2023=[\n",
    "        'E10', 'E10_m2', 'E10_m3', 'E10_m4', 'E10_m5',\n",
    "        'E10_m6', 'E10_m7', 'E10_m8', 'E10_m9', 'E10_m10',\n",
    "        'E10_m11', 'E10_m12', 'E10_m13'\n",
    "    ],\n",
    "    new_col_name='drama_movie_documentary',\n",
    "    target_code=8\n",
    ")\n"
   ]
  },
  {
   "cell_type": "markdown",
   "id": "8408c08d-d413-4030-a174-f9b38d9a3c0a",
   "metadata": {},
   "source": [
    "# (45) drama_movie_musical"
   ]
  },
  {
   "cell_type": "code",
   "execution_count": null,
   "id": "b7bc7f70-4c9f-47ee-81da-e0ef1fdf4a88",
   "metadata": {},
   "outputs": [],
   "source": [
    "# drama_movie_musical: 코드 9번이 해당 (뮤지컬/음악)\n",
    "df_kcontents = add_genre_column_2023(\n",
    "    df_kcontents, df_2023,\n",
    "    cols_2023=[\n",
    "        'E10', 'E10_m2', 'E10_m3', 'E10_m4', 'E10_m5',\n",
    "        'E10_m6', 'E10_m7', 'E10_m8', 'E10_m9', 'E10_m10',\n",
    "        'E10_m11', 'E10_m12', 'E10_m13'\n",
    "    ],\n",
    "    new_col_name='drama_movie_musical',\n",
    "    target_code=9\n",
    ")\n"
   ]
  },
  {
   "cell_type": "markdown",
   "id": "c6c461e2-ddb9-46d5-989b-40d508f04885",
   "metadata": {},
   "source": [
    "# (46) drama_movie_animation"
   ]
  },
  {
   "cell_type": "code",
   "execution_count": null,
   "id": "671f2fc0-f972-4fd2-9495-d1e1ef610263",
   "metadata": {},
   "outputs": [],
   "source": [
    "# drama_movie_animation: 코드 10번이 해당 (애니메이션)\n",
    "df_kcontents = add_genre_column_2023(\n",
    "    df_kcontents, df_2023,\n",
    "    cols_2023=[\n",
    "        'E10', 'E10_m2', 'E10_m3', 'E10_m4', 'E10_m5',\n",
    "        'E10_m6', 'E10_m7', 'E10_m8', 'E10_m9', 'E10_m10',\n",
    "        'E10_m11', 'E10_m12', 'E10_m13'\n",
    "    ],\n",
    "    new_col_name='drama_movie_animation',\n",
    "    target_code=10\n",
    ")\n"
   ]
  },
  {
   "cell_type": "markdown",
   "id": "1d5cacec-0ab1-4331-a4a2-fff42026c290",
   "metadata": {},
   "source": [
    "# (47) drama_movie_kids"
   ]
  },
  {
   "cell_type": "code",
   "execution_count": null,
   "id": "895927dd-4b00-43d3-8379-6703dba6e8c5",
   "metadata": {},
   "outputs": [],
   "source": [
    "# drama_movie_kids: 코드 11번이 해당 (키즈)\n",
    "df_kcontents = add_genre_column_2023(\n",
    "    df_kcontents, df_2023,\n",
    "    cols_2023=[\n",
    "        'E10', 'E10_m2', 'E10_m3', 'E10_m4', 'E10_m5',\n",
    "        'E10_m6', 'E10_m7', 'E10_m8', 'E10_m9', 'E10_m10',\n",
    "        'E10_m11', 'E10_m12', 'E10_m13'\n",
    "    ],\n",
    "    new_col_name='drama_movie_kids',\n",
    "    target_code=11\n",
    ")\n"
   ]
  },
  {
   "cell_type": "markdown",
   "id": "53981716-45ab-4615-adab-f42bb3d20d92",
   "metadata": {},
   "source": [
    "# (48) drama_movie_other"
   ]
  },
  {
   "cell_type": "code",
   "execution_count": null,
   "id": "6266eeca-bc41-4d60-97f3-011c8c9cfc27",
   "metadata": {},
   "outputs": [],
   "source": [
    "# drama_movie_other: 코드 12번이 해당 (기타)\n",
    "\n",
    "df_kcontents = add_genre_column_2023(\n",
    "    df_kcontents, df_2023,\n",
    "    cols_2023=[\n",
    "        'E10', 'E10_m2', 'E10_m3', 'E10_m4', 'E10_m5',\n",
    "        'E10_m6', 'E10_m7', 'E10_m8', 'E10_m9', 'E10_m10',\n",
    "        'E10_m11', 'E10_m12', 'E10_m13'\n",
    "    ],\n",
    "    new_col_name='drama_movie_other',\n",
    "    target_code=12\n",
    ")\n"
   ]
  },
  {
   "cell_type": "markdown",
   "id": "55e7e534-b0be-48b5-bc8f-e914a5a37e6e",
   "metadata": {},
   "source": [
    "# (49) drama_movie_no"
   ]
  },
  {
   "cell_type": "code",
   "execution_count": null,
   "id": "34558ef8-340d-494a-9511-9a4e852026ec",
   "metadata": {},
   "outputs": [],
   "source": [
    "# drama_movie_no: 코드 13번이 해당 (이용하지 않음)\n",
    "\n",
    "df_kcontents = add_genre_column_2023(\n",
    "    df_kcontents, df_2023,\n",
    "    cols_2023=[\n",
    "        'E10', 'E10_m2', 'E10_m3', 'E10_m4', 'E10_m5',\n",
    "        'E10_m6', 'E10_m7', 'E10_m8', 'E10_m9', 'E10_m10',\n",
    "        'E10_m11', 'E10_m12', 'E10_m13'\n",
    "    ],\n",
    "    new_col_name='drama_movie_no',\n",
    "    target_code=13\n",
    ")\n"
   ]
  },
  {
   "cell_type": "markdown",
   "id": "9be865ef-18b6-424c-88b6-8ea093b5d76a",
   "metadata": {},
   "source": [
    "# (50) variety_favorite_rank1"
   ]
  },
  {
   "cell_type": "code",
   "execution_count": null,
   "id": "2e1053d3-4a99-4694-ad06-01be5332b8cf",
   "metadata": {},
   "outputs": [],
   "source": [
    "# 1. 매핑 정의\n",
    "variety_genre_map = {\n",
    "    1: '게임 예능',\n",
    "    2: '여행 예능',\n",
    "    3: '관찰 예능',\n",
    "    4: '연애 리얼리티 예능',\n",
    "    5: '오디션/서바이벌 예능',\n",
    "    6: '교양 예능',\n",
    "    7: '기타',\n",
    "    8: '이용하지 않음'\n",
    "}\n",
    "\n",
    "# 2. 숫자 변환 및 매핑\n",
    "df_2022['F11RANK_1'] = pd.to_numeric(df_2022['F11RANK_1'].astype(str).str.strip(), errors='coerce')\n",
    "df_2022['variety_favorite_rank1'] = df_2022['F11RANK_1'].map(variety_genre_map).fillna(\"이용하지 않음\")\n",
    "\n",
    "# 3. 필요한 컬럼만 추출\n",
    "df_variety = df_2022[['user_id', 'variety_favorite_rank1']].copy()\n",
    "\n",
    "# 4. 기존 컬럼 삭제 후 병합\n",
    "df_kcontents = df_kcontents.drop(columns=['variety_favorite_rank1'], errors='ignore')\n",
    "df_kcontents = df_kcontents.merge(df_variety, on='user_id', how='left')\n",
    "\n"
   ]
  },
  {
   "cell_type": "markdown",
   "id": "d0820883-7c98-41d5-be18-2fc6b1cf18a5",
   "metadata": {},
   "source": [
    "# (51) variety_favorite_rank2"
   ]
  },
  {
   "cell_type": "code",
   "execution_count": null,
   "id": "0a39d50a-942d-4033-8e65-08703e0b6aa9",
   "metadata": {},
   "outputs": [],
   "source": [
    "# 1. 숫자 변환 및 매핑\n",
    "df_2022['F11RANK_2'] = pd.to_numeric(df_2022['F11RANK_2'].astype(str).str.strip(), errors='coerce')\n",
    "df_2022['variety_favorite_rank2'] = df_2022['F11RANK_2'].map(variety_genre_map).fillna(\"이용하지 않음\")\n",
    "\n",
    "# 2. 필요한 컬럼만 추출\n",
    "df_variety2 = df_2022[['user_id', 'variety_favorite_rank2']].copy()\n",
    "\n",
    "# 3. 기존 컬럼 삭제 후 병합\n",
    "df_kcontents = df_kcontents.drop(columns=['variety_favorite_rank2'], errors='ignore')\n",
    "df_kcontents = df_kcontents.merge(df_variety2, on='user_id', how='left')\n"
   ]
  },
  {
   "cell_type": "markdown",
   "id": "3ba19030-e0ea-4548-8680-2a2bc9265357",
   "metadata": {},
   "source": [
    "# (52) variety_favorite_game"
   ]
  },
  {
   "cell_type": "code",
   "execution_count": null,
   "id": "2e4904ae-bf31-4588-ab96-0196ca5f98c0",
   "metadata": {},
   "outputs": [],
   "source": [
    "# variety_favorite_game: 코드 1번이 해당 (게임 예능)\n",
    "df_kcontents = add_genre_column_2023(\n",
    "    df_kcontents, df_2023,\n",
    "    cols_2023=[\n",
    "        'E11', 'E11_m2', 'E11_m3', 'E11_m4', 'E11_m5',\n",
    "        'E11_m6', 'E11_m7', 'E11_m8', 'E11_m9', 'E11_m10',\n",
    "        'E11_m11', 'E11_m12', 'E11_m13', 'E11_m14'\n",
    "    ],\n",
    "    new_col_name='variety_favorite_game',\n",
    "    target_code=1\n",
    ")\n"
   ]
  },
  {
   "cell_type": "markdown",
   "id": "7ebe7f12-e95b-4978-831d-98bec467e1e2",
   "metadata": {},
   "source": [
    "# (53) variety_favorite_travel"
   ]
  },
  {
   "cell_type": "code",
   "execution_count": null,
   "id": "16f51866-4bcb-4a5c-8604-57db14b860ba",
   "metadata": {},
   "outputs": [],
   "source": [
    "# variety_favorite_travel: 코드 2번이 해당 (여행 예능)\n",
    "df_kcontents = add_genre_column_2023(\n",
    "    df_kcontents, df_2023,\n",
    "    cols_2023=[\n",
    "        'E11', 'E11_m2', 'E11_m3', 'E11_m4', 'E11_m5',\n",
    "        'E11_m6', 'E11_m7', 'E11_m8', 'E11_m9', 'E11_m10',\n",
    "        'E11_m11', 'E11_m12', 'E11_m13', 'E11_m14'\n",
    "    ],\n",
    "    new_col_name='variety_favorite_travel',\n",
    "    target_code=2\n",
    ")\n"
   ]
  },
  {
   "cell_type": "markdown",
   "id": "000aa73a-2e8c-4dc6-9b9c-b474608c7094",
   "metadata": {},
   "source": [
    "# (54) variety_favorite_observation"
   ]
  },
  {
   "cell_type": "code",
   "execution_count": null,
   "id": "a3635f8f-9490-4ddc-ba85-335e4fce9756",
   "metadata": {},
   "outputs": [],
   "source": [
    "# variety_favorite_observation: 코드 3번이 해당 (관찰 예능)\n",
    "df_kcontents = add_genre_column_2023(\n",
    "    df_kcontents, df_2023,\n",
    "    cols_2023=[\n",
    "        'E11', 'E11_m2', 'E11_m3', 'E11_m4', 'E11_m5',\n",
    "        'E11_m6', 'E11_m7', 'E11_m8', 'E11_m9', 'E11_m10',\n",
    "        'E11_m11', 'E11_m12', 'E11_m13', 'E11_m14'\n",
    "    ],\n",
    "    new_col_name='variety_favorite_observation',\n",
    "    target_code=3\n",
    ")\n"
   ]
  },
  {
   "cell_type": "markdown",
   "id": "b32cde67-539e-4c0b-91f0-376e97fa335b",
   "metadata": {},
   "source": [
    "# (55) variety_favorite_romance"
   ]
  },
  {
   "cell_type": "code",
   "execution_count": null,
   "id": "2040fd74-10af-482b-b486-9cfddcc14fdd",
   "metadata": {},
   "outputs": [],
   "source": [
    "# variety_favorite_romance: 코드 4번이 해당 (연애 리얼리티 예능)\n",
    "\n",
    "df_kcontents = add_genre_column_2023(\n",
    "    df_kcontents, df_2023,\n",
    "    cols_2023=[\n",
    "        'E11', 'E11_m2', 'E11_m3', 'E11_m4', 'E11_m5',\n",
    "        'E11_m6', 'E11_m7', 'E11_m8', 'E11_m9', 'E11_m10',\n",
    "        'E11_m11', 'E11_m12', 'E11_m13', 'E11_m14'\n",
    "    ],\n",
    "    new_col_name='variety_favorite_romance',\n",
    "    target_code=4\n",
    ")\n"
   ]
  },
  {
   "cell_type": "markdown",
   "id": "c4cf92cb-0d1e-42c2-9242-c4e6f2bed4ea",
   "metadata": {},
   "source": [
    "# (56) variety_favorite_audition"
   ]
  },
  {
   "cell_type": "code",
   "execution_count": null,
   "id": "0448a2e8-24ef-4ce9-b5d2-2d74d520a163",
   "metadata": {},
   "outputs": [],
   "source": [
    "# variety_favorite_audition: 코드 5번이 해당 (음악/댄스 오디션 예능)\n",
    "\n",
    "df_kcontents = add_genre_column_2023(\n",
    "    df_kcontents, df_2023,\n",
    "    cols_2023=[\n",
    "        'E11', 'E11_m2', 'E11_m3', 'E11_m4', 'E11_m5',\n",
    "        'E11_m6', 'E11_m7', 'E11_m8', 'E11_m9', 'E11_m10',\n",
    "        'E11_m11', 'E11_m12', 'E11_m13', 'E11_m14'\n",
    "    ],\n",
    "    new_col_name='variety_favorite_audition',\n",
    "    target_code=5\n",
    ")\n"
   ]
  },
  {
   "cell_type": "markdown",
   "id": "fd4547a1-ea3a-4d98-95a1-7c89fad5242a",
   "metadata": {},
   "source": [
    "# (57) variety_favorite_sport"
   ]
  },
  {
   "cell_type": "code",
   "execution_count": null,
   "id": "3d3a603a-7858-4b03-a7e8-f5537392658c",
   "metadata": {},
   "outputs": [],
   "source": [
    "# variety_favorite_sport: 코드 6번이 해당 (스포츠/게임 서바이벌 예능)\n",
    "\n",
    "df_kcontents = add_genre_column_2023(\n",
    "    df_kcontents, df_2023,\n",
    "    cols_2023=[\n",
    "        'E11', 'E11_m2', 'E11_m3', 'E11_m4', 'E11_m5',\n",
    "        'E11_m6', 'E11_m7', 'E11_m8', 'E11_m9', 'E11_m10',\n",
    "        'E11_m11', 'E11_m12', 'E11_m13', 'E11_m14'\n",
    "    ],\n",
    "    new_col_name='variety_favorite_sport',\n",
    "    target_code=6\n",
    ")\n"
   ]
  },
  {
   "cell_type": "markdown",
   "id": "e88d5325-909d-41f5-a8e7-29283f45e97f",
   "metadata": {},
   "source": [
    "# (58) variety_favorite_culture"
   ]
  },
  {
   "cell_type": "code",
   "execution_count": null,
   "id": "ceca3326-eb0c-4e88-871e-a3f472fb9c05",
   "metadata": {},
   "outputs": [],
   "source": [
    "# variety_favorite_culture: 코드 7번이 해당 (교양 예능)\n",
    "\n",
    "df_kcontents = add_genre_column_2023(\n",
    "    df_kcontents, df_2023,\n",
    "    cols_2023=[\n",
    "        'E11', 'E11_m2', 'E11_m3', 'E11_m4', 'E11_m5',\n",
    "        'E11_m6', 'E11_m7', 'E11_m8', 'E11_m9', 'E11_m10',\n",
    "        'E11_m11', 'E11_m12', 'E11_m13', 'E11_m14'\n",
    "    ],\n",
    "    new_col_name='variety_favorite_culture',\n",
    "    target_code=7\n",
    ")\n"
   ]
  },
  {
   "cell_type": "markdown",
   "id": "38b36ec2-c878-4762-917b-e8e8aaaf879c",
   "metadata": {},
   "source": [
    "# (59) variety_favorite_mentality"
   ]
  },
  {
   "cell_type": "code",
   "execution_count": null,
   "id": "3bbe468d-ac46-42e1-9d2f-72cdea8842c0",
   "metadata": {},
   "outputs": [],
   "source": [
    "# variety_favorite_mentality: 코드 8번이 해당 (심리/상담 예능)\n",
    "\n",
    "df_kcontents = add_genre_column_2023(\n",
    "    df_kcontents, df_2023,\n",
    "    cols_2023=[\n",
    "        'E11', 'E11_m2', 'E11_m3', 'E11_m4', 'E11_m5',\n",
    "        'E11_m6', 'E11_m7', 'E11_m8', 'E11_m9', 'E11_m10',\n",
    "        'E11_m11', 'E11_m12', 'E11_m13', 'E11_m14'\n",
    "    ],\n",
    "    new_col_name='variety_favorite_mentality',\n",
    "    target_code=8\n",
    ")\n"
   ]
  },
  {
   "cell_type": "markdown",
   "id": "2b0ebd5c-b908-4284-92f3-a020da7eb269",
   "metadata": {},
   "source": [
    "# (60) variety_favorite_edu"
   ]
  },
  {
   "cell_type": "code",
   "execution_count": null,
   "id": "d46e6c04-d522-4cf2-85db-90753b893a31",
   "metadata": {},
   "outputs": [],
   "source": [
    "# variety_favorite_edu: 코드 9번이 해당 (육아/교육 예능)\n",
    "\n",
    "df_kcontents = add_genre_column_2023(\n",
    "    df_kcontents, df_2023,\n",
    "    cols_2023=[\n",
    "        'E11', 'E11_m2', 'E11_m3', 'E11_m4', 'E11_m5',\n",
    "        'E11_m6', 'E11_m7', 'E11_m8', 'E11_m9', 'E11_m10',\n",
    "        'E11_m11', 'E11_m12', 'E11_m13', 'E11_m14'\n",
    "    ],\n",
    "    new_col_name='variety_favorite_edu',\n",
    "    target_code=9\n",
    ")\n"
   ]
  },
  {
   "cell_type": "markdown",
   "id": "55b7b276-3ff6-4d47-9f26-a329a5218514",
   "metadata": {},
   "source": [
    "# (61) variety_favorite_talk"
   ]
  },
  {
   "cell_type": "code",
   "execution_count": null,
   "id": "d7724c30-d8f3-4276-ba4d-53d6f25c804e",
   "metadata": {},
   "outputs": [],
   "source": [
    "# variety_favorite_talk: 코드 10번이 해당 (토크쇼)\n",
    "\n",
    "df_kcontents = add_genre_column_2023(\n",
    "    df_kcontents, df_2023,\n",
    "    cols_2023=[\n",
    "        'E11', 'E11_m2', 'E11_m3', 'E11_m4', 'E11_m5',\n",
    "        'E11_m6', 'E11_m7', 'E11_m8', 'E11_m9', 'E11_m10',\n",
    "        'E11_m11', 'E11_m12', 'E11_m13', 'E11_m14'\n",
    "    ],\n",
    "    new_col_name='variety_favorite_talk',\n",
    "    target_code=10\n",
    ")\n"
   ]
  },
  {
   "cell_type": "markdown",
   "id": "ce1cae4e-e035-461b-b454-8f8a1d0555df",
   "metadata": {},
   "source": [
    "# (62) variety_favorite_quiz"
   ]
  },
  {
   "cell_type": "code",
   "execution_count": null,
   "id": "99466878-49a1-4b6d-9a45-2151394bd62f",
   "metadata": {},
   "outputs": [],
   "source": [
    "# variety_favorite_quiz: 코드 11번이 해당 (퀴즈쇼)\n",
    "\n",
    "df_kcontents = add_genre_column_2023(\n",
    "    df_kcontents, df_2023,\n",
    "    cols_2023=[\n",
    "        'E11', 'E11_m2', 'E11_m3', 'E11_m4', 'E11_m5',\n",
    "        'E11_m6', 'E11_m7', 'E11_m8', 'E11_m9', 'E11_m10',\n",
    "        'E11_m11', 'E11_m12', 'E11_m13', 'E11_m14'\n",
    "    ],\n",
    "    new_col_name='variety_favorite_quiz',\n",
    "    target_code=11\n",
    ")\n"
   ]
  },
  {
   "cell_type": "markdown",
   "id": "093f9e93-5e58-4af6-8cf5-f5b34f68d192",
   "metadata": {},
   "source": [
    "# (63) variety_favorite_show"
   ]
  },
  {
   "cell_type": "code",
   "execution_count": null,
   "id": "9d62f24c-fc1e-4c01-8450-3ad0687c8e92",
   "metadata": {},
   "outputs": [],
   "source": [
    "# variety_favorite_show: 코드 12번이 해당 (버라이어티쇼)\n",
    "\n",
    "df_kcontents = add_genre_column_2023(\n",
    "    df_kcontents, df_2023,\n",
    "    cols_2023=[\n",
    "        'E11', 'E11_m2', 'E11_m3', 'E11_m4', 'E11_m5',\n",
    "        'E11_m6', 'E11_m7', 'E11_m8', 'E11_m9', 'E11_m10',\n",
    "        'E11_m11', 'E11_m12', 'E11_m13', 'E11_m14'\n",
    "    ],\n",
    "    new_col_name='variety_favorite_show',\n",
    "    target_code=12\n",
    ")\n"
   ]
  },
  {
   "cell_type": "markdown",
   "id": "9129287c-348d-499b-ae41-a1489b794181",
   "metadata": {},
   "source": [
    "# (64) variety_favorite_couple"
   ]
  },
  {
   "cell_type": "code",
   "execution_count": null,
   "id": "48f7e929-0eb0-43be-807d-024cf8813f0a",
   "metadata": {},
   "outputs": [],
   "source": [
    "# variety_favorite_couple: 코드 13번이 해당 (부부 예능)\n",
    "\n",
    "df_kcontents = add_genre_column_2023(\n",
    "    df_kcontents, df_2023,\n",
    "    cols_2023=[\n",
    "        'E11', 'E11_m2', 'E11_m3', 'E11_m4', 'E11_m5',\n",
    "        'E11_m6', 'E11_m7', 'E11_m8', 'E11_m9', 'E11_m10',\n",
    "        'E11_m11', 'E11_m12', 'E11_m13', 'E11_m14'\n",
    "    ],\n",
    "    new_col_name='variety_favorite_couple',\n",
    "    target_code=13\n",
    ")\n"
   ]
  },
  {
   "cell_type": "markdown",
   "id": "4550b9eb-0e69-483d-8ab9-31739f1279fe",
   "metadata": {},
   "source": [
    "# (65) variety_favorite_other"
   ]
  },
  {
   "cell_type": "code",
   "execution_count": null,
   "id": "c569c3e2-1e99-4dd9-88ad-82bde3515409",
   "metadata": {},
   "outputs": [],
   "source": [
    "# variety_favorite_other: 코드 14번이 해당 (기타 예능)\n",
    "\n",
    "df_kcontents = add_genre_column_2023(\n",
    "    df_kcontents, df_2023,\n",
    "    cols_2023=[\n",
    "        'E11', 'E11_m2', 'E11_m3', 'E11_m4', 'E11_m5',\n",
    "        'E11_m6', 'E11_m7', 'E11_m8', 'E11_m9', 'E11_m10',\n",
    "        'E11_m11', 'E11_m12', 'E11_m13', 'E11_m14'\n",
    "    ],\n",
    "    new_col_name='variety_favorite_other',\n",
    "    target_code=14\n",
    ")\n"
   ]
  },
  {
   "cell_type": "markdown",
   "id": "8922632c-ccd5-4858-96c7-f3763a72c0b8",
   "metadata": {},
   "source": [
    "# (66) prefer_immediate_watch"
   ]
  },
  {
   "cell_type": "code",
   "execution_count": null,
   "id": "19aac8cf-9a8a-4079-a2d1-b681968fb1f1",
   "metadata": {},
   "outputs": [],
   "source": [
    "# 1. 공백 제거 후 숫자형으로 변환\n",
    "df_2022['F12_1'] = pd.to_numeric(df_2022['F12_1'].astype(str).str.strip(), errors='coerce')\n",
    "df_2023['E12'] = pd.to_numeric(df_2023['E12'].astype(str).str.strip(), errors='coerce')\n",
    "\n",
    "# 2. 컬럼명 통일\n",
    "df_2022_watch = df_2022[['user_id', 'F12_1']].copy().rename(columns={'F12_1': 'prefer_immediate_watch'})\n",
    "df_2023_watch = df_2023[['user_id', 'E12']].copy().rename(columns={'E12': 'prefer_immediate_watch'})\n",
    "\n",
    "# 3. 결합\n",
    "df_watch_combined = pd.concat([df_2022_watch, df_2023_watch], ignore_index=True)\n",
    "\n",
    "# 4. 병합\n",
    "df_kcontents = df_kcontents.merge(df_watch_combined, on='user_id', how='left')\n"
   ]
  },
  {
   "cell_type": "markdown",
   "id": "69819cf4-0623-484c-8eb6-a5c01c65f705",
   "metadata": {},
   "source": [
    "# (67) usage_inconvenience"
   ]
  },
  {
   "cell_type": "code",
   "execution_count": null,
   "id": "8148b6b2-1b6f-4c73-8110-297d8261afad",
   "metadata": {},
   "outputs": [],
   "source": [
    "# 1. 공백 제거 후 숫자형으로 변환\n",
    "df_2022['F13'] = pd.to_numeric(df_2022['F13'].astype(str).str.strip(), errors='coerce')\n",
    "df_2023['E13'] = pd.to_numeric(df_2023['E13'].astype(str).str.strip(), errors='coerce')\n",
    "\n",
    "# 2. 컬럼명 맞추기\n",
    "df_2022_incon = df_2022[['user_id', 'F13']].copy().rename(columns={'F13': 'usage_inconvenience'})\n",
    "df_2023_incon = df_2023[['user_id', 'E13']].copy().rename(columns={'E13': 'usage_inconvenience'})\n",
    "\n",
    "# 3. 두 데이터프레임 합치기\n",
    "df_incon_combined = pd.concat([df_2022_incon, df_2023_incon], ignore_index=True)\n",
    "\n",
    "# 4. 한글 라벨 매핑\n",
    "inconvenience_map = {\n",
    "    1: '언어문제 (더빙, 자막 등)',\n",
    "    2: '이용 요금이 비쌈',\n",
    "    3: '한국 콘텐츠에 접근하기 어려움',\n",
    "    4: '시청할 수 있는 콘텐츠가 적다',\n",
    "    5: '내용을 이해하기 힘들다',\n",
    "    6: '기타',\n",
    "    7: '불편한 점이 없다'\n",
    "}\n",
    "df_incon_combined['usage_inconvenience'] = df_incon_combined['usage_inconvenience'].map(inconvenience_map)\n",
    "\n",
    "# 5. 병합\n",
    "df_kcontents = df_kcontents.merge(df_incon_combined, on='user_id', how='left')\n"
   ]
  },
  {
   "cell_type": "markdown",
   "id": "b40753f4-0f99-4233-aaa6-51145287954c",
   "metadata": {},
   "source": [
    "# (68) nonusage_reason"
   ]
  },
  {
   "cell_type": "code",
   "execution_count": null,
   "id": "b84d76aa-b4c7-4671-b9d1-af012d4af18c",
   "metadata": {},
   "outputs": [],
   "source": [
    "# 1. 공백 제거 후 숫자형으로 변환\n",
    "df_2022['F14'] = pd.to_numeric(df_2022['F14'].astype(str).str.strip(), errors='coerce')\n",
    "df_2023['E14'] = pd.to_numeric(df_2023['E14'].astype(str).str.strip(), errors='coerce')\n",
    "\n",
    "# 2. 컬럼명 맞추기\n",
    "df_2022_nonuse = df_2022[['user_id', 'F14']].copy().rename(columns={'F14': 'nonusage_reason'})\n",
    "df_2023_nonuse = df_2023[['user_id', 'E14']].copy().rename(columns={'E14': 'nonusage_reason'})\n",
    "\n",
    "# 3. 두 데이터프레임 합치기\n",
    "df_nonuse_combined = pd.concat([df_2022_nonuse, df_2023_nonuse], ignore_index=True)\n",
    "\n",
    "# 4. 한글 라벨 매핑\n",
    "nonusage_reason_map = {\n",
    "    1: '한국 콘텐츠를 경험할 기회/방법이 없음',\n",
    "    2: '한국 콘텐츠에 관심이 없음'\n",
    "}\n",
    "df_nonuse_combined['nonusage_reason'] = df_nonuse_combined['nonusage_reason'].map(nonusage_reason_map)\n",
    "\n",
    "# 5. 병합\n",
    "df_kcontents = df_kcontents.merge(df_nonuse_combined, on='user_id', how='left')\n"
   ]
  },
  {
   "cell_type": "markdown",
   "id": "a82d24ec-8b55-47ba-a187-b0bc6dcd09aa",
   "metadata": {},
   "source": [
    "# (69) preferred_future_drama"
   ]
  },
  {
   "cell_type": "code",
   "execution_count": null,
   "id": "16f04f7b-25e3-4c62-8dd9-767bc1bfde94",
   "metadata": {},
   "outputs": [],
   "source": [
    "future_cols_2022 = ['F16_1', 'F16_2', 'F16_3', 'F16_4', 'F16_5', 'F16_6', 'F16_7', 'F16_8']\n",
    "df_temp = df_2022[['user_id'] + future_cols_2022].copy()\n",
    "\n",
    "# 0/1 처리\n",
    "for col in future_cols_2022:\n",
    "    df_temp[col] = pd.to_numeric(df_temp[col], errors='coerce').fillna(0)\n",
    "    df_temp[col] = df_temp[col].apply(lambda x: 1 if x != 0 else 0)\n",
    "\n",
    "# 하나라도 1이면 1\n",
    "df_temp['preferred_future_drama'] = df_temp[future_cols_2022].max(axis=1)\n",
    "\n",
    "# 필요한 컬럼만\n",
    "df_temp = df_temp[['user_id', 'preferred_future_drama']]\n",
    "\n",
    "# 병합\n",
    "df_kcontents = df_kcontents.merge(df_temp, on='user_id', how='left')\n"
   ]
  },
  {
   "cell_type": "markdown",
   "id": "6628197f-c9b3-4f97-8d3b-c3f4560a7226",
   "metadata": {},
   "source": [
    "# (70) preferred_future_movie"
   ]
  },
  {
   "cell_type": "code",
   "execution_count": null,
   "id": "bdd988da-0e52-42ea-a71b-e1c97f5e9846",
   "metadata": {},
   "outputs": [],
   "source": [
    "future_cols_2022 = ['F16_1', 'F16_2', 'F16_3', 'F16_4', 'F16_5', 'F16_6', 'F16_7', 'F16_8']\n",
    "df_temp = df_2022[['user_id'] + future_cols_2022].copy()\n",
    "\n",
    "# 0/1 처리\n",
    "for col in future_cols_2022:\n",
    "    df_temp[col] = pd.to_numeric(df_temp[col], errors='coerce').fillna(0)\n",
    "    df_temp[col] = df_temp[col].apply(lambda x: 1 if x != 0 else 0)\n",
    "\n",
    "# 하나라도 1이면 1\n",
    "df_temp['preferred_future_movie'] = df_temp[future_cols_2022].max(axis=1)\n",
    "\n",
    "# 필요한 컬럼만\n",
    "df_temp = df_temp[['user_id', 'preferred_future_movie']]\n",
    "\n",
    "# 병합\n",
    "df_kcontents = df_kcontents.merge(df_temp, on='user_id', how='left')\n"
   ]
  },
  {
   "cell_type": "markdown",
   "id": "fe3ca169-e0d8-4da0-be06-d43bf335cf3c",
   "metadata": {},
   "source": [
    "# (71) preferred_future_variety"
   ]
  },
  {
   "cell_type": "code",
   "execution_count": null,
   "id": "8c4ea248-d76c-49d8-a487-6946a9314051",
   "metadata": {},
   "outputs": [],
   "source": [
    "future_cols_2022 = ['F16_1', 'F16_2', 'F16_3', 'F16_4', 'F16_5', 'F16_6', 'F16_7', 'F16_8']\n",
    "df_temp = df_2022[['user_id'] + future_cols_2022].copy()\n",
    "\n",
    "# 0/1 처리\n",
    "for col in future_cols_2022:\n",
    "    df_temp[col] = pd.to_numeric(df_temp[col], errors='coerce').fillna(0)\n",
    "    df_temp[col] = df_temp[col].apply(lambda x: 1 if x != 0 else 0)\n",
    "\n",
    "# 하나라도 1이면 1\n",
    "df_temp['preferred_future_variety'] = df_temp[future_cols_2022].max(axis=1)\n",
    "\n",
    "# 필요한 컬럼만\n",
    "df_temp = df_temp[['user_id', 'preferred_future_variety']]\n",
    "\n",
    "# 병합\n",
    "df_kcontents = df_kcontents.merge(df_temp, on='user_id', how='left')\n"
   ]
  },
  {
   "cell_type": "markdown",
   "id": "3a7e19f0-f670-4292-92bc-f3db642ae2e2",
   "metadata": {},
   "source": [
    "# (72) preferred_future_music"
   ]
  },
  {
   "cell_type": "code",
   "execution_count": null,
   "id": "6f109b5b-37c9-4b64-969c-24f98b242de9",
   "metadata": {},
   "outputs": [],
   "source": [
    "future_cols_2022 = ['F16_1', 'F16_2', 'F16_3', 'F16_4', 'F16_5', 'F16_6', 'F16_7', 'F16_8']\n",
    "df_temp = df_2022[['user_id'] + future_cols_2022].copy()\n",
    "\n",
    "# 0/1 처리\n",
    "for col in future_cols_2022:\n",
    "    df_temp[col] = pd.to_numeric(df_temp[col], errors='coerce').fillna(0)\n",
    "    df_temp[col] = df_temp[col].apply(lambda x: 1 if x != 0 else 0)\n",
    "\n",
    "# 하나라도 1이면 1\n",
    "df_temp['preferred_future_music'] = df_temp[future_cols_2022].max(axis=1)\n",
    "\n",
    "# 필요한 컬럼만\n",
    "df_temp = df_temp[['user_id', 'preferred_future_music']]\n",
    "\n",
    "# 병합\n",
    "df_kcontents = df_kcontents.merge(df_temp, on='user_id', how='left')\n"
   ]
  },
  {
   "cell_type": "markdown",
   "id": "f5f1ee21-d283-4a54-8a2d-e9680379e8a6",
   "metadata": {},
   "source": [
    "# (73) preferred_future_webtoon"
   ]
  },
  {
   "cell_type": "code",
   "execution_count": null,
   "id": "d30dbbba-6925-46b5-a9e0-18339243fb7d",
   "metadata": {},
   "outputs": [],
   "source": [
    "future_cols_2022 = ['F16_1', 'F16_2', 'F16_3', 'F16_4', 'F16_5', 'F16_6', 'F16_7', 'F16_8']\n",
    "df_temp = df_2022[['user_id'] + future_cols_2022].copy()\n",
    "\n",
    "# 0/1 처리\n",
    "for col in future_cols_2022:\n",
    "    df_temp[col] = pd.to_numeric(df_temp[col], errors='coerce').fillna(0)\n",
    "    df_temp[col] = df_temp[col].apply(lambda x: 1 if x != 0 else 0)\n",
    "\n",
    "# 하나라도 1이면 1\n",
    "df_temp['preferred_future_webtoon'] = df_temp[future_cols_2022].max(axis=1)\n",
    "\n",
    "# 필요한 컬럼만\n",
    "df_temp = df_temp[['user_id', 'preferred_future_webtoon']]\n",
    "\n",
    "# 병합\n",
    "df_kcontents = df_kcontents.merge(df_temp, on='user_id', how='left')\n"
   ]
  },
  {
   "cell_type": "markdown",
   "id": "e699b770-8201-4f6c-aeaf-94a7509e2936",
   "metadata": {},
   "source": [
    "# (74) preferred_future_webnovel"
   ]
  },
  {
   "cell_type": "code",
   "execution_count": null,
   "id": "72fce9ec-764a-495a-bd1e-11e2080738da",
   "metadata": {},
   "outputs": [],
   "source": [
    "future_cols_2022 = ['F16_1', 'F16_2', 'F16_3', 'F16_4', 'F16_5', 'F16_6', 'F16_7', 'F16_8']\n",
    "df_temp = df_2022[['user_id'] + future_cols_2022].copy()\n",
    "\n",
    "# 0/1 처리\n",
    "for col in future_cols_2022:\n",
    "    df_temp[col] = pd.to_numeric(df_temp[col], errors='coerce').fillna(0)\n",
    "    df_temp[col] = df_temp[col].apply(lambda x: 1 if x != 0 else 0)\n",
    "\n",
    "# 하나라도 1이면 1\n",
    "df_temp['preferred_future_webnovel'] = df_temp[future_cols_2022].max(axis=1)\n",
    "\n",
    "# 필요한 컬럼만\n",
    "df_temp = df_temp[['user_id', 'preferred_future_webnovel']]\n",
    "\n",
    "# 병합\n",
    "df_kcontents = df_kcontents.merge(df_temp, on='user_id', how='left')\n"
   ]
  },
  {
   "cell_type": "markdown",
   "id": "946120e8-00f3-4242-a6f8-56b5c81e72e6",
   "metadata": {},
   "source": [
    "# (75) preferred_future_game"
   ]
  },
  {
   "cell_type": "code",
   "execution_count": null,
   "id": "be8615eb-6fba-4282-8726-214ecc27fb31",
   "metadata": {},
   "outputs": [],
   "source": [
    "future_cols_2022 = ['F16_1', 'F16_2', 'F16_3', 'F16_4', 'F16_5', 'F16_6', 'F16_7', 'F16_8']\n",
    "df_temp = df_2022[['user_id'] + future_cols_2022].copy()\n",
    "\n",
    "# 0/1 처리\n",
    "for col in future_cols_2022:\n",
    "    df_temp[col] = pd.to_numeric(df_temp[col], errors='coerce').fillna(0)\n",
    "    df_temp[col] = df_temp[col].apply(lambda x: 1 if x != 0 else 0)\n",
    "\n",
    "# 하나라도 1이면 1\n",
    "df_temp['preferred_future_game'] = df_temp[future_cols_2022].max(axis=1)\n",
    "\n",
    "# 필요한 컬럼만\n",
    "df_temp = df_temp[['user_id', 'preferred_future_game']]\n",
    "\n",
    "# 병합\n",
    "df_kcontents = df_kcontents.merge(df_temp, on='user_id', how='left')\n"
   ]
  },
  {
   "cell_type": "markdown",
   "id": "15ccd6c5-5e29-4e79-a074-0357d36922b6",
   "metadata": {},
   "source": [
    "# (76) preferred_future_other"
   ]
  },
  {
   "cell_type": "code",
   "execution_count": null,
   "id": "ae64af1f-5cc3-48e6-947c-81159b7294f2",
   "metadata": {},
   "outputs": [],
   "source": [
    "future_cols_2022 = ['F16_1', 'F16_2', 'F16_3', 'F16_4', 'F16_5', 'F16_6', 'F16_7', 'F16_8']\n",
    "df_temp = df_2022[['user_id'] + future_cols_2022].copy()\n",
    "\n",
    "# 0/1 처리\n",
    "for col in future_cols_2022:\n",
    "    df_temp[col] = pd.to_numeric(df_temp[col], errors='coerce').fillna(0)\n",
    "    df_temp[col] = df_temp[col].apply(lambda x: 1 if x != 0 else 0)\n",
    "\n",
    "# F16_8 값만 추출\n",
    "df_temp['preferred_future_other'] = df_temp['F16_8']\n",
    "\n",
    "# 필요한 컬럼만\n",
    "df_temp = df_temp[['user_id', 'preferred_future_other']]\n",
    "\n",
    "# 병합\n",
    "df_kcontents = df_kcontents.merge(df_temp, on='user_id', how='left')\n"
   ]
  },
  {
   "cell_type": "markdown",
   "id": "cece8ab7-3fda-4134-b70a-25d7bc458f09",
   "metadata": {},
   "source": [
    "# (77) desired_genre_drama"
   ]
  },
  {
   "cell_type": "code",
   "execution_count": null,
   "id": "798c4d82-6d4c-499a-b94c-0d9ec688701f",
   "metadata": {},
   "outputs": [],
   "source": [
    "df_kcontents = add_genre_column_2023(\n",
    "    df_kcontents, df_2023,\n",
    "    cols_2023=[\n",
    "        'E16', 'E16_m2', 'E16_m3', 'E16_m4',\n",
    "        'E16_m5', 'E16_m6', 'E16_m7', 'E16_m8'\n",
    "    ],\n",
    "    new_col_name='desired_genre_drama',\n",
    "    target_code=1\n",
    ")\n"
   ]
  },
  {
   "cell_type": "markdown",
   "id": "ed9c7d80-317d-4104-a2fd-6a1cfec569a5",
   "metadata": {},
   "source": [
    "# (78) desired_genre_movie"
   ]
  },
  {
   "cell_type": "code",
   "execution_count": null,
   "id": "20615f48-68e6-4b67-8e30-ebf5bd39536d",
   "metadata": {},
   "outputs": [],
   "source": [
    "df_kcontents = add_genre_column_2023(\n",
    "    df_kcontents, df_2023,\n",
    "    cols_2023=[\n",
    "        'E16', 'E16_m2', 'E16_m3', 'E16_m4',\n",
    "        'E16_m5', 'E16_m6', 'E16_m7', 'E16_m8'\n",
    "    ],\n",
    "    new_col_name='desired_genre_movie',\n",
    "    target_code=2\n",
    ")\n"
   ]
  },
  {
   "cell_type": "markdown",
   "id": "572cf967-0001-4c19-b0c5-23a3075c7861",
   "metadata": {},
   "source": [
    "# (79) desired_genre_variety"
   ]
  },
  {
   "cell_type": "code",
   "execution_count": null,
   "id": "7c72b2c9-8637-4f8d-9c03-6fa30c0a83d6",
   "metadata": {},
   "outputs": [],
   "source": [
    "df_kcontents = add_genre_column_2023(\n",
    "    df_kcontents, df_2023,\n",
    "    cols_2023=[\n",
    "        'E16', 'E16_m2', 'E16_m3', 'E16_m4',\n",
    "        'E16_m5', 'E16_m6', 'E16_m7', 'E16_m8'\n",
    "    ],\n",
    "    new_col_name='desired_genre_variety',\n",
    "    target_code=3\n",
    ")\n"
   ]
  },
  {
   "cell_type": "markdown",
   "id": "32859816-332f-4fe9-9f90-98e483f601cf",
   "metadata": {},
   "source": [
    "# (80) desired_genre_music"
   ]
  },
  {
   "cell_type": "code",
   "execution_count": null,
   "id": "14085e5c-8794-4279-85e4-7c6a1ea4967b",
   "metadata": {},
   "outputs": [],
   "source": [
    "df_kcontents = add_genre_column_2023(\n",
    "    df_kcontents, df_2023,\n",
    "    cols_2023=[\n",
    "        'E16', 'E16_m2', 'E16_m3', 'E16_m4',\n",
    "        'E16_m5', 'E16_m6', 'E16_m7', 'E16_m8'\n",
    "    ],\n",
    "    new_col_name='desired_genre_music',\n",
    "    target_code=4\n",
    ")\n"
   ]
  },
  {
   "cell_type": "markdown",
   "id": "d597c91f-56d4-47cd-8485-36c56d3fd279",
   "metadata": {},
   "source": [
    "# (81) desired_genre_webtoon"
   ]
  },
  {
   "cell_type": "code",
   "execution_count": null,
   "id": "607da8cc-656d-4a40-b5fa-fdb1c37738d9",
   "metadata": {},
   "outputs": [],
   "source": [
    "df_kcontents = add_genre_column_2023(\n",
    "    df_kcontents, df_2023,\n",
    "    cols_2023=[\n",
    "        'E16', 'E16_m2', 'E16_m3', 'E16_m4',\n",
    "        'E16_m5', 'E16_m6', 'E16_m7', 'E16_m8'\n",
    "    ],\n",
    "    new_col_name='desired_genre_webtoon',\n",
    "    target_code=5\n",
    ")\n"
   ]
  },
  {
   "cell_type": "markdown",
   "id": "4d4cae0d-510f-4ed6-991a-8cbd907081bb",
   "metadata": {},
   "source": [
    "# (82) desired_genre_webnovel"
   ]
  },
  {
   "cell_type": "code",
   "execution_count": null,
   "id": "be363faa-6ed7-44d9-93d1-c7278d15728a",
   "metadata": {},
   "outputs": [],
   "source": [
    "df_kcontents = add_genre_column_2023(\n",
    "    df_kcontents, df_2023,\n",
    "    cols_2023=[\n",
    "        'E16', 'E16_m2', 'E16_m3', 'E16_m4',\n",
    "        'E16_m5', 'E16_m6', 'E16_m7', 'E16_m8'\n",
    "    ],\n",
    "    new_col_name='desired_genre_webnovel',\n",
    "    target_code=6\n",
    ")\n"
   ]
  },
  {
   "cell_type": "markdown",
   "id": "9b6843a4-23f1-46aa-b1ae-b8a431b41f6c",
   "metadata": {},
   "source": [
    "# (83) desired_genre_game"
   ]
  },
  {
   "cell_type": "code",
   "execution_count": null,
   "id": "df968d2a-66f8-4440-bd8d-85f8ae3b0b94",
   "metadata": {},
   "outputs": [],
   "source": [
    "df_kcontents = add_genre_column_2023(\n",
    "    df_kcontents, df_2023,\n",
    "    cols_2023=[\n",
    "        'E16', 'E16_m2', 'E16_m3', 'E16_m4',\n",
    "        'E16_m5', 'E16_m6', 'E16_m7', 'E16_m8'\n",
    "    ],\n",
    "    new_col_name='desired_genre_game',\n",
    "    target_code=7\n",
    ")\n"
   ]
  },
  {
   "cell_type": "markdown",
   "id": "122c8859-5838-49f2-9153-7b4b5da44953",
   "metadata": {},
   "source": [
    "# (84) desired_genre_other"
   ]
  },
  {
   "cell_type": "code",
   "execution_count": null,
   "id": "0585fa05-f2de-4553-afd9-78d878d499c0",
   "metadata": {},
   "outputs": [],
   "source": [
    "df_kcontents = add_genre_column_2023(\n",
    "    df_kcontents, df_2023,\n",
    "    cols_2023=[\n",
    "        'E16', 'E16_m2', 'E16_m3', 'E16_m4',\n",
    "        'E16_m5', 'E16_m6', 'E16_m7', 'E16_m8'\n",
    "    ],\n",
    "    new_col_name='desired_genre_other',\n",
    "    target_code=8\n",
    ")\n"
   ]
  },
  {
   "cell_type": "code",
   "execution_count": null,
   "id": "3e814aa8-dea2-4a4a-8d44-c5b48be65869",
   "metadata": {},
   "outputs": [],
   "source": [
    "# 2022 기준 컬럼명 : [2022 컬럼, 2023 컬럼]\n",
    "merge_column_pairs = {\n",
    "    'preferred_future_drama':   ['preferred_future_drama', 'desired_genre_drama'],\n",
    "    'preferred_future_movie':   ['preferred_future_movie', 'desired_genre_movie'],\n",
    "    'preferred_future_variety': ['preferred_future_variety', 'desired_genre_variety'],\n",
    "    'preferred_future_music':   ['preferred_future_music', 'desired_genre_music'],\n",
    "    'preferred_future_webtoon': ['preferred_future_webtoon', 'desired_genre_webtoon'],\n",
    "    'preferred_future_webnovel': ['preferred_future_webnovel', 'desired_genre_webnovel'],\n",
    "    'preferred_future_game':    ['preferred_future_game', 'desired_genre_game'],\n",
    "    'preferred_future_other':   ['preferred_future_other', 'desired_genre_other'],\n",
    "}\n"
   ]
  },
  {
   "cell_type": "code",
   "execution_count": null,
   "id": "2ce301c4-5c74-405c-9606-b5b6414a9b9e",
   "metadata": {},
   "outputs": [],
   "source": [
    "# 병합 수행\n",
    "for new_col, (col_2022, col_2023) in merge_column_pairs.items():\n",
    "    df_kcontents[new_col] = df_kcontents[[col_2022, col_2023]].max(axis=1)\n",
    "# 3. 2023 컬럼 삭제\n",
    "drop_cols = [col_2023 for (_, col_2023) in merge_column_pairs.values()]\n",
    "df_kcontents.drop(columns=drop_cols, inplace=True)"
   ]
  },
  {
   "cell_type": "markdown",
   "id": "4eb51ead-141d-4598-944d-60fcbfd7cfa6",
   "metadata": {},
   "source": [
    "# (85) desired_genre"
   ]
  },
  {
   "cell_type": "code",
   "execution_count": null,
   "id": "227fa319-b39e-4c76-aa2f-b89067fab194",
   "metadata": {},
   "outputs": [],
   "source": [
    "# 1. 공백 제거 후 숫자형으로 변환\n",
    "df_2022['F15'] = pd.to_numeric(df_2022['F15'].astype(str).str.strip(), errors='coerce')\n",
    "df_2023['E15'] = pd.to_numeric(df_2023['E15'].astype(str).str.strip(), errors='coerce')\n",
    "\n",
    "# 2. 컬럼명 맞추기\n",
    "df_2022_desired = df_2022[['user_id', 'F15']].copy().rename(columns={'F15': 'desired_genre'})\n",
    "df_2023_desired = df_2023[['user_id', 'E15']].copy().rename(columns={'E15': 'desired_genre'})\n",
    "\n",
    "# 3. 데이터 병합\n",
    "df_desired_combined = pd.concat([df_2022_desired, df_2023_desired], ignore_index=True)\n",
    "\n",
    "# 4. 한글 라벨 매핑\n",
    "desired_genre_map = {\n",
    "    1: '드라마/시리즈물',\n",
    "    2: '영화',\n",
    "    3: '예능/버라이어티',\n",
    "    4: '음악',\n",
    "    5: '웹툰',\n",
    "    6: '웹소설',\n",
    "    7: '게임',\n",
    "    8: '기타'\n",
    "}\n",
    "df_desired_combined['desired_genre'] = df_desired_combined['desired_genre'].map(desired_genre_map)\n",
    "\n",
    "# 5. 병합\n",
    "df_kcontents = df_kcontents.merge(df_desired_combined, on='user_id', how='left')\n"
   ]
  },
  {
   "cell_type": "code",
   "execution_count": null,
   "id": "273a7dc7-60e0-4cdb-974a-81b948f6ae85",
   "metadata": {},
   "outputs": [],
   "source": [
    "# 모든 컬럼명 확인\n",
    "df_kcontents.columns.tolist()\n"
   ]
  },
  {
   "cell_type": "code",
   "execution_count": null,
   "id": "2e2f5b98-6d78-4860-9c74-21c3a49f1c7d",
   "metadata": {},
   "outputs": [],
   "source": [
    "# 최종 DB 업로드\n",
    "df_kcontents.to_sql(name=\"kcontents\", con=engine, index=False, if_exists=\"replace\")\n",
    "print(\"kcontents 테이블 최종 업데이트 완료!\")"
   ]
  },
  {
   "cell_type": "code",
   "execution_count": null,
   "id": "c9883d8a-bb95-4f5c-ab12-296980716596",
   "metadata": {
    "scrolled": true
   },
   "outputs": [],
   "source": [
    "df_kcontents"
   ]
  },
  {
   "cell_type": "code",
   "execution_count": null,
   "id": "21347602-f181-497c-9547-071f2bb71f28",
   "metadata": {},
   "outputs": [],
   "source": []
  }
 ],
 "metadata": {
  "kernelspec": {
   "display_name": "Python 3 (ipykernel)",
   "language": "python",
   "name": "python3"
  },
  "language_info": {
   "codemirror_mode": {
    "name": "ipython",
    "version": 3
   },
   "file_extension": ".py",
   "mimetype": "text/x-python",
   "name": "python",
   "nbconvert_exporter": "python",
   "pygments_lexer": "ipython3",
   "version": "3.12.7"
  }
 },
 "nbformat": 4,
 "nbformat_minor": 5
}
